{
 "cells": [
  {
   "cell_type": "markdown",
   "metadata": {},
   "source": [
    "# When Do Neural Networks Outperform Kernel Methods?"
   ]
  },
  {
   "cell_type": "markdown",
   "metadata": {},
   "source": [
    "## Imports"
   ]
  },
  {
   "cell_type": "code",
   "execution_count": 1,
   "metadata": {},
   "outputs": [
    {
     "name": "stderr",
     "output_type": "stream",
     "text": [
      "2025-02-01 17:57:47.068824: I tensorflow/core/util/port.cc:153] oneDNN custom operations are on. You may see slightly different numerical results due to floating-point round-off errors from different computation orders. To turn them off, set the environment variable `TF_ENABLE_ONEDNN_OPTS=0`.\n",
      "2025-02-01 17:57:47.077121: I external/local_xla/xla/tsl/cuda/cudart_stub.cc:32] Could not find cuda drivers on your machine, GPU will not be used.\n",
      "2025-02-01 17:57:47.178499: I external/local_xla/xla/tsl/cuda/cudart_stub.cc:32] Could not find cuda drivers on your machine, GPU will not be used.\n",
      "2025-02-01 17:57:47.304430: E external/local_xla/xla/stream_executor/cuda/cuda_fft.cc:477] Unable to register cuFFT factory: Attempting to register factory for plugin cuFFT when one has already been registered\n",
      "WARNING: All log messages before absl::InitializeLog() is called are written to STDERR\n",
      "E0000 00:00:1738429067.404896  476934 cuda_dnn.cc:8310] Unable to register cuDNN factory: Attempting to register factory for plugin cuDNN when one has already been registered\n",
      "E0000 00:00:1738429067.431303  476934 cuda_blas.cc:1418] Unable to register cuBLAS factory: Attempting to register factory for plugin cuBLAS when one has already been registered\n",
      "2025-02-01 17:57:47.667263: I tensorflow/core/platform/cpu_feature_guard.cc:210] This TensorFlow binary is optimized to use available CPU instructions in performance-critical operations.\n",
      "To enable the following instructions: AVX2 AVX512F AVX512_VNNI FMA, in other operations, rebuild TensorFlow with the appropriate compiler flags.\n"
     ]
    }
   ],
   "source": [
    "import numpy as np\n",
    "from tensorflow.keras.utils import to_categorical\n",
    "from sklearn.metrics import accuracy_score, confusion_matrix\n",
    "import matplotlib.pyplot as plt\n",
    "import seaborn as sns\n",
    "from sklearn.linear_model import RidgeClassifier\n",
    "from tqdm import tqdm \n",
    "\n",
    "import importlib\n",
    "import model\n",
    "importlib.reload(model)\n",
    "from model import NTKRR\n",
    "from model import RFKRR\n",
    "from model import NN"
   ]
  },
  {
   "cell_type": "markdown",
   "metadata": {},
   "source": [
    "## Pipeline pour entrainer les différents modèles"
   ]
  },
  {
   "cell_type": "code",
   "execution_count": 2,
   "metadata": {},
   "outputs": [],
   "source": [
    "class Pipeline:\n",
    "    \"\"\"\n",
    "    Pipeline pour l'entraînement et l'évaluation de plusieurs modèles de classification \n",
    "    sur les datasets utilisés.\n",
    "\n",
    "    Ce pipeline permet d'exécuter différents modèles :\n",
    "    - Réseau de neurones dense (MLP)\n",
    "    - Réseau de neurones convolutionnel (CNN)\n",
    "    - Modèle basé sur le Neural Tangent Kernel Ridge Regression (NTKRR)\n",
    "    - Modèle basé sur les Random Fourier Features Ridge Regression (RFKRR)\n",
    "    \n",
    "    Il inclut également des fonctions pour afficher une matrice de confusion et des prédictions visuelles.\n",
    "    \"\"\"\n",
    "\n",
    "    def __init__(self, X_train, X_test, y_train, y_test, classes_to_keep=None):\n",
    "        \"\"\"\n",
    "        Initialise le pipeline en stockant les données d'entraînement et de test.\n",
    "\n",
    "        Args:\n",
    "            X_train (numpy.ndarray): Données d'entraînement (images).\n",
    "            X_test (numpy.ndarray): Données de test (images).\n",
    "            y_train (numpy.ndarray): Labels des données d'entraînement.\n",
    "            y_test (numpy.ndarray): Labels des données de test.\n",
    "            classes_to_keep (list, optionnel): Liste des classes à conserver. Défaut : `[0, 1, ..., 9]`.\n",
    "        \"\"\"\n",
    "        if classes_to_keep is None:\n",
    "            classes_to_keep = list(range(10))\n",
    "\n",
    "        self.image_size = X_train[0].shape\n",
    "        self.X_train_subset = X_train\n",
    "        self.y_train_subset = y_train\n",
    "        self.X_test_subset = X_test\n",
    "        self.y_test_subset = y_test\n",
    "        self.classes_to_keep = classes_to_keep\n",
    "        self.y_pred = None\n",
    "        self.method = None\n",
    "\n",
    "        self.y_train_one_hot = to_categorical(self.y_train_subset, num_classes=len(self.classes_to_keep))\n",
    "        self.y_test_one_hot = to_categorical(self.y_test_subset, num_classes=len(self.classes_to_keep))\n",
    "\n",
    "    def run_nn(self, learning_rate=0.001, epochs=15, batch_size=64):\n",
    "        \"\"\"\n",
    "        Exécute un réseau de neurones dense (MLP).\n",
    "\n",
    "        Args:\n",
    "            learning_rate (float, optionnel): Taux d'apprentissage. Défaut à 0.001.\n",
    "            epochs (int, optionnel): Nombre d'époques d'entraînement. Défaut à 15.\n",
    "            batch_size (int, optionnel): Taille du batch. Défaut à 64.\n",
    "        \"\"\"\n",
    "        print(\"Exécution NN\")\n",
    "\n",
    "        num_classes = len(self.classes_to_keep)\n",
    "      \n",
    "        X_train_tensor = self.X_train_subset.reshape(-1, 28, 28, 1)\n",
    "        X_train_tensor = X_train_tensor / 255.0\n",
    "        X_test_tensor = self.X_test_subset.reshape(-1, 28, 28, 1)  \n",
    "        X_test_tensor = X_test_tensor / 255.0\n",
    "\n",
    "        if len(self.y_train_subset.shape) == 1:\n",
    "            self.y_train_subset = to_categorical(self.y_train_subset, num_classes=num_classes)\n",
    "            self.y_test_subset = to_categorical(self.y_test_subset, num_classes=num_classes)\n",
    "\n",
    "        model = NN(num_classes=num_classes, learning_rate=learning_rate, conv=False)\n",
    "        model.fit(X_train_tensor, self.y_train_subset, epochs=epochs, batch_size=batch_size, validation_data=(X_test_tensor, self.y_test_subset))\n",
    "\n",
    "        self.y_pred = np.argmax(model.predict(X_test_tensor), axis=1)\n",
    "\n",
    "    def run_cnn(self, learning_rate=0.001, epochs=15, batch_size=64):\n",
    "        \"\"\"\n",
    "        Exécute un réseau de neurones convolutionnel (CNN).\n",
    "\n",
    "        Args:\n",
    "            learning_rate (float, optionnel): Taux d'apprentissage. Défaut à 0.001.\n",
    "            epochs (int, optionnel): Nombre d'époques d'entraînement. Défaut à 15.\n",
    "            batch_size (int, optionnel): Taille du batch. Défaut à 64.\n",
    "        \"\"\"\n",
    "        print(\"Exécution CNN\")\n",
    "\n",
    "        num_classes = len(self.classes_to_keep)\n",
    "\n",
    "        X_train_tensor = self.X_train_subset.reshape(-1, 28, 28, 1)\n",
    "        X_test_tensor = self.X_test_subset.reshape(-1, 28, 28, 1)\n",
    "\n",
    "        if len(self.y_train_subset.shape) == 1:\n",
    "            self.y_train_subset = to_categorical(self.y_train_subset, num_classes=num_classes)\n",
    "            self.y_test_subset = to_categorical(self.y_test_subset, num_classes=num_classes)\n",
    "\n",
    "        model = NN(num_classes=num_classes, learning_rate=learning_rate, conv=True)\n",
    "        model.fit(X_train_tensor, self.y_train_subset, epochs=epochs, batch_size=batch_size, validation_data=(X_test_tensor, self.y_test_subset))\n",
    "\n",
    "        self.y_pred = np.argmax(model.predict(X_test_tensor), axis=1)\n",
    "\n",
    "    def run_nt_krr(self, nt_dim=4096, alpha=0.1):\n",
    "        \"\"\"\n",
    "        Exécute un modèle basé sur le Neural Tangent Kernel Ridge Regression (NTKRR).\n",
    "\n",
    "        Args:\n",
    "            nt_dim (int, optionnel): Dimension cachée pour l'approximation du NTK. Défaut à 4096 comme spécifié dans le papier.\n",
    "            alpha (float, optionnel): Facteur de régularisation pour Ridge Regression. Défaut à 0.1.\n",
    "        \"\"\"\n",
    "        print(\"Exécution NTKRR\")\n",
    "\n",
    "        output_dim = len(self.classes_to_keep)\n",
    "\n",
    "        model = NTKRR(hidden_dim=nt_dim, output_dim=output_dim, image_size=self.image_size)\n",
    "\n",
    "        kernel_train = model.compute_ntk(self.X_train_subset, self.X_train_subset)\n",
    "        kernel_test = model.compute_ntk(self.X_test_subset, self.X_train_subset)\n",
    "\n",
    "        ridge = RidgeClassifier(alpha=alpha, fit_intercept=False)\n",
    "        ridge.fit(kernel_train, self.y_train_subset)\n",
    "\n",
    "        self.y_pred = ridge.predict(kernel_test)\n",
    "\n",
    "    def run_rf_krr(self, rf_dim=321126, alpha=0.01, sigma=0.01):\n",
    "        \"\"\"\n",
    "        Exécute un modèle basé sur les Random Fourier Features Ridge Regression (RFKRR).\n",
    "\n",
    "        Args:\n",
    "            rf_dim (int, optionnel): Dimension cachée pour les Fourier Features. Défaut à 321126 comme spécifié dans le papier.\n",
    "            alpha (float, optionnel): Facteur de régularisation. Défaut à 0.01.\n",
    "            sigma (float, optionnel): Paramètre de lissage pour RFF. Défaut à 0.01.\n",
    "        \"\"\"\n",
    "        print(\"Exécution RFKRR\")\n",
    "       \n",
    "        rfkrr = RFKRR(rff_dim=rf_dim, alpha=alpha, sigma=sigma)\n",
    " \n",
    "        X_train_flat = self.X_train_subset.reshape(len(self.X_train_subset), -1)\n",
    "        X_test_flat = self.X_test_subset.reshape(len(self.X_test_subset), -1)\n",
    "\n",
    "        rfkrr.fit(X_train_flat, self.y_train_subset)\n",
    "\n",
    "        self.y_pred = rfkrr.predict(X_test_flat)\n",
    "        \n",
    "    def plot_confusion_matrix(self):\n",
    "        \"\"\"\n",
    "        Affiche la matrice de confusion des prédictions.\n",
    "        \"\"\"\n",
    "        y_true = np.argmax(self.y_test_subset, axis=1)\n",
    "        y_pred = self.y_pred\n",
    "        \n",
    "        conf_matrix = confusion_matrix(y_true, y_pred)\n",
    "        \n",
    "        plt.figure(figsize=(10, 8))\n",
    "        sns.heatmap(conf_matrix, annot=True, fmt='d', cmap='Blues', xticklabels=self.classes_to_keep, yticklabels=self.classes_to_keep)\n",
    "        plt.xlabel('Prédictions')\n",
    "        plt.ylabel('Vérité terrain')\n",
    "        plt.title(f'Matrice de Confusion - {self.method}')\n",
    "        plt.show()\n",
    "\n",
    "    def plot_predictions(self, num_images=10):\n",
    "        \"\"\"\n",
    "        Affiche `num_images` exemples de l'ensemble de test avec leurs labels prédits.\n",
    "\n",
    "        Args:\n",
    "            num_images (int, optionnel): Nombre d'images à afficher. Défaut à 10.\n",
    "        \"\"\"\n",
    "        X_test = self.X_test_subset\n",
    "        y_true = self.y_test_subset\n",
    "        y_pred = self.y_pred\n",
    "        \n",
    "        fig, axes = plt.subplots(1, num_images, figsize=(15, 4))\n",
    "        for i in range(num_images):\n",
    "            ax = axes[i]\n",
    "            img = X_test[i].reshape(self.image_size)\n",
    "            ax.imshow(img, cmap='gray')\n",
    "            ax.axis('off')\n",
    "            ax.set_title(f\"Vérité : {int(y_true[i])}\\nPrédiction : {y_pred[i]}\")\n",
    "        plt.tight_layout()\n",
    "        plt.show()\n",
    "\n"
   ]
  },
  {
   "cell_type": "markdown",
   "metadata": {},
   "source": [
    "## Modèle des covariables \"spiked\""
   ]
  },
  {
   "cell_type": "code",
   "execution_count": 4,
   "metadata": {},
   "outputs": [
    {
     "name": "stdout",
     "output_type": "stream",
     "text": [
      "train set noising\n"
     ]
    },
    {
     "name": "stderr",
     "output_type": "stream",
     "text": [
      "Generating dataset: 100%|██████████| 60000/60000 [00:03<00:00, 19846.57it/s]\n"
     ]
    },
    {
     "name": "stdout",
     "output_type": "stream",
     "text": [
      "test set noising\n"
     ]
    },
    {
     "name": "stderr",
     "output_type": "stream",
     "text": [
      "100%|██████████| 10000/10000 [00:00<00:00, 18606.13it/s]\n"
     ]
    },
    {
     "name": "stdout",
     "output_type": "stream",
     "text": [
      "train set noising\n"
     ]
    },
    {
     "name": "stderr",
     "output_type": "stream",
     "text": [
      "Generating dataset: 100%|██████████| 60000/60000 [00:03<00:00, 18375.59it/s]\n"
     ]
    },
    {
     "name": "stdout",
     "output_type": "stream",
     "text": [
      "test set noising\n"
     ]
    },
    {
     "name": "stderr",
     "output_type": "stream",
     "text": [
      "100%|██████████| 10000/10000 [00:00<00:00, 19245.66it/s]\n"
     ]
    },
    {
     "name": "stdout",
     "output_type": "stream",
     "text": [
      "train set noising\n"
     ]
    },
    {
     "name": "stderr",
     "output_type": "stream",
     "text": [
      "Generating dataset: 100%|██████████| 60000/60000 [00:03<00:00, 19682.05it/s]\n"
     ]
    },
    {
     "name": "stdout",
     "output_type": "stream",
     "text": [
      "test set noising\n"
     ]
    },
    {
     "name": "stderr",
     "output_type": "stream",
     "text": [
      "100%|██████████| 10000/10000 [00:00<00:00, 19680.06it/s]\n"
     ]
    },
    {
     "data": {
      "image/png": "[encoded data removed]",
      "text/plain": [
       "<Figure size 800x600 with 1 Axes>"
      ]
     },
     "metadata": {},
     "output_type": "display_data"
    }
   ],
   "source": [
    "import SpikedDataset\n",
    "importlib.reload(SpikedDataset)\n",
    "from SpikedDataset import SpikedDataset\n",
    "\n",
    "subset_size = (60000, 10000)\n",
    "generator = SpikedDataset(dataset=\"FMNIST\", subset_size=subset_size)\n",
    "generator.plot_eigenvalues()"
   ]
  },
  {
   "cell_type": "code",
   "execution_count": null,
   "metadata": {},
   "outputs": [
    {
     "name": "stderr",
     "output_type": "stream",
     "text": [
      "Frequency decomposition: 100%|██████████| 60000/60000 [00:01<00:00, 51508.53it/s]\n"
     ]
    },
    {
     "data": {
      "image/png": "[encoded data removed]",
      "text/plain": [
       "<Figure size 1200x600 with 3 Axes>"
      ]
     },
     "metadata": {},
     "output_type": "display_data"
    }
   ],
   "source": [
    "generator = SpikedDataset(dataset='FMNIST', subset_size=subset_size)\n",
    "F = generator.plot_frequency_repartition()"
   ]
  },
  {
   "cell_type": "markdown",
   "metadata": {},
   "source": [
    "# Expérience 1 : Influence du bruit hautes fréquences\n",
    "\n",
    "On limite l'expérience à un dataset train de 25000 images car les NTKRR prennent énormément de ressources CPU/GPU pour calculer les noyaux. Nos ordinateurs n'étant pas capables de calculer de telles dimensions de noyaux on restreint l'expérience, induisant nécessairement de moins bons résultats que ceux présentés dans le papier.\n",
    "\n",
    "L'expérience est réalisée sur des intensités de bruit allant de tau=0 jusqu'à tau=4."
   ]
  },
  {
   "cell_type": "markdown",
   "metadata": {},
   "source": [
    "## Dataset Fashion-MNIST"
   ]
  },
  {
   "cell_type": "code",
   "execution_count": 5,
   "metadata": {},
   "outputs": [
    {
     "name": "stderr",
     "output_type": "stream",
     "text": [
      "  0%|          | 0/5 [00:00<?, ?it/s]"
     ]
    },
    {
     "name": "stdout",
     "output_type": "stream",
     "text": [
      "############################## Level noise : 0.0 ##############################\n",
      "Exécution NTKRR\n"
     ]
    },
    {
     "name": "stderr",
     "output_type": "stream",
     "text": [
      "/home/marius/envs/main_venv/lib/python3.12/site-packages/sklearn/linear_model/_ridge.py:216: LinAlgWarning: Ill-conditioned matrix (rcond=1.99789e-17): result may not be accurate.\n",
      "  return linalg.solve(A, Xy, assume_a=\"pos\", overwrite_a=True).T\n"
     ]
    },
    {
     "name": "stdout",
     "output_type": "stream",
     "text": [
      "NTKRR accuracie 0.8354\n",
      "Exécution RFKRR\n",
      "RFKRR accuracie 0.8186\n",
      "Exécution NN\n"
     ]
    },
    {
     "name": "stderr",
     "output_type": "stream",
     "text": [
      "2025-02-01 18:00:32.197937: E external/local_xla/xla/stream_executor/cuda/cuda_driver.cc:152] failed call to cuInit: INTERNAL: CUDA error: Failed call to cuInit: CUDA_ERROR_UNKNOWN: unknown error\n",
      "2025-02-01 18:00:32.198549: I external/local_xla/xla/stream_executor/cuda/cuda_diagnostics.cc:137] retrieving CUDA diagnostic information for host: marius-PC\n",
      "2025-02-01 18:00:32.198554: I external/local_xla/xla/stream_executor/cuda/cuda_diagnostics.cc:144] hostname: marius-PC\n",
      "2025-02-01 18:00:32.198982: I external/local_xla/xla/stream_executor/cuda/cuda_diagnostics.cc:168] libcuda reported version is: 535.183.1\n",
      "2025-02-01 18:00:32.198997: I external/local_xla/xla/stream_executor/cuda/cuda_diagnostics.cc:172] kernel reported version is: 535.183.1\n",
      "2025-02-01 18:00:32.198999: I external/local_xla/xla/stream_executor/cuda/cuda_diagnostics.cc:259] kernel version seems to match DSO: 535.183.1\n"
     ]
    },
    {
     "name": "stdout",
     "output_type": "stream",
     "text": [
      "Epoch 1/30\n",
      "\u001b[1m98/98\u001b[0m \u001b[32m━━━━━━━━━━━━━━━━━━━━\u001b[0m\u001b[37m\u001b[0m \u001b[1m2s\u001b[0m 7ms/step - accuracy: 0.3690 - loss: 1.7883 - val_accuracy: 0.6828 - val_loss: 0.8367\n",
      "Epoch 2/30\n",
      "\u001b[1m98/98\u001b[0m \u001b[32m━━━━━━━━━━━━━━━━━━━━\u001b[0m\u001b[37m\u001b[0m \u001b[1m1s\u001b[0m 6ms/step - accuracy: 0.6868 - loss: 0.8266 - val_accuracy: 0.7452 - val_loss: 0.6803\n",
      "Epoch 3/30\n",
      "\u001b[1m98/98\u001b[0m \u001b[32m━━━━━━━━━━━━━━━━━━━━\u001b[0m\u001b[37m\u001b[0m \u001b[1m1s\u001b[0m 6ms/step - accuracy: 0.7439 - loss: 0.6893 - val_accuracy: 0.7832 - val_loss: 0.5971\n",
      "Epoch 4/30\n",
      "\u001b[1m98/98\u001b[0m \u001b[32m━━━━━━━━━━━━━━━━━━━━\u001b[0m\u001b[37m\u001b[0m \u001b[1m1s\u001b[0m 6ms/step - accuracy: 0.7756 - loss: 0.5924 - val_accuracy: 0.7974 - val_loss: 0.5620\n",
      "Epoch 5/30\n",
      "\u001b[1m98/98\u001b[0m \u001b[32m━━━━━━━━━━━━━━━━━━━━\u001b[0m\u001b[37m\u001b[0m \u001b[1m1s\u001b[0m 6ms/step - accuracy: 0.7968 - loss: 0.5440 - val_accuracy: 0.8090 - val_loss: 0.5217\n",
      "Epoch 6/30\n",
      "\u001b[1m98/98\u001b[0m \u001b[32m━━━━━━━━━━━━━━━━━━━━\u001b[0m\u001b[37m\u001b[0m \u001b[1m1s\u001b[0m 6ms/step - accuracy: 0.8208 - loss: 0.4981 - val_accuracy: 0.8186 - val_loss: 0.5026\n",
      "Epoch 7/30\n",
      "\u001b[1m98/98\u001b[0m \u001b[32m━━━━━━━━━━━━━━━━━━━━\u001b[0m\u001b[37m\u001b[0m \u001b[1m1s\u001b[0m 6ms/step - accuracy: 0.8273 - loss: 0.4741 - val_accuracy: 0.8216 - val_loss: 0.4918\n",
      "Epoch 8/30\n",
      "\u001b[1m98/98\u001b[0m \u001b[32m━━━━━━━━━━━━━━━━━━━━\u001b[0m\u001b[37m\u001b[0m \u001b[1m1s\u001b[0m 6ms/step - accuracy: 0.8348 - loss: 0.4588 - val_accuracy: 0.8230 - val_loss: 0.4813\n",
      "Epoch 9/30\n",
      "\u001b[1m98/98\u001b[0m \u001b[32m━━━━━━━━━━━━━━━━━━━━\u001b[0m\u001b[37m\u001b[0m \u001b[1m1s\u001b[0m 6ms/step - accuracy: 0.8366 - loss: 0.4421 - val_accuracy: 0.8320 - val_loss: 0.4535\n",
      "Epoch 10/30\n",
      "\u001b[1m98/98\u001b[0m \u001b[32m━━━━━━━━━━━━━━━━━━━━\u001b[0m\u001b[37m\u001b[0m \u001b[1m1s\u001b[0m 6ms/step - accuracy: 0.8499 - loss: 0.4194 - val_accuracy: 0.8354 - val_loss: 0.4547\n",
      "Epoch 11/30\n",
      "\u001b[1m98/98\u001b[0m \u001b[32m━━━━━━━━━━━━━━━━━━━━\u001b[0m\u001b[37m\u001b[0m \u001b[1m1s\u001b[0m 6ms/step - accuracy: 0.8540 - loss: 0.4020 - val_accuracy: 0.8282 - val_loss: 0.4636\n",
      "Epoch 12/30\n",
      "\u001b[1m98/98\u001b[0m \u001b[32m━━━━━━━━━━━━━━━━━━━━\u001b[0m\u001b[37m\u001b[0m \u001b[1m1s\u001b[0m 6ms/step - accuracy: 0.8550 - loss: 0.3968 - val_accuracy: 0.8410 - val_loss: 0.4318\n",
      "Epoch 13/30\n",
      "\u001b[1m98/98\u001b[0m \u001b[32m━━━━━━━━━━━━━━━━━━━━\u001b[0m\u001b[37m\u001b[0m \u001b[1m1s\u001b[0m 6ms/step - accuracy: 0.8591 - loss: 0.3878 - val_accuracy: 0.8394 - val_loss: 0.4360\n",
      "Epoch 14/30\n",
      "\u001b[1m98/98\u001b[0m \u001b[32m━━━━━━━━━━━━━━━━━━━━\u001b[0m\u001b[37m\u001b[0m \u001b[1m1s\u001b[0m 6ms/step - accuracy: 0.8591 - loss: 0.3882 - val_accuracy: 0.8496 - val_loss: 0.4147\n",
      "Epoch 15/30\n",
      "\u001b[1m98/98\u001b[0m \u001b[32m━━━━━━━━━━━━━━━━━━━━\u001b[0m\u001b[37m\u001b[0m \u001b[1m1s\u001b[0m 6ms/step - accuracy: 0.8642 - loss: 0.3739 - val_accuracy: 0.8494 - val_loss: 0.4170\n",
      "Epoch 16/30\n",
      "\u001b[1m98/98\u001b[0m \u001b[32m━━━━━━━━━━━━━━━━━━━━\u001b[0m\u001b[37m\u001b[0m \u001b[1m1s\u001b[0m 6ms/step - accuracy: 0.8680 - loss: 0.3589 - val_accuracy: 0.8494 - val_loss: 0.4222\n",
      "Epoch 17/30\n",
      "\u001b[1m98/98\u001b[0m \u001b[32m━━━━━━━━━━━━━━━━━━━━\u001b[0m\u001b[37m\u001b[0m \u001b[1m1s\u001b[0m 6ms/step - accuracy: 0.8703 - loss: 0.3628 - val_accuracy: 0.8446 - val_loss: 0.4171\n",
      "Epoch 18/30\n",
      "\u001b[1m98/98\u001b[0m \u001b[32m━━━━━━━━━━━━━━━━━━━━\u001b[0m\u001b[37m\u001b[0m \u001b[1m1s\u001b[0m 6ms/step - accuracy: 0.8697 - loss: 0.3593 - val_accuracy: 0.8486 - val_loss: 0.4048\n",
      "Epoch 19/30\n",
      "\u001b[1m98/98\u001b[0m \u001b[32m━━━━━━━━━━━━━━━━━━━━\u001b[0m\u001b[37m\u001b[0m \u001b[1m1s\u001b[0m 6ms/step - accuracy: 0.8762 - loss: 0.3356 - val_accuracy: 0.8482 - val_loss: 0.4067\n",
      "Epoch 20/30\n",
      "\u001b[1m98/98\u001b[0m \u001b[32m━━━━━━━━━━━━━━━━━━━━\u001b[0m\u001b[37m\u001b[0m \u001b[1m1s\u001b[0m 6ms/step - accuracy: 0.8792 - loss: 0.3346 - val_accuracy: 0.8574 - val_loss: 0.3949\n",
      "Epoch 21/30\n",
      "\u001b[1m98/98\u001b[0m \u001b[32m━━━━━━━━━━━━━━━━━━━━\u001b[0m\u001b[37m\u001b[0m \u001b[1m1s\u001b[0m 6ms/step - accuracy: 0.8818 - loss: 0.3284 - val_accuracy: 0.8540 - val_loss: 0.3939\n",
      "Epoch 22/30\n",
      "\u001b[1m98/98\u001b[0m \u001b[32m━━━━━━━━━━━━━━━━━━━━\u001b[0m\u001b[37m\u001b[0m \u001b[1m1s\u001b[0m 6ms/step - accuracy: 0.8811 - loss: 0.3201 - val_accuracy: 0.8580 - val_loss: 0.3951\n",
      "Epoch 23/30\n",
      "\u001b[1m98/98\u001b[0m \u001b[32m━━━━━━━━━━━━━━━━━━━━\u001b[0m\u001b[37m\u001b[0m \u001b[1m1s\u001b[0m 6ms/step - accuracy: 0.8820 - loss: 0.3226 - val_accuracy: 0.8588 - val_loss: 0.3829\n",
      "Epoch 24/30\n",
      "\u001b[1m98/98\u001b[0m \u001b[32m━━━━━━━━━━━━━━━━━━━━\u001b[0m\u001b[37m\u001b[0m \u001b[1m1s\u001b[0m 6ms/step - accuracy: 0.8829 - loss: 0.3180 - val_accuracy: 0.8574 - val_loss: 0.3851\n",
      "Epoch 25/30\n",
      "\u001b[1m98/98\u001b[0m \u001b[32m━━━━━━━━━━━━━━━━━━━━\u001b[0m\u001b[37m\u001b[0m \u001b[1m1s\u001b[0m 6ms/step - accuracy: 0.8891 - loss: 0.3078 - val_accuracy: 0.8610 - val_loss: 0.3902\n",
      "Epoch 26/30\n",
      "\u001b[1m98/98\u001b[0m \u001b[32m━━━━━━━━━━━━━━━━━━━━\u001b[0m\u001b[37m\u001b[0m \u001b[1m1s\u001b[0m 6ms/step - accuracy: 0.8919 - loss: 0.2986 - val_accuracy: 0.8592 - val_loss: 0.3834\n",
      "Epoch 27/30\n",
      "\u001b[1m98/98\u001b[0m \u001b[32m━━━━━━━━━━━━━━━━━━━━\u001b[0m\u001b[37m\u001b[0m \u001b[1m1s\u001b[0m 6ms/step - accuracy: 0.8934 - loss: 0.2955 - val_accuracy: 0.8644 - val_loss: 0.3741\n",
      "Epoch 28/30\n",
      "\u001b[1m98/98\u001b[0m \u001b[32m━━━━━━━━━━━━━━━━━━━━\u001b[0m\u001b[37m\u001b[0m \u001b[1m1s\u001b[0m 6ms/step - accuracy: 0.8856 - loss: 0.3015 - val_accuracy: 0.8600 - val_loss: 0.3782\n",
      "Epoch 29/30\n",
      "\u001b[1m98/98\u001b[0m \u001b[32m━━━━━━━━━━━━━━━━━━━━\u001b[0m\u001b[37m\u001b[0m \u001b[1m1s\u001b[0m 6ms/step - accuracy: 0.8924 - loss: 0.2926 - val_accuracy: 0.8662 - val_loss: 0.3613\n",
      "Epoch 30/30\n",
      "\u001b[1m98/98\u001b[0m \u001b[32m━━━━━━━━━━━━━━━━━━━━\u001b[0m\u001b[37m\u001b[0m \u001b[1m1s\u001b[0m 6ms/step - accuracy: 0.8968 - loss: 0.2863 - val_accuracy: 0.8672 - val_loss: 0.3627\n",
      "\u001b[1m157/157\u001b[0m \u001b[32m━━━━━━━━━━━━━━━━━━━━\u001b[0m\u001b[37m\u001b[0m \u001b[1m0s\u001b[0m 1ms/step\n",
      "NN accuracie 0.8672\n",
      "Exécution CNN\n",
      "Epoch 1/15\n",
      "\u001b[1m98/98\u001b[0m \u001b[32m━━━━━━━━━━━━━━━━━━━━\u001b[0m\u001b[37m\u001b[0m \u001b[1m3s\u001b[0m 25ms/step - accuracy: 0.6507 - loss: 1.0329 - val_accuracy: 0.8260 - val_loss: 0.4870\n",
      "Epoch 2/15\n",
      "\u001b[1m98/98\u001b[0m \u001b[32m━━━━━━━━━━━━━━━━━━━━\u001b[0m\u001b[37m\u001b[0m \u001b[1m2s\u001b[0m 25ms/step - accuracy: 0.8432 - loss: 0.4474 - val_accuracy: 0.8424 - val_loss: 0.4301\n",
      "Epoch 3/15\n",
      "\u001b[1m98/98\u001b[0m \u001b[32m━━━━━━━━━━━━━━━━━━━━\u001b[0m\u001b[37m\u001b[0m \u001b[1m2s\u001b[0m 25ms/step - accuracy: 0.8659 - loss: 0.3734 - val_accuracy: 0.8576 - val_loss: 0.4055\n",
      "Epoch 4/15\n",
      "\u001b[1m98/98\u001b[0m \u001b[32m━━━━━━━━━━━━━━━━━━━━\u001b[0m\u001b[37m\u001b[0m \u001b[1m2s\u001b[0m 25ms/step - accuracy: 0.8807 - loss: 0.3295 - val_accuracy: 0.8654 - val_loss: 0.3717\n",
      "Epoch 5/15\n",
      "\u001b[1m98/98\u001b[0m \u001b[32m━━━━━━━━━━━━━━━━━━━━\u001b[0m\u001b[37m\u001b[0m \u001b[1m3s\u001b[0m 27ms/step - accuracy: 0.8919 - loss: 0.3032 - val_accuracy: 0.8728 - val_loss: 0.3422\n",
      "Epoch 6/15\n",
      "\u001b[1m98/98\u001b[0m \u001b[32m━━━━━━━━━━━━━━━━━━━━\u001b[0m\u001b[37m\u001b[0m \u001b[1m2s\u001b[0m 25ms/step - accuracy: 0.9014 - loss: 0.2753 - val_accuracy: 0.8808 - val_loss: 0.3202\n",
      "Epoch 7/15\n",
      "\u001b[1m98/98\u001b[0m \u001b[32m━━━━━━━━━━━━━━━━━━━━\u001b[0m\u001b[37m\u001b[0m \u001b[1m2s\u001b[0m 25ms/step - accuracy: 0.9118 - loss: 0.2528 - val_accuracy: 0.8850 - val_loss: 0.3176\n",
      "Epoch 8/15\n",
      "\u001b[1m98/98\u001b[0m \u001b[32m━━━━━━━━━━━━━━━━━━━━\u001b[0m\u001b[37m\u001b[0m \u001b[1m2s\u001b[0m 25ms/step - accuracy: 0.9133 - loss: 0.2416 - val_accuracy: 0.8906 - val_loss: 0.3090\n",
      "Epoch 9/15\n",
      "\u001b[1m98/98\u001b[0m \u001b[32m━━━━━━━━━━━━━━━━━━━━\u001b[0m\u001b[37m\u001b[0m \u001b[1m2s\u001b[0m 25ms/step - accuracy: 0.9171 - loss: 0.2297 - val_accuracy: 0.8884 - val_loss: 0.3086\n",
      "Epoch 10/15\n",
      "\u001b[1m98/98\u001b[0m \u001b[32m━━━━━━━━━━━━━━━━━━━━\u001b[0m\u001b[37m\u001b[0m \u001b[1m2s\u001b[0m 25ms/step - accuracy: 0.9221 - loss: 0.2124 - val_accuracy: 0.8896 - val_loss: 0.3015\n",
      "Epoch 11/15\n",
      "\u001b[1m98/98\u001b[0m \u001b[32m━━━━━━━━━━━━━━━━━━━━\u001b[0m\u001b[37m\u001b[0m \u001b[1m2s\u001b[0m 25ms/step - accuracy: 0.9279 - loss: 0.2004 - val_accuracy: 0.8824 - val_loss: 0.3328\n",
      "Epoch 12/15\n",
      "\u001b[1m98/98\u001b[0m \u001b[32m━━━━━━━━━━━━━━━━━━━━\u001b[0m\u001b[37m\u001b[0m \u001b[1m3s\u001b[0m 26ms/step - accuracy: 0.9298 - loss: 0.1921 - val_accuracy: 0.8980 - val_loss: 0.2942\n",
      "Epoch 13/15\n",
      "\u001b[1m98/98\u001b[0m \u001b[32m━━━━━━━━━━━━━━━━━━━━\u001b[0m\u001b[37m\u001b[0m \u001b[1m2s\u001b[0m 25ms/step - accuracy: 0.9366 - loss: 0.1741 - val_accuracy: 0.9026 - val_loss: 0.2793\n",
      "Epoch 14/15\n",
      "\u001b[1m98/98\u001b[0m \u001b[32m━━━━━━━━━━━━━━━━━━━━\u001b[0m\u001b[37m\u001b[0m \u001b[1m2s\u001b[0m 25ms/step - accuracy: 0.9412 - loss: 0.1621 - val_accuracy: 0.9032 - val_loss: 0.2884\n",
      "Epoch 15/15\n",
      "\u001b[1m98/98\u001b[0m \u001b[32m━━━━━━━━━━━━━━━━━━━━\u001b[0m\u001b[37m\u001b[0m \u001b[1m2s\u001b[0m 25ms/step - accuracy: 0.9460 - loss: 0.1528 - val_accuracy: 0.9016 - val_loss: 0.2823\n",
      "\u001b[1m157/157\u001b[0m \u001b[32m━━━━━━━━━━━━━━━━━━━━\u001b[0m\u001b[37m\u001b[0m \u001b[1m0s\u001b[0m 2ms/step\n"
     ]
    },
    {
     "name": "stderr",
     "output_type": "stream",
     "text": [
      " 20%|██        | 1/5 [02:46<11:04, 166.17s/it]"
     ]
    },
    {
     "name": "stdout",
     "output_type": "stream",
     "text": [
      "CNN accuracie 0.9016\n",
      "############################## Level noise : 1.0 ##############################\n",
      "train set noising\n"
     ]
    },
    {
     "name": "stderr",
     "output_type": "stream",
     "text": [
      "Generating dataset: 100%|██████████| 25000/25000 [00:01<00:00, 19722.41it/s]\n"
     ]
    },
    {
     "name": "stdout",
     "output_type": "stream",
     "text": [
      "test set noising\n"
     ]
    },
    {
     "name": "stderr",
     "output_type": "stream",
     "text": [
      "100%|██████████| 5000/5000 [00:00<00:00, 19452.24it/s]\n"
     ]
    },
    {
     "name": "stdout",
     "output_type": "stream",
     "text": [
      "Exécution NTKRR\n"
     ]
    },
    {
     "name": "stderr",
     "output_type": "stream",
     "text": [
      "/home/marius/envs/main_venv/lib/python3.12/site-packages/sklearn/linear_model/_ridge.py:216: LinAlgWarning: Ill-conditioned matrix (rcond=2.96012e-17): result may not be accurate.\n",
      "  return linalg.solve(A, Xy, assume_a=\"pos\", overwrite_a=True).T\n"
     ]
    },
    {
     "name": "stdout",
     "output_type": "stream",
     "text": [
      "NTKRR accuracie 0.7988\n",
      "Exécution RFKRR\n",
      "RFKRR accuracie 0.7922\n",
      "Exécution NN\n",
      "Epoch 1/30\n",
      "\u001b[1m98/98\u001b[0m \u001b[32m━━━━━━━━━━━━━━━━━━━━\u001b[0m\u001b[37m\u001b[0m \u001b[1m1s\u001b[0m 7ms/step - accuracy: 0.3174 - loss: 1.8669 - val_accuracy: 0.6488 - val_loss: 0.8900\n",
      "Epoch 2/30\n",
      "\u001b[1m98/98\u001b[0m \u001b[32m━━━━━━━━━━━━━━━━━━━━\u001b[0m\u001b[37m\u001b[0m \u001b[1m1s\u001b[0m 7ms/step - accuracy: 0.6619 - loss: 0.8640 - val_accuracy: 0.7384 - val_loss: 0.7155\n",
      "Epoch 3/30\n",
      "\u001b[1m98/98\u001b[0m \u001b[32m━━━━━━━━━━━━━━━━━━━━\u001b[0m\u001b[37m\u001b[0m \u001b[1m1s\u001b[0m 6ms/step - accuracy: 0.7375 - loss: 0.6888 - val_accuracy: 0.7510 - val_loss: 0.6490\n",
      "Epoch 4/30\n",
      "\u001b[1m98/98\u001b[0m \u001b[32m━━━━━━━━━━━━━━━━━━━━\u001b[0m\u001b[37m\u001b[0m \u001b[1m1s\u001b[0m 6ms/step - accuracy: 0.7765 - loss: 0.6058 - val_accuracy: 0.7688 - val_loss: 0.6186\n",
      "Epoch 5/30\n",
      "\u001b[1m98/98\u001b[0m \u001b[32m━━━━━━━━━━━━━━━━━━━━\u001b[0m\u001b[37m\u001b[0m \u001b[1m1s\u001b[0m 6ms/step - accuracy: 0.7932 - loss: 0.5631 - val_accuracy: 0.7774 - val_loss: 0.5980\n",
      "Epoch 6/30\n",
      "\u001b[1m98/98\u001b[0m \u001b[32m━━━━━━━━━━━━━━━━━━━━\u001b[0m\u001b[37m\u001b[0m \u001b[1m1s\u001b[0m 6ms/step - accuracy: 0.8097 - loss: 0.5166 - val_accuracy: 0.7746 - val_loss: 0.5995\n",
      "Epoch 7/30\n",
      "\u001b[1m98/98\u001b[0m \u001b[32m━━━━━━━━━━━━━━━━━━━━\u001b[0m\u001b[37m\u001b[0m \u001b[1m1s\u001b[0m 6ms/step - accuracy: 0.8231 - loss: 0.4830 - val_accuracy: 0.7874 - val_loss: 0.5792\n",
      "Epoch 8/30\n",
      "\u001b[1m98/98\u001b[0m \u001b[32m━━━━━━━━━━━━━━━━━━━━\u001b[0m\u001b[37m\u001b[0m \u001b[1m1s\u001b[0m 6ms/step - accuracy: 0.8430 - loss: 0.4376 - val_accuracy: 0.7814 - val_loss: 0.6040\n",
      "Epoch 9/30\n",
      "\u001b[1m98/98\u001b[0m \u001b[32m━━━━━━━━━━━━━━━━━━━━\u001b[0m\u001b[37m\u001b[0m \u001b[1m1s\u001b[0m 6ms/step - accuracy: 0.8556 - loss: 0.4065 - val_accuracy: 0.7976 - val_loss: 0.5744\n",
      "Epoch 10/30\n",
      "\u001b[1m98/98\u001b[0m \u001b[32m━━━━━━━━━━━━━━━━━━━━\u001b[0m\u001b[37m\u001b[0m \u001b[1m1s\u001b[0m 6ms/step - accuracy: 0.8690 - loss: 0.3735 - val_accuracy: 0.7954 - val_loss: 0.5864\n",
      "Epoch 11/30\n",
      "\u001b[1m98/98\u001b[0m \u001b[32m━━━━━━━━━━━━━━━━━━━━\u001b[0m\u001b[37m\u001b[0m \u001b[1m1s\u001b[0m 6ms/step - accuracy: 0.8767 - loss: 0.3396 - val_accuracy: 0.7934 - val_loss: 0.5947\n",
      "Epoch 12/30\n",
      "\u001b[1m98/98\u001b[0m \u001b[32m━━━━━━━━━━━━━━━━━━━━\u001b[0m\u001b[37m\u001b[0m \u001b[1m1s\u001b[0m 6ms/step - accuracy: 0.8965 - loss: 0.3041 - val_accuracy: 0.7898 - val_loss: 0.5980\n",
      "Epoch 13/30\n",
      "\u001b[1m98/98\u001b[0m \u001b[32m━━━━━━━━━━━━━━━━━━━━\u001b[0m\u001b[37m\u001b[0m \u001b[1m1s\u001b[0m 6ms/step - accuracy: 0.9055 - loss: 0.2774 - val_accuracy: 0.7944 - val_loss: 0.6242\n",
      "Epoch 14/30\n",
      "\u001b[1m98/98\u001b[0m \u001b[32m━━━━━━━━━━━━━━━━━━━━\u001b[0m\u001b[37m\u001b[0m \u001b[1m1s\u001b[0m 6ms/step - accuracy: 0.9195 - loss: 0.2390 - val_accuracy: 0.7960 - val_loss: 0.6553\n",
      "Epoch 15/30\n",
      "\u001b[1m98/98\u001b[0m \u001b[32m━━━━━━━━━━━━━━━━━━━━\u001b[0m\u001b[37m\u001b[0m \u001b[1m1s\u001b[0m 6ms/step - accuracy: 0.9367 - loss: 0.1972 - val_accuracy: 0.7910 - val_loss: 0.6691\n",
      "Epoch 16/30\n",
      "\u001b[1m98/98\u001b[0m \u001b[32m━━━━━━━━━━━━━━━━━━━━\u001b[0m\u001b[37m\u001b[0m \u001b[1m1s\u001b[0m 6ms/step - accuracy: 0.9510 - loss: 0.1654 - val_accuracy: 0.7936 - val_loss: 0.7023\n",
      "Epoch 17/30\n",
      "\u001b[1m98/98\u001b[0m \u001b[32m━━━━━━━━━━━━━━━━━━━━\u001b[0m\u001b[37m\u001b[0m \u001b[1m1s\u001b[0m 6ms/step - accuracy: 0.9628 - loss: 0.1284 - val_accuracy: 0.7856 - val_loss: 0.7769\n",
      "Epoch 18/30\n",
      "\u001b[1m98/98\u001b[0m \u001b[32m━━━━━━━━━━━━━━━━━━━━\u001b[0m\u001b[37m\u001b[0m \u001b[1m1s\u001b[0m 6ms/step - accuracy: 0.9720 - loss: 0.1000 - val_accuracy: 0.7870 - val_loss: 0.7886\n",
      "Epoch 19/30\n",
      "\u001b[1m98/98\u001b[0m \u001b[32m━━━━━━━━━━━━━━━━━━━━\u001b[0m\u001b[37m\u001b[0m \u001b[1m1s\u001b[0m 6ms/step - accuracy: 0.9770 - loss: 0.0844 - val_accuracy: 0.7918 - val_loss: 0.8221\n",
      "Epoch 20/30\n",
      "\u001b[1m98/98\u001b[0m \u001b[32m━━━━━━━━━━━━━━━━━━━━\u001b[0m\u001b[37m\u001b[0m \u001b[1m1s\u001b[0m 7ms/step - accuracy: 0.9835 - loss: 0.0615 - val_accuracy: 0.7878 - val_loss: 0.8882\n",
      "Epoch 21/30\n",
      "\u001b[1m98/98\u001b[0m \u001b[32m━━━━━━━━━━━━━━━━━━━━\u001b[0m\u001b[37m\u001b[0m \u001b[1m1s\u001b[0m 6ms/step - accuracy: 0.9843 - loss: 0.0537 - val_accuracy: 0.7898 - val_loss: 0.9443\n",
      "Epoch 22/30\n",
      "\u001b[1m98/98\u001b[0m \u001b[32m━━━━━━━━━━━━━━━━━━━━\u001b[0m\u001b[37m\u001b[0m \u001b[1m1s\u001b[0m 6ms/step - accuracy: 0.9869 - loss: 0.0434 - val_accuracy: 0.7862 - val_loss: 0.9775\n",
      "Epoch 23/30\n",
      "\u001b[1m98/98\u001b[0m \u001b[32m━━━━━━━━━━━━━━━━━━━━\u001b[0m\u001b[37m\u001b[0m \u001b[1m1s\u001b[0m 6ms/step - accuracy: 0.9878 - loss: 0.0406 - val_accuracy: 0.7918 - val_loss: 1.0183\n",
      "Epoch 24/30\n",
      "\u001b[1m98/98\u001b[0m \u001b[32m━━━━━━━━━━━━━━━━━━━━\u001b[0m\u001b[37m\u001b[0m \u001b[1m1s\u001b[0m 6ms/step - accuracy: 0.9907 - loss: 0.0336 - val_accuracy: 0.7872 - val_loss: 1.0428\n",
      "Epoch 25/30\n",
      "\u001b[1m98/98\u001b[0m \u001b[32m━━━━━━━━━━━━━━━━━━━━\u001b[0m\u001b[37m\u001b[0m \u001b[1m1s\u001b[0m 6ms/step - accuracy: 0.9887 - loss: 0.0320 - val_accuracy: 0.7888 - val_loss: 1.0321\n",
      "Epoch 26/30\n",
      "\u001b[1m98/98\u001b[0m \u001b[32m━━━━━━━━━━━━━━━━━━━━\u001b[0m\u001b[37m\u001b[0m \u001b[1m1s\u001b[0m 6ms/step - accuracy: 0.9927 - loss: 0.0262 - val_accuracy: 0.7880 - val_loss: 1.1213\n",
      "Epoch 27/30\n",
      "\u001b[1m98/98\u001b[0m \u001b[32m━━━━━━━━━━━━━━━━━━━━\u001b[0m\u001b[37m\u001b[0m \u001b[1m1s\u001b[0m 6ms/step - accuracy: 0.9933 - loss: 0.0246 - val_accuracy: 0.7926 - val_loss: 1.0728\n",
      "Epoch 28/30\n",
      "\u001b[1m98/98\u001b[0m \u001b[32m━━━━━━━━━━━━━━━━━━━━\u001b[0m\u001b[37m\u001b[0m \u001b[1m1s\u001b[0m 7ms/step - accuracy: 0.9920 - loss: 0.0260 - val_accuracy: 0.7888 - val_loss: 1.1385\n",
      "Epoch 29/30\n",
      "\u001b[1m98/98\u001b[0m \u001b[32m━━━━━━━━━━━━━━━━━━━━\u001b[0m\u001b[37m\u001b[0m \u001b[1m1s\u001b[0m 7ms/step - accuracy: 0.9903 - loss: 0.0291 - val_accuracy: 0.7864 - val_loss: 1.1614\n",
      "Epoch 30/30\n",
      "\u001b[1m98/98\u001b[0m \u001b[32m━━━━━━━━━━━━━━━━━━━━\u001b[0m\u001b[37m\u001b[0m \u001b[1m1s\u001b[0m 6ms/step - accuracy: 0.9924 - loss: 0.0225 - val_accuracy: 0.7806 - val_loss: 1.1583\n",
      "\u001b[1m157/157\u001b[0m \u001b[32m━━━━━━━━━━━━━━━━━━━━\u001b[0m\u001b[37m\u001b[0m \u001b[1m0s\u001b[0m 1ms/step\n",
      "NN accuracie 0.7806\n",
      "Exécution CNN\n",
      "Epoch 1/15\n",
      "\u001b[1m98/98\u001b[0m \u001b[32m━━━━━━━━━━━━━━━━━━━━\u001b[0m\u001b[37m\u001b[0m \u001b[1m3s\u001b[0m 26ms/step - accuracy: 0.5472 - loss: 1.2750 - val_accuracy: 0.7322 - val_loss: 0.6969\n",
      "Epoch 2/15\n",
      "\u001b[1m98/98\u001b[0m \u001b[32m━━━━━━━━━━━━━━━━━━━━\u001b[0m\u001b[37m\u001b[0m \u001b[1m2s\u001b[0m 25ms/step - accuracy: 0.7871 - loss: 0.5792 - val_accuracy: 0.7990 - val_loss: 0.5458\n",
      "Epoch 3/15\n",
      "\u001b[1m98/98\u001b[0m \u001b[32m━━━━━━━━━━━━━━━━━━━━\u001b[0m\u001b[37m\u001b[0m \u001b[1m2s\u001b[0m 25ms/step - accuracy: 0.8303 - loss: 0.4619 - val_accuracy: 0.8212 - val_loss: 0.4902\n",
      "Epoch 4/15\n",
      "\u001b[1m98/98\u001b[0m \u001b[32m━━━━━━━━━━━━━━━━━━━━\u001b[0m\u001b[37m\u001b[0m \u001b[1m2s\u001b[0m 25ms/step - accuracy: 0.8517 - loss: 0.4106 - val_accuracy: 0.8396 - val_loss: 0.4424\n",
      "Epoch 5/15\n",
      "\u001b[1m98/98\u001b[0m \u001b[32m━━━━━━━━━━━━━━━━━━━━\u001b[0m\u001b[37m\u001b[0m \u001b[1m2s\u001b[0m 25ms/step - accuracy: 0.8659 - loss: 0.3651 - val_accuracy: 0.8478 - val_loss: 0.4145\n",
      "Epoch 6/15\n",
      "\u001b[1m98/98\u001b[0m \u001b[32m━━━━━━━━━━━━━━━━━━━━\u001b[0m\u001b[37m\u001b[0m \u001b[1m3s\u001b[0m 26ms/step - accuracy: 0.8753 - loss: 0.3433 - val_accuracy: 0.8534 - val_loss: 0.4134\n",
      "Epoch 7/15\n",
      "\u001b[1m98/98\u001b[0m \u001b[32m━━━━━━━━━━━━━━━━━━━━\u001b[0m\u001b[37m\u001b[0m \u001b[1m3s\u001b[0m 26ms/step - accuracy: 0.8825 - loss: 0.3148 - val_accuracy: 0.8488 - val_loss: 0.4194\n",
      "Epoch 8/15\n",
      "\u001b[1m98/98\u001b[0m \u001b[32m━━━━━━━━━━━━━━━━━━━━\u001b[0m\u001b[37m\u001b[0m \u001b[1m2s\u001b[0m 25ms/step - accuracy: 0.8950 - loss: 0.2969 - val_accuracy: 0.8616 - val_loss: 0.3815\n",
      "Epoch 9/15\n",
      "\u001b[1m98/98\u001b[0m \u001b[32m━━━━━━━━━━━━━━━━━━━━\u001b[0m\u001b[37m\u001b[0m \u001b[1m2s\u001b[0m 25ms/step - accuracy: 0.8996 - loss: 0.2668 - val_accuracy: 0.8490 - val_loss: 0.4286\n",
      "Epoch 10/15\n",
      "\u001b[1m98/98\u001b[0m \u001b[32m━━━━━━━━━━━━━━━━━━━━\u001b[0m\u001b[37m\u001b[0m \u001b[1m2s\u001b[0m 25ms/step - accuracy: 0.9071 - loss: 0.2580 - val_accuracy: 0.8588 - val_loss: 0.4036\n",
      "Epoch 11/15\n",
      "\u001b[1m98/98\u001b[0m \u001b[32m━━━━━━━━━━━━━━━━━━━━\u001b[0m\u001b[37m\u001b[0m \u001b[1m2s\u001b[0m 25ms/step - accuracy: 0.9210 - loss: 0.2122 - val_accuracy: 0.8544 - val_loss: 0.4185\n",
      "Epoch 12/15\n",
      "\u001b[1m98/98\u001b[0m \u001b[32m━━━━━━━━━━━━━━━━━━━━\u001b[0m\u001b[37m\u001b[0m \u001b[1m2s\u001b[0m 25ms/step - accuracy: 0.9265 - loss: 0.2023 - val_accuracy: 0.8486 - val_loss: 0.4309\n",
      "Epoch 13/15\n",
      "\u001b[1m98/98\u001b[0m \u001b[32m━━━━━━━━━━━━━━━━━━━━\u001b[0m\u001b[37m\u001b[0m \u001b[1m2s\u001b[0m 25ms/step - accuracy: 0.9375 - loss: 0.1764 - val_accuracy: 0.8574 - val_loss: 0.4432\n",
      "Epoch 14/15\n",
      "\u001b[1m98/98\u001b[0m \u001b[32m━━━━━━━━━━━━━━━━━━━━\u001b[0m\u001b[37m\u001b[0m \u001b[1m3s\u001b[0m 25ms/step - accuracy: 0.9502 - loss: 0.1468 - val_accuracy: 0.8588 - val_loss: 0.4732\n",
      "Epoch 15/15\n",
      "\u001b[1m98/98\u001b[0m \u001b[32m━━━━━━━━━━━━━━━━━━━━\u001b[0m\u001b[37m\u001b[0m \u001b[1m3s\u001b[0m 27ms/step - accuracy: 0.9604 - loss: 0.1170 - val_accuracy: 0.8484 - val_loss: 0.4937\n",
      "\u001b[1m157/157\u001b[0m \u001b[32m━━━━━━━━━━━━━━━━━━━━\u001b[0m\u001b[37m\u001b[0m \u001b[1m0s\u001b[0m 2ms/step\n"
     ]
    },
    {
     "name": "stderr",
     "output_type": "stream",
     "text": [
      " 40%|████      | 2/5 [05:19<07:56, 158.71s/it]"
     ]
    },
    {
     "name": "stdout",
     "output_type": "stream",
     "text": [
      "CNN accuracie 0.8484\n",
      "############################## Level noise : 2.0 ##############################\n",
      "train set noising\n"
     ]
    },
    {
     "name": "stderr",
     "output_type": "stream",
     "text": [
      "Generating dataset: 100%|██████████| 25000/25000 [00:01<00:00, 17899.60it/s]\n"
     ]
    },
    {
     "name": "stdout",
     "output_type": "stream",
     "text": [
      "test set noising\n"
     ]
    },
    {
     "name": "stderr",
     "output_type": "stream",
     "text": [
      "100%|██████████| 5000/5000 [00:00<00:00, 18113.86it/s]\n"
     ]
    },
    {
     "name": "stdout",
     "output_type": "stream",
     "text": [
      "Exécution NTKRR\n",
      "NTKRR accuracie 0.7986\n",
      "Exécution RFKRR\n",
      "RFKRR accuracie 0.7828\n",
      "Exécution NN\n",
      "Epoch 1/30\n",
      "\u001b[1m98/98\u001b[0m \u001b[32m━━━━━━━━━━━━━━━━━━━━\u001b[0m\u001b[37m\u001b[0m \u001b[1m1s\u001b[0m 7ms/step - accuracy: 0.2332 - loss: 2.0389 - val_accuracy: 0.5990 - val_loss: 1.0450\n",
      "Epoch 2/30\n",
      "\u001b[1m98/98\u001b[0m \u001b[32m━━━━━━━━━━━━━━━━━━━━\u001b[0m\u001b[37m\u001b[0m \u001b[1m1s\u001b[0m 6ms/step - accuracy: 0.5863 - loss: 1.0205 - val_accuracy: 0.6616 - val_loss: 0.8962\n",
      "Epoch 3/30\n",
      "\u001b[1m98/98\u001b[0m \u001b[32m━━━━━━━━━━━━━━━━━━━━\u001b[0m\u001b[37m\u001b[0m \u001b[1m1s\u001b[0m 6ms/step - accuracy: 0.6450 - loss: 0.8978 - val_accuracy: 0.7074 - val_loss: 0.7909\n",
      "Epoch 4/30\n",
      "\u001b[1m98/98\u001b[0m \u001b[32m━━━━━━━━━━━━━━━━━━━━\u001b[0m\u001b[37m\u001b[0m \u001b[1m1s\u001b[0m 6ms/step - accuracy: 0.7152 - loss: 0.7418 - val_accuracy: 0.7276 - val_loss: 0.7261\n",
      "Epoch 5/30\n",
      "\u001b[1m98/98\u001b[0m \u001b[32m━━━━━━━━━━━━━━━━━━━━\u001b[0m\u001b[37m\u001b[0m \u001b[1m1s\u001b[0m 6ms/step - accuracy: 0.7401 - loss: 0.6746 - val_accuracy: 0.7366 - val_loss: 0.7029\n",
      "Epoch 6/30\n",
      "\u001b[1m98/98\u001b[0m \u001b[32m━━━━━━━━━━━━━━━━━━━━\u001b[0m\u001b[37m\u001b[0m \u001b[1m1s\u001b[0m 6ms/step - accuracy: 0.7641 - loss: 0.6096 - val_accuracy: 0.7414 - val_loss: 0.6866\n",
      "Epoch 7/30\n",
      "\u001b[1m98/98\u001b[0m \u001b[32m━━━━━━━━━━━━━━━━━━━━\u001b[0m\u001b[37m\u001b[0m \u001b[1m1s\u001b[0m 6ms/step - accuracy: 0.7898 - loss: 0.5537 - val_accuracy: 0.7480 - val_loss: 0.6709\n",
      "Epoch 8/30\n",
      "\u001b[1m98/98\u001b[0m \u001b[32m━━━━━━━━━━━━━━━━━━━━\u001b[0m\u001b[37m\u001b[0m \u001b[1m1s\u001b[0m 7ms/step - accuracy: 0.8007 - loss: 0.5249 - val_accuracy: 0.7464 - val_loss: 0.6787\n",
      "Epoch 9/30\n",
      "\u001b[1m98/98\u001b[0m \u001b[32m━━━━━━━━━━━━━━━━━━━━\u001b[0m\u001b[37m\u001b[0m \u001b[1m1s\u001b[0m 7ms/step - accuracy: 0.8200 - loss: 0.4787 - val_accuracy: 0.7554 - val_loss: 0.6706\n",
      "Epoch 10/30\n",
      "\u001b[1m98/98\u001b[0m \u001b[32m━━━━━━━━━━━━━━━━━━━━\u001b[0m\u001b[37m\u001b[0m \u001b[1m1s\u001b[0m 6ms/step - accuracy: 0.8416 - loss: 0.4306 - val_accuracy: 0.7552 - val_loss: 0.6589\n",
      "Epoch 11/30\n",
      "\u001b[1m98/98\u001b[0m \u001b[32m━━━━━━━━━━━━━━━━━━━━\u001b[0m\u001b[37m\u001b[0m \u001b[1m1s\u001b[0m 6ms/step - accuracy: 0.8613 - loss: 0.3811 - val_accuracy: 0.7484 - val_loss: 0.6987\n",
      "Epoch 12/30\n",
      "\u001b[1m98/98\u001b[0m \u001b[32m━━━━━━━━━━━━━━━━━━━━\u001b[0m\u001b[37m\u001b[0m \u001b[1m1s\u001b[0m 6ms/step - accuracy: 0.8838 - loss: 0.3294 - val_accuracy: 0.7548 - val_loss: 0.7132\n",
      "Epoch 13/30\n",
      "\u001b[1m98/98\u001b[0m \u001b[32m━━━━━━━━━━━━━━━━━━━━\u001b[0m\u001b[37m\u001b[0m \u001b[1m1s\u001b[0m 6ms/step - accuracy: 0.9028 - loss: 0.2821 - val_accuracy: 0.7568 - val_loss: 0.7360\n",
      "Epoch 14/30\n",
      "\u001b[1m98/98\u001b[0m \u001b[32m━━━━━━━━━━━━━━━━━━━━\u001b[0m\u001b[37m\u001b[0m \u001b[1m1s\u001b[0m 6ms/step - accuracy: 0.9233 - loss: 0.2312 - val_accuracy: 0.7516 - val_loss: 0.7896\n",
      "Epoch 15/30\n",
      "\u001b[1m98/98\u001b[0m \u001b[32m━━━━━━━━━━━━━━━━━━━━\u001b[0m\u001b[37m\u001b[0m \u001b[1m1s\u001b[0m 6ms/step - accuracy: 0.9391 - loss: 0.1879 - val_accuracy: 0.7496 - val_loss: 0.8184\n",
      "Epoch 16/30\n",
      "\u001b[1m98/98\u001b[0m \u001b[32m━━━━━━━━━━━━━━━━━━━━\u001b[0m\u001b[37m\u001b[0m \u001b[1m1s\u001b[0m 6ms/step - accuracy: 0.9525 - loss: 0.1511 - val_accuracy: 0.7444 - val_loss: 0.8893\n",
      "Epoch 17/30\n",
      "\u001b[1m98/98\u001b[0m \u001b[32m━━━━━━━━━━━━━━━━━━━━\u001b[0m\u001b[37m\u001b[0m \u001b[1m1s\u001b[0m 6ms/step - accuracy: 0.9661 - loss: 0.1118 - val_accuracy: 0.7552 - val_loss: 0.9062\n",
      "Epoch 18/30\n",
      "\u001b[1m98/98\u001b[0m \u001b[32m━━━━━━━━━━━━━━━━━━━━\u001b[0m\u001b[37m\u001b[0m \u001b[1m1s\u001b[0m 6ms/step - accuracy: 0.9744 - loss: 0.0898 - val_accuracy: 0.7370 - val_loss: 1.0156\n",
      "Epoch 19/30\n",
      "\u001b[1m98/98\u001b[0m \u001b[32m━━━━━━━━━━━━━━━━━━━━\u001b[0m\u001b[37m\u001b[0m \u001b[1m1s\u001b[0m 6ms/step - accuracy: 0.9741 - loss: 0.0848 - val_accuracy: 0.7480 - val_loss: 1.0356\n",
      "Epoch 20/30\n",
      "\u001b[1m98/98\u001b[0m \u001b[32m━━━━━━━━━━━━━━━━━━━━\u001b[0m\u001b[37m\u001b[0m \u001b[1m1s\u001b[0m 6ms/step - accuracy: 0.9805 - loss: 0.0660 - val_accuracy: 0.7492 - val_loss: 1.1022\n",
      "Epoch 21/30\n",
      "\u001b[1m98/98\u001b[0m \u001b[32m━━━━━━━━━━━━━━━━━━━━\u001b[0m\u001b[37m\u001b[0m \u001b[1m1s\u001b[0m 6ms/step - accuracy: 0.9838 - loss: 0.0557 - val_accuracy: 0.7468 - val_loss: 1.1136\n",
      "Epoch 22/30\n",
      "\u001b[1m98/98\u001b[0m \u001b[32m━━━━━━━━━━━━━━━━━━━━\u001b[0m\u001b[37m\u001b[0m \u001b[1m1s\u001b[0m 6ms/step - accuracy: 0.9832 - loss: 0.0550 - val_accuracy: 0.7524 - val_loss: 1.1574\n",
      "Epoch 23/30\n",
      "\u001b[1m98/98\u001b[0m \u001b[32m━━━━━━━━━━━━━━━━━━━━\u001b[0m\u001b[37m\u001b[0m \u001b[1m1s\u001b[0m 6ms/step - accuracy: 0.9854 - loss: 0.0455 - val_accuracy: 0.7488 - val_loss: 1.1996\n",
      "Epoch 24/30\n",
      "\u001b[1m98/98\u001b[0m \u001b[32m━━━━━━━━━━━━━━━━━━━━\u001b[0m\u001b[37m\u001b[0m \u001b[1m1s\u001b[0m 6ms/step - accuracy: 0.9879 - loss: 0.0390 - val_accuracy: 0.7500 - val_loss: 1.2416\n",
      "Epoch 25/30\n",
      "\u001b[1m98/98\u001b[0m \u001b[32m━━━━━━━━━━━━━━━━━━━━\u001b[0m\u001b[37m\u001b[0m \u001b[1m1s\u001b[0m 6ms/step - accuracy: 0.9861 - loss: 0.0418 - val_accuracy: 0.7470 - val_loss: 1.2773\n",
      "Epoch 26/30\n",
      "\u001b[1m98/98\u001b[0m \u001b[32m━━━━━━━━━━━━━━━━━━━━\u001b[0m\u001b[37m\u001b[0m \u001b[1m1s\u001b[0m 6ms/step - accuracy: 0.9846 - loss: 0.0469 - val_accuracy: 0.7462 - val_loss: 1.2788\n",
      "Epoch 27/30\n",
      "\u001b[1m98/98\u001b[0m \u001b[32m━━━━━━━━━━━━━━━━━━━━\u001b[0m\u001b[37m\u001b[0m \u001b[1m1s\u001b[0m 6ms/step - accuracy: 0.9857 - loss: 0.0407 - val_accuracy: 0.7502 - val_loss: 1.2681\n",
      "Epoch 28/30\n",
      "\u001b[1m98/98\u001b[0m \u001b[32m━━━━━━━━━━━━━━━━━━━━\u001b[0m\u001b[37m\u001b[0m \u001b[1m1s\u001b[0m 6ms/step - accuracy: 0.9873 - loss: 0.0406 - val_accuracy: 0.7496 - val_loss: 1.2925\n",
      "Epoch 29/30\n",
      "\u001b[1m98/98\u001b[0m \u001b[32m━━━━━━━━━━━━━━━━━━━━\u001b[0m\u001b[37m\u001b[0m \u001b[1m1s\u001b[0m 6ms/step - accuracy: 0.9905 - loss: 0.0279 - val_accuracy: 0.7556 - val_loss: 1.3409\n",
      "Epoch 30/30\n",
      "\u001b[1m98/98\u001b[0m \u001b[32m━━━━━━━━━━━━━━━━━━━━\u001b[0m\u001b[37m\u001b[0m \u001b[1m1s\u001b[0m 6ms/step - accuracy: 0.9903 - loss: 0.0305 - val_accuracy: 0.7474 - val_loss: 1.3460\n",
      "\u001b[1m157/157\u001b[0m \u001b[32m━━━━━━━━━━━━━━━━━━━━\u001b[0m\u001b[37m\u001b[0m \u001b[1m0s\u001b[0m 1ms/step\n",
      "NN accuracie 0.7474\n",
      "Exécution CNN\n",
      "Epoch 1/15\n",
      "\u001b[1m98/98\u001b[0m \u001b[32m━━━━━━━━━━━━━━━━━━━━\u001b[0m\u001b[37m\u001b[0m \u001b[1m5s\u001b[0m 25ms/step - accuracy: 0.4235 - loss: 1.6247 - val_accuracy: 0.7162 - val_loss: 0.7515\n",
      "Epoch 2/15\n",
      "\u001b[1m98/98\u001b[0m \u001b[32m━━━━━━━━━━━━━━━━━━━━\u001b[0m\u001b[37m\u001b[0m \u001b[1m3s\u001b[0m 26ms/step - accuracy: 0.7398 - loss: 0.6811 - val_accuracy: 0.7596 - val_loss: 0.6346\n",
      "Epoch 3/15\n",
      "\u001b[1m98/98\u001b[0m \u001b[32m━━━━━━━━━━━━━━━━━━━━\u001b[0m\u001b[37m\u001b[0m \u001b[1m3s\u001b[0m 26ms/step - accuracy: 0.7818 - loss: 0.5830 - val_accuracy: 0.8086 - val_loss: 0.5241\n",
      "Epoch 4/15\n",
      "\u001b[1m98/98\u001b[0m \u001b[32m━━━━━━━━━━━━━━━━━━━━\u001b[0m\u001b[37m\u001b[0m \u001b[1m2s\u001b[0m 25ms/step - accuracy: 0.8208 - loss: 0.4932 - val_accuracy: 0.8144 - val_loss: 0.5092\n",
      "Epoch 5/15\n",
      "\u001b[1m98/98\u001b[0m \u001b[32m━━━━━━━━━━━━━━━━━━━━\u001b[0m\u001b[37m\u001b[0m \u001b[1m3s\u001b[0m 27ms/step - accuracy: 0.8396 - loss: 0.4440 - val_accuracy: 0.8234 - val_loss: 0.4780\n",
      "Epoch 6/15\n",
      "\u001b[1m98/98\u001b[0m \u001b[32m━━━━━━━━━━━━━━━━━━━━\u001b[0m\u001b[37m\u001b[0m \u001b[1m2s\u001b[0m 24ms/step - accuracy: 0.8508 - loss: 0.4086 - val_accuracy: 0.8336 - val_loss: 0.4508\n",
      "Epoch 7/15\n",
      "\u001b[1m98/98\u001b[0m \u001b[32m━━━━━━━━━━━━━━━━━━━━\u001b[0m\u001b[37m\u001b[0m \u001b[1m2s\u001b[0m 25ms/step - accuracy: 0.8667 - loss: 0.3702 - val_accuracy: 0.8392 - val_loss: 0.4346\n",
      "Epoch 8/15\n",
      "\u001b[1m98/98\u001b[0m \u001b[32m━━━━━━━━━━━━━━━━━━━━\u001b[0m\u001b[37m\u001b[0m \u001b[1m2s\u001b[0m 24ms/step - accuracy: 0.8678 - loss: 0.3585 - val_accuracy: 0.8352 - val_loss: 0.4508\n",
      "Epoch 9/15\n",
      "\u001b[1m98/98\u001b[0m \u001b[32m━━━━━━━━━━━━━━━━━━━━\u001b[0m\u001b[37m\u001b[0m \u001b[1m3s\u001b[0m 26ms/step - accuracy: 0.8713 - loss: 0.3498 - val_accuracy: 0.8386 - val_loss: 0.4458\n",
      "Epoch 10/15\n",
      "\u001b[1m98/98\u001b[0m \u001b[32m━━━━━━━━━━━━━━━━━━━━\u001b[0m\u001b[37m\u001b[0m \u001b[1m3s\u001b[0m 26ms/step - accuracy: 0.8835 - loss: 0.3221 - val_accuracy: 0.8392 - val_loss: 0.4380\n",
      "Epoch 11/15\n",
      "\u001b[1m98/98\u001b[0m \u001b[32m━━━━━━━━━━━━━━━━━━━━\u001b[0m\u001b[37m\u001b[0m \u001b[1m2s\u001b[0m 25ms/step - accuracy: 0.8909 - loss: 0.2985 - val_accuracy: 0.8480 - val_loss: 0.4293\n",
      "Epoch 12/15\n",
      "\u001b[1m98/98\u001b[0m \u001b[32m━━━━━━━━━━━━━━━━━━━━\u001b[0m\u001b[37m\u001b[0m \u001b[1m2s\u001b[0m 25ms/step - accuracy: 0.8977 - loss: 0.2827 - val_accuracy: 0.8458 - val_loss: 0.4292\n",
      "Epoch 13/15\n",
      "\u001b[1m98/98\u001b[0m \u001b[32m━━━━━━━━━━━━━━━━━━━━\u001b[0m\u001b[37m\u001b[0m \u001b[1m2s\u001b[0m 25ms/step - accuracy: 0.8991 - loss: 0.2741 - val_accuracy: 0.8468 - val_loss: 0.4446\n",
      "Epoch 14/15\n",
      "\u001b[1m98/98\u001b[0m \u001b[32m━━━━━━━━━━━━━━━━━━━━\u001b[0m\u001b[37m\u001b[0m \u001b[1m3s\u001b[0m 26ms/step - accuracy: 0.9104 - loss: 0.2521 - val_accuracy: 0.8458 - val_loss: 0.4552\n",
      "Epoch 15/15\n",
      "\u001b[1m98/98\u001b[0m \u001b[32m━━━━━━━━━━━━━━━━━━━━\u001b[0m\u001b[37m\u001b[0m \u001b[1m3s\u001b[0m 27ms/step - accuracy: 0.9176 - loss: 0.2258 - val_accuracy: 0.8432 - val_loss: 0.4905\n",
      "\u001b[1m157/157\u001b[0m \u001b[32m━━━━━━━━━━━━━━━━━━━━\u001b[0m\u001b[37m\u001b[0m \u001b[1m0s\u001b[0m 2ms/step\n"
     ]
    },
    {
     "name": "stderr",
     "output_type": "stream",
     "text": [
      " 60%|██████    | 3/5 [07:55<05:14, 157.28s/it]"
     ]
    },
    {
     "name": "stdout",
     "output_type": "stream",
     "text": [
      "CNN accuracie 0.8432\n",
      "############################## Level noise : 3.0 ##############################\n",
      "train set noising\n"
     ]
    },
    {
     "name": "stderr",
     "output_type": "stream",
     "text": [
      "Generating dataset: 100%|██████████| 25000/25000 [00:01<00:00, 19291.73it/s]\n"
     ]
    },
    {
     "name": "stdout",
     "output_type": "stream",
     "text": [
      "test set noising\n"
     ]
    },
    {
     "name": "stderr",
     "output_type": "stream",
     "text": [
      "100%|██████████| 5000/5000 [00:00<00:00, 19453.20it/s]\n"
     ]
    },
    {
     "name": "stdout",
     "output_type": "stream",
     "text": [
      "Exécution NTKRR\n",
      "NTKRR accuracie 0.8048\n",
      "Exécution RFKRR\n",
      "RFKRR accuracie 0.773\n",
      "Exécution NN\n",
      "Epoch 1/30\n",
      "\u001b[1m98/98\u001b[0m \u001b[32m━━━━━━━━━━━━━━━━━━━━\u001b[0m\u001b[37m\u001b[0m \u001b[1m1s\u001b[0m 7ms/step - accuracy: 0.1641 - loss: 2.1725 - val_accuracy: 0.5232 - val_loss: 1.1896\n",
      "Epoch 2/30\n",
      "\u001b[1m98/98\u001b[0m \u001b[32m━━━━━━━━━━━━━━━━━━━━\u001b[0m\u001b[37m\u001b[0m \u001b[1m1s\u001b[0m 7ms/step - accuracy: 0.5197 - loss: 1.1519 - val_accuracy: 0.6070 - val_loss: 0.9722\n",
      "Epoch 3/30\n",
      "\u001b[1m98/98\u001b[0m \u001b[32m━━━━━━━━━━━━━━━━━━━━\u001b[0m\u001b[37m\u001b[0m \u001b[1m1s\u001b[0m 6ms/step - accuracy: 0.6067 - loss: 0.9769 - val_accuracy: 0.6376 - val_loss: 0.9193\n",
      "Epoch 4/30\n",
      "\u001b[1m98/98\u001b[0m \u001b[32m━━━━━━━━━━━━━━━━━━━━\u001b[0m\u001b[37m\u001b[0m \u001b[1m1s\u001b[0m 6ms/step - accuracy: 0.6303 - loss: 0.9098 - val_accuracy: 0.6518 - val_loss: 0.8802\n",
      "Epoch 5/30\n",
      "\u001b[1m98/98\u001b[0m \u001b[32m━━━━━━━━━━━━━━━━━━━━\u001b[0m\u001b[37m\u001b[0m \u001b[1m1s\u001b[0m 6ms/step - accuracy: 0.6646 - loss: 0.8365 - val_accuracy: 0.6800 - val_loss: 0.8264\n",
      "Epoch 6/30\n",
      "\u001b[1m98/98\u001b[0m \u001b[32m━━━━━━━━━━━━━━━━━━━━\u001b[0m\u001b[37m\u001b[0m \u001b[1m1s\u001b[0m 6ms/step - accuracy: 0.7044 - loss: 0.7502 - val_accuracy: 0.6924 - val_loss: 0.7785\n",
      "Epoch 7/30\n",
      "\u001b[1m98/98\u001b[0m \u001b[32m━━━━━━━━━━━━━━━━━━━━\u001b[0m\u001b[37m\u001b[0m \u001b[1m1s\u001b[0m 6ms/step - accuracy: 0.7436 - loss: 0.6730 - val_accuracy: 0.7084 - val_loss: 0.7638\n",
      "Epoch 8/30\n",
      "\u001b[1m98/98\u001b[0m \u001b[32m━━━━━━━━━━━━━━━━━━━━\u001b[0m\u001b[37m\u001b[0m \u001b[1m1s\u001b[0m 6ms/step - accuracy: 0.7618 - loss: 0.6159 - val_accuracy: 0.7196 - val_loss: 0.7368\n",
      "Epoch 9/30\n",
      "\u001b[1m98/98\u001b[0m \u001b[32m━━━━━━━━━━━━━━━━━━━━\u001b[0m\u001b[37m\u001b[0m \u001b[1m1s\u001b[0m 6ms/step - accuracy: 0.7939 - loss: 0.5321 - val_accuracy: 0.7280 - val_loss: 0.7313\n",
      "Epoch 10/30\n",
      "\u001b[1m98/98\u001b[0m \u001b[32m━━━━━━━━━━━━━━━━━━━━\u001b[0m\u001b[37m\u001b[0m \u001b[1m1s\u001b[0m 6ms/step - accuracy: 0.8205 - loss: 0.4799 - val_accuracy: 0.7294 - val_loss: 0.7227\n",
      "Epoch 11/30\n",
      "\u001b[1m98/98\u001b[0m \u001b[32m━━━━━━━━━━━━━━━━━━━━\u001b[0m\u001b[37m\u001b[0m \u001b[1m1s\u001b[0m 6ms/step - accuracy: 0.8510 - loss: 0.4084 - val_accuracy: 0.7288 - val_loss: 0.7344\n",
      "Epoch 12/30\n",
      "\u001b[1m98/98\u001b[0m \u001b[32m━━━━━━━━━━━━━━━━━━━━\u001b[0m\u001b[37m\u001b[0m \u001b[1m1s\u001b[0m 6ms/step - accuracy: 0.8715 - loss: 0.3520 - val_accuracy: 0.7324 - val_loss: 0.7659\n",
      "Epoch 13/30\n",
      "\u001b[1m98/98\u001b[0m \u001b[32m━━━━━━━━━━━━━━━━━━━━\u001b[0m\u001b[37m\u001b[0m \u001b[1m1s\u001b[0m 7ms/step - accuracy: 0.8966 - loss: 0.2949 - val_accuracy: 0.7254 - val_loss: 0.8124\n",
      "Epoch 14/30\n",
      "\u001b[1m98/98\u001b[0m \u001b[32m━━━━━━━━━━━━━━━━━━━━\u001b[0m\u001b[37m\u001b[0m \u001b[1m1s\u001b[0m 6ms/step - accuracy: 0.9115 - loss: 0.2538 - val_accuracy: 0.7278 - val_loss: 0.8390\n",
      "Epoch 15/30\n",
      "\u001b[1m98/98\u001b[0m \u001b[32m━━━━━━━━━━━━━━━━━━━━\u001b[0m\u001b[37m\u001b[0m \u001b[1m1s\u001b[0m 7ms/step - accuracy: 0.9298 - loss: 0.2083 - val_accuracy: 0.7176 - val_loss: 0.8799\n",
      "Epoch 16/30\n",
      "\u001b[1m98/98\u001b[0m \u001b[32m━━━━━━━━━━━━━━━━━━━━\u001b[0m\u001b[37m\u001b[0m \u001b[1m1s\u001b[0m 7ms/step - accuracy: 0.9422 - loss: 0.1724 - val_accuracy: 0.7202 - val_loss: 0.9638\n",
      "Epoch 17/30\n",
      "\u001b[1m98/98\u001b[0m \u001b[32m━━━━━━━━━━━━━━━━━━━━\u001b[0m\u001b[37m\u001b[0m \u001b[1m1s\u001b[0m 7ms/step - accuracy: 0.9539 - loss: 0.1458 - val_accuracy: 0.7258 - val_loss: 0.9733\n",
      "Epoch 18/30\n",
      "\u001b[1m98/98\u001b[0m \u001b[32m━━━━━━━━━━━━━━━━━━━━\u001b[0m\u001b[37m\u001b[0m \u001b[1m1s\u001b[0m 7ms/step - accuracy: 0.9609 - loss: 0.1217 - val_accuracy: 0.7110 - val_loss: 1.0960\n",
      "Epoch 19/30\n",
      "\u001b[1m98/98\u001b[0m \u001b[32m━━━━━━━━━━━━━━━━━━━━\u001b[0m\u001b[37m\u001b[0m \u001b[1m1s\u001b[0m 7ms/step - accuracy: 0.9669 - loss: 0.1055 - val_accuracy: 0.7256 - val_loss: 1.1087\n",
      "Epoch 20/30\n",
      "\u001b[1m98/98\u001b[0m \u001b[32m━━━━━━━━━━━━━━━━━━━━\u001b[0m\u001b[37m\u001b[0m \u001b[1m1s\u001b[0m 7ms/step - accuracy: 0.9720 - loss: 0.0869 - val_accuracy: 0.7288 - val_loss: 1.1265\n",
      "Epoch 21/30\n",
      "\u001b[1m98/98\u001b[0m \u001b[32m━━━━━━━━━━━━━━━━━━━━\u001b[0m\u001b[37m\u001b[0m \u001b[1m1s\u001b[0m 7ms/step - accuracy: 0.9756 - loss: 0.0804 - val_accuracy: 0.7246 - val_loss: 1.1350\n",
      "Epoch 22/30\n",
      "\u001b[1m98/98\u001b[0m \u001b[32m━━━━━━━━━━━━━━━━━━━━\u001b[0m\u001b[37m\u001b[0m \u001b[1m1s\u001b[0m 7ms/step - accuracy: 0.9803 - loss: 0.0638 - val_accuracy: 0.7254 - val_loss: 1.1798\n",
      "Epoch 23/30\n",
      "\u001b[1m98/98\u001b[0m \u001b[32m━━━━━━━━━━━━━━━━━━━━\u001b[0m\u001b[37m\u001b[0m \u001b[1m1s\u001b[0m 7ms/step - accuracy: 0.9816 - loss: 0.0580 - val_accuracy: 0.7152 - val_loss: 1.2471\n",
      "Epoch 24/30\n",
      "\u001b[1m98/98\u001b[0m \u001b[32m━━━━━━━━━━━━━━━━━━━━\u001b[0m\u001b[37m\u001b[0m \u001b[1m1s\u001b[0m 7ms/step - accuracy: 0.9821 - loss: 0.0549 - val_accuracy: 0.7266 - val_loss: 1.2546\n",
      "Epoch 25/30\n",
      "\u001b[1m98/98\u001b[0m \u001b[32m━━━━━━━━━━━━━━━━━━━━\u001b[0m\u001b[37m\u001b[0m \u001b[1m1s\u001b[0m 7ms/step - accuracy: 0.9829 - loss: 0.0551 - val_accuracy: 0.7178 - val_loss: 1.3340\n",
      "Epoch 26/30\n",
      "\u001b[1m98/98\u001b[0m \u001b[32m━━━━━━━━━━━━━━━━━━━━\u001b[0m\u001b[37m\u001b[0m \u001b[1m1s\u001b[0m 7ms/step - accuracy: 0.9839 - loss: 0.0515 - val_accuracy: 0.7230 - val_loss: 1.3041\n",
      "Epoch 27/30\n",
      "\u001b[1m98/98\u001b[0m \u001b[32m━━━━━━━━━━━━━━━━━━━━\u001b[0m\u001b[37m\u001b[0m \u001b[1m1s\u001b[0m 7ms/step - accuracy: 0.9833 - loss: 0.0510 - val_accuracy: 0.7192 - val_loss: 1.4097\n",
      "Epoch 28/30\n",
      "\u001b[1m98/98\u001b[0m \u001b[32m━━━━━━━━━━━━━━━━━━━━\u001b[0m\u001b[37m\u001b[0m \u001b[1m1s\u001b[0m 6ms/step - accuracy: 0.9809 - loss: 0.0552 - val_accuracy: 0.7166 - val_loss: 1.3727\n",
      "Epoch 29/30\n",
      "\u001b[1m98/98\u001b[0m \u001b[32m━━━━━━━━━━━━━━━━━━━━\u001b[0m\u001b[37m\u001b[0m \u001b[1m1s\u001b[0m 6ms/step - accuracy: 0.9843 - loss: 0.0458 - val_accuracy: 0.7046 - val_loss: 1.4428\n",
      "Epoch 30/30\n",
      "\u001b[1m98/98\u001b[0m \u001b[32m━━━━━━━━━━━━━━━━━━━━\u001b[0m\u001b[37m\u001b[0m \u001b[1m1s\u001b[0m 7ms/step - accuracy: 0.9848 - loss: 0.0473 - val_accuracy: 0.7192 - val_loss: 1.4633\n",
      "\u001b[1m157/157\u001b[0m \u001b[32m━━━━━━━━━━━━━━━━━━━━\u001b[0m\u001b[37m\u001b[0m \u001b[1m0s\u001b[0m 1ms/step\n",
      "NN accuracie 0.7192\n",
      "Exécution CNN\n",
      "Epoch 1/15\n",
      "\u001b[1m98/98\u001b[0m \u001b[32m━━━━━━━━━━━━━━━━━━━━\u001b[0m\u001b[37m\u001b[0m \u001b[1m3s\u001b[0m 25ms/step - accuracy: 0.3680 - loss: 1.8010 - val_accuracy: 0.7178 - val_loss: 0.7686\n",
      "Epoch 2/15\n",
      "\u001b[1m98/98\u001b[0m \u001b[32m━━━━━━━━━━━━━━━━━━━━\u001b[0m\u001b[37m\u001b[0m \u001b[1m3s\u001b[0m 26ms/step - accuracy: 0.7377 - loss: 0.7223 - val_accuracy: 0.7470 - val_loss: 0.6723\n",
      "Epoch 3/15\n",
      "\u001b[1m98/98\u001b[0m \u001b[32m━━━━━━━━━━━━━━━━━━━━\u001b[0m\u001b[37m\u001b[0m \u001b[1m3s\u001b[0m 27ms/step - accuracy: 0.7707 - loss: 0.6292 - val_accuracy: 0.7584 - val_loss: 0.6254\n",
      "Epoch 4/15\n",
      "\u001b[1m98/98\u001b[0m \u001b[32m━━━━━━━━━━━━━━━━━━━━\u001b[0m\u001b[37m\u001b[0m \u001b[1m3s\u001b[0m 30ms/step - accuracy: 0.7886 - loss: 0.5831 - val_accuracy: 0.7844 - val_loss: 0.5786\n",
      "Epoch 5/15\n",
      "\u001b[1m98/98\u001b[0m \u001b[32m━━━━━━━━━━━━━━━━━━━━\u001b[0m\u001b[37m\u001b[0m \u001b[1m2s\u001b[0m 25ms/step - accuracy: 0.8024 - loss: 0.5345 - val_accuracy: 0.7972 - val_loss: 0.5488\n",
      "Epoch 6/15\n",
      "\u001b[1m98/98\u001b[0m \u001b[32m━━━━━━━━━━━━━━━━━━━━\u001b[0m\u001b[37m\u001b[0m \u001b[1m3s\u001b[0m 25ms/step - accuracy: 0.8196 - loss: 0.5059 - val_accuracy: 0.8122 - val_loss: 0.5220\n",
      "Epoch 7/15\n",
      "\u001b[1m98/98\u001b[0m \u001b[32m━━━━━━━━━━━━━━━━━━━━\u001b[0m\u001b[37m\u001b[0m \u001b[1m3s\u001b[0m 26ms/step - accuracy: 0.8257 - loss: 0.4824 - val_accuracy: 0.8122 - val_loss: 0.5094\n",
      "Epoch 8/15\n",
      "\u001b[1m98/98\u001b[0m \u001b[32m━━━━━━━━━━━━━━━━━━━━\u001b[0m\u001b[37m\u001b[0m \u001b[1m3s\u001b[0m 26ms/step - accuracy: 0.8345 - loss: 0.4507 - val_accuracy: 0.8148 - val_loss: 0.4981\n",
      "Epoch 9/15\n",
      "\u001b[1m98/98\u001b[0m \u001b[32m━━━━━━━━━━━━━━━━━━━━\u001b[0m\u001b[37m\u001b[0m \u001b[1m3s\u001b[0m 26ms/step - accuracy: 0.8473 - loss: 0.4168 - val_accuracy: 0.8234 - val_loss: 0.4956\n",
      "Epoch 10/15\n",
      "\u001b[1m98/98\u001b[0m \u001b[32m━━━━━━━━━━━━━━━━━━━━\u001b[0m\u001b[37m\u001b[0m \u001b[1m2s\u001b[0m 25ms/step - accuracy: 0.8499 - loss: 0.4072 - val_accuracy: 0.8074 - val_loss: 0.5048\n",
      "Epoch 11/15\n",
      "\u001b[1m98/98\u001b[0m \u001b[32m━━━━━━━━━━━━━━━━━━━━\u001b[0m\u001b[37m\u001b[0m \u001b[1m2s\u001b[0m 25ms/step - accuracy: 0.8532 - loss: 0.3959 - val_accuracy: 0.8234 - val_loss: 0.4892\n",
      "Epoch 12/15\n",
      "\u001b[1m98/98\u001b[0m \u001b[32m━━━━━━━━━━━━━━━━━━━━\u001b[0m\u001b[37m\u001b[0m \u001b[1m2s\u001b[0m 25ms/step - accuracy: 0.8624 - loss: 0.3829 - val_accuracy: 0.8300 - val_loss: 0.4710\n",
      "Epoch 13/15\n",
      "\u001b[1m98/98\u001b[0m \u001b[32m━━━━━━━━━━━━━━━━━━━━\u001b[0m\u001b[37m\u001b[0m \u001b[1m2s\u001b[0m 25ms/step - accuracy: 0.8661 - loss: 0.3674 - val_accuracy: 0.8262 - val_loss: 0.4729\n",
      "Epoch 14/15\n",
      "\u001b[1m98/98\u001b[0m \u001b[32m━━━━━━━━━━━━━━━━━━━━\u001b[0m\u001b[37m\u001b[0m \u001b[1m2s\u001b[0m 25ms/step - accuracy: 0.8710 - loss: 0.3590 - val_accuracy: 0.8268 - val_loss: 0.4666\n",
      "Epoch 15/15\n",
      "\u001b[1m98/98\u001b[0m \u001b[32m━━━━━━━━━━━━━━━━━━━━\u001b[0m\u001b[37m\u001b[0m \u001b[1m2s\u001b[0m 25ms/step - accuracy: 0.8798 - loss: 0.3300 - val_accuracy: 0.8174 - val_loss: 0.4877\n",
      "\u001b[1m157/157\u001b[0m \u001b[32m━━━━━━━━━━━━━━━━━━━━\u001b[0m\u001b[37m\u001b[0m \u001b[1m0s\u001b[0m 2ms/step\n"
     ]
    },
    {
     "name": "stderr",
     "output_type": "stream",
     "text": [
      " 80%|████████  | 4/5 [10:30<02:36, 156.43s/it]"
     ]
    },
    {
     "name": "stdout",
     "output_type": "stream",
     "text": [
      "CNN accuracie 0.8174\n",
      "############################## Level noise : 4.0 ##############################\n",
      "train set noising\n"
     ]
    },
    {
     "name": "stderr",
     "output_type": "stream",
     "text": [
      "Generating dataset: 100%|██████████| 25000/25000 [00:01<00:00, 19742.83it/s]\n"
     ]
    },
    {
     "name": "stdout",
     "output_type": "stream",
     "text": [
      "test set noising\n"
     ]
    },
    {
     "name": "stderr",
     "output_type": "stream",
     "text": [
      "100%|██████████| 5000/5000 [00:00<00:00, 19923.07it/s]\n"
     ]
    },
    {
     "name": "stdout",
     "output_type": "stream",
     "text": [
      "Exécution NTKRR\n",
      "NTKRR accuracie 0.8004\n",
      "Exécution RFKRR\n",
      "RFKRR accuracie 0.7502\n",
      "Exécution NN\n",
      "Epoch 1/30\n",
      "\u001b[1m98/98\u001b[0m \u001b[32m━━━━━━━━━━━━━━━━━━━━\u001b[0m\u001b[37m\u001b[0m \u001b[1m1s\u001b[0m 7ms/step - accuracy: 0.1450 - loss: 2.2374 - val_accuracy: 0.4426 - val_loss: 1.4380\n",
      "Epoch 2/30\n",
      "\u001b[1m98/98\u001b[0m \u001b[32m━━━━━━━━━━━━━━━━━━━━\u001b[0m\u001b[37m\u001b[0m \u001b[1m1s\u001b[0m 6ms/step - accuracy: 0.4694 - loss: 1.2960 - val_accuracy: 0.5714 - val_loss: 1.0606\n",
      "Epoch 3/30\n",
      "\u001b[1m98/98\u001b[0m \u001b[32m━━━━━━━━━━━━━━━━━━━━\u001b[0m\u001b[37m\u001b[0m \u001b[1m1s\u001b[0m 6ms/step - accuracy: 0.5677 - loss: 1.0593 - val_accuracy: 0.6044 - val_loss: 0.9826\n",
      "Epoch 4/30\n",
      "\u001b[1m98/98\u001b[0m \u001b[32m━━━━━━━━━━━━━━━━━━━━\u001b[0m\u001b[37m\u001b[0m \u001b[1m1s\u001b[0m 6ms/step - accuracy: 0.6127 - loss: 0.9678 - val_accuracy: 0.6308 - val_loss: 0.9327\n",
      "Epoch 5/30\n",
      "\u001b[1m98/98\u001b[0m \u001b[32m━━━━━━━━━━━━━━━━━━━━\u001b[0m\u001b[37m\u001b[0m \u001b[1m1s\u001b[0m 7ms/step - accuracy: 0.6384 - loss: 0.8935 - val_accuracy: 0.6192 - val_loss: 0.9426\n",
      "Epoch 6/30\n",
      "\u001b[1m98/98\u001b[0m \u001b[32m━━━━━━━━━━━━━━━━━━━━\u001b[0m\u001b[37m\u001b[0m \u001b[1m1s\u001b[0m 6ms/step - accuracy: 0.6668 - loss: 0.8392 - val_accuracy: 0.6726 - val_loss: 0.8635\n",
      "Epoch 7/30\n",
      "\u001b[1m98/98\u001b[0m \u001b[32m━━━━━━━━━━━━━━━━━━━━\u001b[0m\u001b[37m\u001b[0m \u001b[1m1s\u001b[0m 7ms/step - accuracy: 0.7048 - loss: 0.7549 - val_accuracy: 0.6678 - val_loss: 0.8601\n",
      "Epoch 8/30\n",
      "\u001b[1m98/98\u001b[0m \u001b[32m━━━━━━━━━━━━━━━━━━━━\u001b[0m\u001b[37m\u001b[0m \u001b[1m1s\u001b[0m 6ms/step - accuracy: 0.7325 - loss: 0.6857 - val_accuracy: 0.6794 - val_loss: 0.8451\n",
      "Epoch 9/30\n",
      "\u001b[1m98/98\u001b[0m \u001b[32m━━━━━━━━━━━━━━━━━━━━\u001b[0m\u001b[37m\u001b[0m \u001b[1m1s\u001b[0m 6ms/step - accuracy: 0.7654 - loss: 0.6113 - val_accuracy: 0.6848 - val_loss: 0.8452\n",
      "Epoch 10/30\n",
      "\u001b[1m98/98\u001b[0m \u001b[32m━━━━━━━━━━━━━━━━━━━━\u001b[0m\u001b[37m\u001b[0m \u001b[1m1s\u001b[0m 6ms/step - accuracy: 0.7965 - loss: 0.5414 - val_accuracy: 0.6930 - val_loss: 0.8606\n",
      "Epoch 11/30\n",
      "\u001b[1m98/98\u001b[0m \u001b[32m━━━━━━━━━━━━━━━━━━━━\u001b[0m\u001b[37m\u001b[0m \u001b[1m1s\u001b[0m 6ms/step - accuracy: 0.8242 - loss: 0.4765 - val_accuracy: 0.6700 - val_loss: 0.9028\n",
      "Epoch 12/30\n",
      "\u001b[1m98/98\u001b[0m \u001b[32m━━━━━━━━━━━━━━━━━━━━\u001b[0m\u001b[37m\u001b[0m \u001b[1m1s\u001b[0m 6ms/step - accuracy: 0.8446 - loss: 0.4220 - val_accuracy: 0.6738 - val_loss: 0.9605\n",
      "Epoch 13/30\n",
      "\u001b[1m98/98\u001b[0m \u001b[32m━━━━━━━━━━━━━━━━━━━━\u001b[0m\u001b[37m\u001b[0m \u001b[1m1s\u001b[0m 6ms/step - accuracy: 0.8694 - loss: 0.3558 - val_accuracy: 0.6844 - val_loss: 0.9464\n",
      "Epoch 14/30\n",
      "\u001b[1m98/98\u001b[0m \u001b[32m━━━━━━━━━━━━━━━━━━━━\u001b[0m\u001b[37m\u001b[0m \u001b[1m1s\u001b[0m 6ms/step - accuracy: 0.8922 - loss: 0.3091 - val_accuracy: 0.6720 - val_loss: 1.0173\n",
      "Epoch 15/30\n",
      "\u001b[1m98/98\u001b[0m \u001b[32m━━━━━━━━━━━━━━━━━━━━\u001b[0m\u001b[37m\u001b[0m \u001b[1m1s\u001b[0m 6ms/step - accuracy: 0.9109 - loss: 0.2520 - val_accuracy: 0.6840 - val_loss: 1.0657\n",
      "Epoch 16/30\n",
      "\u001b[1m98/98\u001b[0m \u001b[32m━━━━━━━━━━━━━━━━━━━━\u001b[0m\u001b[37m\u001b[0m \u001b[1m1s\u001b[0m 6ms/step - accuracy: 0.9238 - loss: 0.2126 - val_accuracy: 0.6740 - val_loss: 1.1650\n",
      "Epoch 17/30\n",
      "\u001b[1m98/98\u001b[0m \u001b[32m━━━━━━━━━━━━━━━━━━━━\u001b[0m\u001b[37m\u001b[0m \u001b[1m1s\u001b[0m 6ms/step - accuracy: 0.9333 - loss: 0.1909 - val_accuracy: 0.6772 - val_loss: 1.1886\n",
      "Epoch 18/30\n",
      "\u001b[1m98/98\u001b[0m \u001b[32m━━━━━━━━━━━━━━━━━━━━\u001b[0m\u001b[37m\u001b[0m \u001b[1m1s\u001b[0m 6ms/step - accuracy: 0.9449 - loss: 0.1642 - val_accuracy: 0.6696 - val_loss: 1.2525\n",
      "Epoch 19/30\n",
      "\u001b[1m98/98\u001b[0m \u001b[32m━━━━━━━━━━━━━━━━━━━━\u001b[0m\u001b[37m\u001b[0m \u001b[1m1s\u001b[0m 6ms/step - accuracy: 0.9452 - loss: 0.1563 - val_accuracy: 0.6796 - val_loss: 1.2861\n",
      "Epoch 20/30\n",
      "\u001b[1m98/98\u001b[0m \u001b[32m━━━━━━━━━━━━━━━━━━━━\u001b[0m\u001b[37m\u001b[0m \u001b[1m1s\u001b[0m 6ms/step - accuracy: 0.9572 - loss: 0.1270 - val_accuracy: 0.6788 - val_loss: 1.3064\n",
      "Epoch 21/30\n",
      "\u001b[1m98/98\u001b[0m \u001b[32m━━━━━━━━━━━━━━━━━━━━\u001b[0m\u001b[37m\u001b[0m \u001b[1m1s\u001b[0m 6ms/step - accuracy: 0.9615 - loss: 0.1097 - val_accuracy: 0.6818 - val_loss: 1.3370\n",
      "Epoch 22/30\n",
      "\u001b[1m98/98\u001b[0m \u001b[32m━━━━━━━━━━━━━━━━━━━━\u001b[0m\u001b[37m\u001b[0m \u001b[1m1s\u001b[0m 6ms/step - accuracy: 0.9628 - loss: 0.1048 - val_accuracy: 0.6764 - val_loss: 1.3445\n",
      "Epoch 23/30\n",
      "\u001b[1m98/98\u001b[0m \u001b[32m━━━━━━━━━━━━━━━━━━━━\u001b[0m\u001b[37m\u001b[0m \u001b[1m1s\u001b[0m 6ms/step - accuracy: 0.9701 - loss: 0.0930 - val_accuracy: 0.6752 - val_loss: 1.4417\n",
      "Epoch 24/30\n",
      "\u001b[1m98/98\u001b[0m \u001b[32m━━━━━━━━━━━━━━━━━━━━\u001b[0m\u001b[37m\u001b[0m \u001b[1m1s\u001b[0m 6ms/step - accuracy: 0.9711 - loss: 0.0830 - val_accuracy: 0.6798 - val_loss: 1.4487\n",
      "Epoch 25/30\n",
      "\u001b[1m98/98\u001b[0m \u001b[32m━━━━━━━━━━━━━━━━━━━━\u001b[0m\u001b[37m\u001b[0m \u001b[1m1s\u001b[0m 6ms/step - accuracy: 0.9742 - loss: 0.0783 - val_accuracy: 0.6746 - val_loss: 1.4928\n",
      "Epoch 26/30\n",
      "\u001b[1m98/98\u001b[0m \u001b[32m━━━━━━━━━━━━━━━━━━━━\u001b[0m\u001b[37m\u001b[0m \u001b[1m1s\u001b[0m 6ms/step - accuracy: 0.9742 - loss: 0.0794 - val_accuracy: 0.6706 - val_loss: 1.5442\n",
      "Epoch 27/30\n",
      "\u001b[1m98/98\u001b[0m \u001b[32m━━━━━━━━━━━━━━━━━━━━\u001b[0m\u001b[37m\u001b[0m \u001b[1m1s\u001b[0m 6ms/step - accuracy: 0.9769 - loss: 0.0662 - val_accuracy: 0.6812 - val_loss: 1.4929\n",
      "Epoch 28/30\n",
      "\u001b[1m98/98\u001b[0m \u001b[32m━━━━━━━━━━━━━━━━━━━━\u001b[0m\u001b[37m\u001b[0m \u001b[1m1s\u001b[0m 6ms/step - accuracy: 0.9822 - loss: 0.0582 - val_accuracy: 0.6750 - val_loss: 1.6177\n",
      "Epoch 29/30\n",
      "\u001b[1m98/98\u001b[0m \u001b[32m━━━━━━━━━━━━━━━━━━━━\u001b[0m\u001b[37m\u001b[0m \u001b[1m1s\u001b[0m 6ms/step - accuracy: 0.9807 - loss: 0.0586 - val_accuracy: 0.6694 - val_loss: 1.6191\n",
      "Epoch 30/30\n",
      "\u001b[1m98/98\u001b[0m \u001b[32m━━━━━━━━━━━━━━━━━━━━\u001b[0m\u001b[37m\u001b[0m \u001b[1m1s\u001b[0m 6ms/step - accuracy: 0.9803 - loss: 0.0595 - val_accuracy: 0.6710 - val_loss: 1.6587\n",
      "\u001b[1m157/157\u001b[0m \u001b[32m━━━━━━━━━━━━━━━━━━━━\u001b[0m\u001b[37m\u001b[0m \u001b[1m0s\u001b[0m 1ms/step\n",
      "NN accuracie 0.671\n",
      "Exécution CNN\n",
      "Epoch 1/15\n",
      "\u001b[1m98/98\u001b[0m \u001b[32m━━━━━━━━━━━━━━━━━━━━\u001b[0m\u001b[37m\u001b[0m \u001b[1m3s\u001b[0m 26ms/step - accuracy: 0.3461 - loss: 1.7946 - val_accuracy: 0.6826 - val_loss: 0.8058\n",
      "Epoch 2/15\n",
      "\u001b[1m98/98\u001b[0m \u001b[32m━━━━━━━━━━━━━━━━━━━━\u001b[0m\u001b[37m\u001b[0m \u001b[1m3s\u001b[0m 26ms/step - accuracy: 0.7231 - loss: 0.7306 - val_accuracy: 0.7484 - val_loss: 0.6796\n",
      "Epoch 3/15\n",
      "\u001b[1m98/98\u001b[0m \u001b[32m━━━━━━━━━━━━━━━━━━━━\u001b[0m\u001b[37m\u001b[0m \u001b[1m3s\u001b[0m 27ms/step - accuracy: 0.7639 - loss: 0.6256 - val_accuracy: 0.7632 - val_loss: 0.6202\n",
      "Epoch 4/15\n",
      "\u001b[1m98/98\u001b[0m \u001b[32m━━━━━━━━━━━━━━━━━━━━\u001b[0m\u001b[37m\u001b[0m \u001b[1m2s\u001b[0m 25ms/step - accuracy: 0.7939 - loss: 0.5532 - val_accuracy: 0.7630 - val_loss: 0.6131\n",
      "Epoch 5/15\n",
      "\u001b[1m98/98\u001b[0m \u001b[32m━━━━━━━━━━━━━━━━━━━━\u001b[0m\u001b[37m\u001b[0m \u001b[1m2s\u001b[0m 25ms/step - accuracy: 0.8049 - loss: 0.5243 - val_accuracy: 0.7918 - val_loss: 0.5556\n",
      "Epoch 6/15\n",
      "\u001b[1m98/98\u001b[0m \u001b[32m━━━━━━━━━━━━━━━━━━━━\u001b[0m\u001b[37m\u001b[0m \u001b[1m3s\u001b[0m 25ms/step - accuracy: 0.8216 - loss: 0.4838 - val_accuracy: 0.8038 - val_loss: 0.5191\n",
      "Epoch 7/15\n",
      "\u001b[1m98/98\u001b[0m \u001b[32m━━━━━━━━━━━━━━━━━━━━\u001b[0m\u001b[37m\u001b[0m \u001b[1m3s\u001b[0m 25ms/step - accuracy: 0.8319 - loss: 0.4564 - val_accuracy: 0.7968 - val_loss: 0.5340\n",
      "Epoch 8/15\n",
      "\u001b[1m98/98\u001b[0m \u001b[32m━━━━━━━━━━━━━━━━━━━━\u001b[0m\u001b[37m\u001b[0m \u001b[1m2s\u001b[0m 25ms/step - accuracy: 0.8477 - loss: 0.4246 - val_accuracy: 0.8140 - val_loss: 0.5157\n",
      "Epoch 9/15\n",
      "\u001b[1m98/98\u001b[0m \u001b[32m━━━━━━━━━━━━━━━━━━━━\u001b[0m\u001b[37m\u001b[0m \u001b[1m2s\u001b[0m 25ms/step - accuracy: 0.8522 - loss: 0.4051 - val_accuracy: 0.8184 - val_loss: 0.4942\n",
      "Epoch 10/15\n",
      "\u001b[1m98/98\u001b[0m \u001b[32m━━━━━━━━━━━━━━━━━━━━\u001b[0m\u001b[37m\u001b[0m \u001b[1m2s\u001b[0m 25ms/step - accuracy: 0.8672 - loss: 0.3647 - val_accuracy: 0.8198 - val_loss: 0.4910\n",
      "Epoch 11/15\n",
      "\u001b[1m98/98\u001b[0m \u001b[32m━━━━━━━━━━━━━━━━━━━━\u001b[0m\u001b[37m\u001b[0m \u001b[1m2s\u001b[0m 25ms/step - accuracy: 0.8745 - loss: 0.3478 - val_accuracy: 0.8252 - val_loss: 0.4796\n",
      "Epoch 12/15\n",
      "\u001b[1m98/98\u001b[0m \u001b[32m━━━━━━━━━━━━━━━━━━━━\u001b[0m\u001b[37m\u001b[0m \u001b[1m2s\u001b[0m 25ms/step - accuracy: 0.8798 - loss: 0.3304 - val_accuracy: 0.8224 - val_loss: 0.4935\n",
      "Epoch 13/15\n",
      "\u001b[1m98/98\u001b[0m \u001b[32m━━━━━━━━━━━━━━━━━━━━\u001b[0m\u001b[37m\u001b[0m \u001b[1m2s\u001b[0m 25ms/step - accuracy: 0.8838 - loss: 0.3130 - val_accuracy: 0.8156 - val_loss: 0.5146\n",
      "Epoch 14/15\n",
      "\u001b[1m98/98\u001b[0m \u001b[32m━━━━━━━━━━━━━━━━━━━━\u001b[0m\u001b[37m\u001b[0m \u001b[1m2s\u001b[0m 25ms/step - accuracy: 0.9035 - loss: 0.2731 - val_accuracy: 0.8192 - val_loss: 0.5117\n",
      "Epoch 15/15\n",
      "\u001b[1m98/98\u001b[0m \u001b[32m━━━━━━━━━━━━━━━━━━━━\u001b[0m\u001b[37m\u001b[0m \u001b[1m2s\u001b[0m 25ms/step - accuracy: 0.9065 - loss: 0.2581 - val_accuracy: 0.8226 - val_loss: 0.5065\n",
      "\u001b[1m157/157\u001b[0m \u001b[32m━━━━━━━━━━━━━━━━━━━━\u001b[0m\u001b[37m\u001b[0m \u001b[1m0s\u001b[0m 2ms/step\n"
     ]
    },
    {
     "name": "stderr",
     "output_type": "stream",
     "text": [
      "100%|██████████| 5/5 [13:11<00:00, 158.25s/it]"
     ]
    },
    {
     "name": "stdout",
     "output_type": "stream",
     "text": [
      "CNN accuracie 0.8226\n"
     ]
    },
    {
     "name": "stderr",
     "output_type": "stream",
     "text": [
      "\n"
     ]
    }
   ],
   "source": [
    "import SpikedDataset\n",
    "importlib.reload(SpikedDataset)\n",
    "from SpikedDataset import *\n",
    "\n",
    "accuracies = {\n",
    "    \"ntkrr\":[],\n",
    "    \"rfkrr\":[],\n",
    "    \"nn\":[],\n",
    "    \"cnn\":[]\n",
    "}\n",
    "\n",
    "\n",
    "subset_size=(25000, 5000)\n",
    "tau_values = np.linspace(0, 3, num=5) \n",
    "classes_to_keep = list(range(0,10))\n",
    "\n",
    "for tau in tqdm(tau_values):\n",
    "    print(f\"{'#'*30} Level noise : {tau} {'#'*30}\")\n",
    "\n",
    "    generator = SpikedDataset(dataset='FMNIST', subset_size=subset_size)\n",
    "    X_train_processed,X_test_processed,y_train_processed,y_test_processed = generator.generate_spiked_dataset(classes_to_keep=classes_to_keep, tau=tau)\n",
    "    pipeline = Pipeline(X_train=X_train_processed,X_test=X_test_processed,y_train=y_train_processed,y_test=y_test_processed,classes_to_keep=classes_to_keep)\n",
    "\n",
    "    pipeline.run_nt_krr(nt_dim=256, alpha=0.01)\n",
    "    accuracies[\"ntkrr\"].append(accuracy_score(pipeline.y_test_subset, pipeline.y_pred))\n",
    "    print(f'NTKRR accuracie {accuracies[\"ntkrr\"][-1]}')\n",
    "\n",
    "    pipeline.run_rf_krr(rf_dim=4096, alpha=0.01, sigma=0.01)\n",
    "    accuracies[\"rfkrr\"].append(accuracy_score(pipeline.y_test_subset, pipeline.y_pred))\n",
    "    print(f'RFKRR accuracie {accuracies[\"rfkrr\"][-1]}')\n",
    "\n",
    "    pipeline.run_nn(learning_rate = 0.001, epochs=30, batch_size=256)\n",
    "    accuracies[\"nn\"].append(accuracy_score(np.argmax(pipeline.y_test_subset, axis=1), pipeline.y_pred))\n",
    "    print(f'NN accuracie {accuracies[\"nn\"][-1]}')\n",
    "\n",
    "    pipeline.run_cnn(learning_rate = 0.001, epochs=15, batch_size=256)\n",
    "    accuracies[\"cnn\"].append(accuracy_score(np.argmax(pipeline.y_test_subset, axis=1), pipeline.y_pred))\n",
    "    print(f'CNN accuracie {accuracies[\"cnn\"][-1]}')"
   ]
  },
  {
   "cell_type": "markdown",
   "metadata": {},
   "source": [
    "## Affichage des résultats"
   ]
  },
  {
   "cell_type": "code",
   "execution_count": 6,
   "metadata": {},
   "outputs": [
    {
     "data": {
      "image/png": "[encoded data removed]",
      "text/plain": [
       "<Figure size 800x500 with 1 Axes>"
      ]
     },
     "metadata": {},
     "output_type": "display_data"
    }
   ],
   "source": [
    "import matplotlib.pyplot as plt\n",
    "\n",
    "plt.figure(figsize=(8, 5))  \n",
    "\n",
    "plt.plot(tau_values, accuracies[\"cnn\"], marker='o', linestyle='-', label=\"CNN\")\n",
    "plt.plot(tau_values, accuracies[\"ntkrr\"], marker='s', linestyle='--', label=\"NTKRR\")\n",
    "plt.plot(tau_values, accuracies[\"rfkrr\"], marker='^', linestyle='-.', label=\"RFKRR\")\n",
    "plt.plot(tau_values, accuracies[\"nn\"], marker='d', linestyle=':', label=\"NN\")\n",
    "\n",
    "plt.xlabel(\"Tau values\", fontsize=12)\n",
    "plt.ylabel(\"Accuracy\", fontsize=12)\n",
    "plt.title(\"Impact du bruit hautes fréquences sur la performance des modèles\", fontsize=14)\n",
    "plt.legend(fontsize=10, loc=\"best\")\n",
    "plt.grid(True, linestyle='--', linewidth=0.6, alpha=0.7)\n",
    "\n",
    "plt.ylim(0.6, 1) \n",
    "plt.xticks(tau_values)  \n",
    "plt.show()\n"
   ]
  },
  {
   "cell_type": "markdown",
   "metadata": {},
   "source": [
    "Etonnament les résultats de l'influence du bruit sur les NN (Neural Networks) ne sont pas conformes à ceux présentés dans le papier. Le bruit hautes fréquences fait décroitre assez rapidement l'accuracy des NN, contrairement aux méthodes à noyaux qui semblent être robuste à phénomène. \n",
    "Plusieurs raisons peuvent expliquer de telles différences, tout d'abord nous avons restreint l'expérience à moins de la moitié du dataset ce qui impacte fortement les résultats. De plus les hyperparamètres utilisés peuvent influencer grandement les résultats, l'expérience n'est peut-être tout simplement pas reproductible sans la description exacte des hyperparamètres utilisés dans le papier."
   ]
  },
  {
   "cell_type": "markdown",
   "metadata": {},
   "source": [
    "## Dataset MNIST"
   ]
  },
  {
   "cell_type": "code",
   "execution_count": 8,
   "metadata": {},
   "outputs": [
    {
     "name": "stderr",
     "output_type": "stream",
     "text": [
      "  0%|          | 0/5 [00:00<?, ?it/s]"
     ]
    },
    {
     "name": "stdout",
     "output_type": "stream",
     "text": [
      "############################## Level noise : 0.0 ##############################\n",
      "Exécution NTKRR\n",
      "NTKRR accuracie 0.9094\n",
      "Exécution RFKRR\n",
      "RFKRR accuracie 0.884\n",
      "Exécution NN\n",
      "Epoch 1/30\n",
      "\u001b[1m98/98\u001b[0m \u001b[32m━━━━━━━━━━━━━━━━━━━━\u001b[0m\u001b[37m\u001b[0m \u001b[1m3s\u001b[0m 11ms/step - accuracy: 0.3872 - loss: 1.9256 - val_accuracy: 0.7966 - val_loss: 0.6607\n",
      "Epoch 2/30\n",
      "\u001b[1m98/98\u001b[0m \u001b[32m━━━━━━━━━━━━━━━━━━━━\u001b[0m\u001b[37m\u001b[0m \u001b[1m1s\u001b[0m 10ms/step - accuracy: 0.7903 - loss: 0.6429 - val_accuracy: 0.8718 - val_loss: 0.4253\n",
      "Epoch 3/30\n",
      "\u001b[1m98/98\u001b[0m \u001b[32m━━━━━━━━━━━━━━━━━━━━\u001b[0m\u001b[37m\u001b[0m \u001b[1m1s\u001b[0m 9ms/step - accuracy: 0.8650 - loss: 0.4338 - val_accuracy: 0.8996 - val_loss: 0.3369\n",
      "Epoch 4/30\n",
      "\u001b[1m98/98\u001b[0m \u001b[32m━━━━━━━━━━━━━━━━━━━━\u001b[0m\u001b[37m\u001b[0m \u001b[1m1s\u001b[0m 9ms/step - accuracy: 0.8893 - loss: 0.3597 - val_accuracy: 0.9110 - val_loss: 0.3113\n",
      "Epoch 5/30\n",
      "\u001b[1m98/98\u001b[0m \u001b[32m━━━━━━━━━━━━━━━━━━━━\u001b[0m\u001b[37m\u001b[0m \u001b[1m1s\u001b[0m 10ms/step - accuracy: 0.9045 - loss: 0.3177 - val_accuracy: 0.9196 - val_loss: 0.2607\n",
      "Epoch 6/30\n",
      "\u001b[1m98/98\u001b[0m \u001b[32m━━━━━━━━━━━━━━━━━━━━\u001b[0m\u001b[37m\u001b[0m \u001b[1m2s\u001b[0m 20ms/step - accuracy: 0.9165 - loss: 0.2745 - val_accuracy: 0.9288 - val_loss: 0.2332\n",
      "Epoch 7/30\n",
      "\u001b[1m98/98\u001b[0m \u001b[32m━━━━━━━━━━━━━━━━━━━━\u001b[0m\u001b[37m\u001b[0m \u001b[1m1s\u001b[0m 12ms/step - accuracy: 0.9242 - loss: 0.2520 - val_accuracy: 0.9320 - val_loss: 0.2278\n",
      "Epoch 8/30\n",
      "\u001b[1m98/98\u001b[0m \u001b[32m━━━━━━━━━━━━━━━━━━━━\u001b[0m\u001b[37m\u001b[0m \u001b[1m1s\u001b[0m 9ms/step - accuracy: 0.9339 - loss: 0.2111 - val_accuracy: 0.9394 - val_loss: 0.2036\n",
      "Epoch 9/30\n",
      "\u001b[1m98/98\u001b[0m \u001b[32m━━━━━━━━━━━━━━━━━━━━\u001b[0m\u001b[37m\u001b[0m \u001b[1m1s\u001b[0m 9ms/step - accuracy: 0.9377 - loss: 0.1996 - val_accuracy: 0.9436 - val_loss: 0.1832\n",
      "Epoch 10/30\n",
      "\u001b[1m98/98\u001b[0m \u001b[32m━━━━━━━━━━━━━━━━━━━━\u001b[0m\u001b[37m\u001b[0m \u001b[1m1s\u001b[0m 9ms/step - accuracy: 0.9468 - loss: 0.1765 - val_accuracy: 0.9464 - val_loss: 0.1698\n",
      "Epoch 11/30\n",
      "\u001b[1m98/98\u001b[0m \u001b[32m━━━━━━━━━━━━━━━━━━━━\u001b[0m\u001b[37m\u001b[0m \u001b[1m2s\u001b[0m 19ms/step - accuracy: 0.9536 - loss: 0.1570 - val_accuracy: 0.9442 - val_loss: 0.1754\n",
      "Epoch 12/30\n",
      "\u001b[1m98/98\u001b[0m \u001b[32m━━━━━━━━━━━━━━━━━━━━\u001b[0m\u001b[37m\u001b[0m \u001b[1m2s\u001b[0m 20ms/step - accuracy: 0.9550 - loss: 0.1502 - val_accuracy: 0.9500 - val_loss: 0.1599\n",
      "Epoch 13/30\n",
      "\u001b[1m98/98\u001b[0m \u001b[32m━━━━━━━━━━━━━━━━━━━━\u001b[0m\u001b[37m\u001b[0m \u001b[1m1s\u001b[0m 12ms/step - accuracy: 0.9602 - loss: 0.1363 - val_accuracy: 0.9572 - val_loss: 0.1416\n",
      "Epoch 14/30\n",
      "\u001b[1m98/98\u001b[0m \u001b[32m━━━━━━━━━━━━━━━━━━━━\u001b[0m\u001b[37m\u001b[0m \u001b[1m1s\u001b[0m 11ms/step - accuracy: 0.9632 - loss: 0.1204 - val_accuracy: 0.9568 - val_loss: 0.1356\n",
      "Epoch 15/30\n",
      "\u001b[1m98/98\u001b[0m \u001b[32m━━━━━━━━━━━━━━━━━━━━\u001b[0m\u001b[37m\u001b[0m \u001b[1m1s\u001b[0m 14ms/step - accuracy: 0.9686 - loss: 0.1067 - val_accuracy: 0.9608 - val_loss: 0.1316\n",
      "Epoch 16/30\n",
      "\u001b[1m98/98\u001b[0m \u001b[32m━━━━━━━━━━━━━━━━━━━━\u001b[0m\u001b[37m\u001b[0m \u001b[1m2s\u001b[0m 16ms/step - accuracy: 0.9681 - loss: 0.1028 - val_accuracy: 0.9612 - val_loss: 0.1297\n",
      "Epoch 17/30\n",
      "\u001b[1m98/98\u001b[0m \u001b[32m━━━━━━━━━━━━━━━━━━━━\u001b[0m\u001b[37m\u001b[0m \u001b[1m2s\u001b[0m 19ms/step - accuracy: 0.9725 - loss: 0.0911 - val_accuracy: 0.9596 - val_loss: 0.1297\n",
      "Epoch 18/30\n",
      "\u001b[1m98/98\u001b[0m \u001b[32m━━━━━━━━━━━━━━━━━━━━\u001b[0m\u001b[37m\u001b[0m \u001b[1m2s\u001b[0m 19ms/step - accuracy: 0.9726 - loss: 0.0867 - val_accuracy: 0.9644 - val_loss: 0.1200\n",
      "Epoch 19/30\n",
      "\u001b[1m98/98\u001b[0m \u001b[32m━━━━━━━━━━━━━━━━━━━━\u001b[0m\u001b[37m\u001b[0m \u001b[1m1s\u001b[0m 9ms/step - accuracy: 0.9755 - loss: 0.0777 - val_accuracy: 0.9620 - val_loss: 0.1215\n",
      "Epoch 20/30\n",
      "\u001b[1m98/98\u001b[0m \u001b[32m━━━━━━━━━━━━━━━━━━━━\u001b[0m\u001b[37m\u001b[0m \u001b[1m2s\u001b[0m 20ms/step - accuracy: 0.9743 - loss: 0.0812 - val_accuracy: 0.9670 - val_loss: 0.1132\n",
      "Epoch 21/30\n",
      "\u001b[1m98/98\u001b[0m \u001b[32m━━━━━━━━━━━━━━━━━━━━\u001b[0m\u001b[37m\u001b[0m \u001b[1m1s\u001b[0m 9ms/step - accuracy: 0.9782 - loss: 0.0688 - val_accuracy: 0.9670 - val_loss: 0.1126\n",
      "Epoch 22/30\n",
      "\u001b[1m98/98\u001b[0m \u001b[32m━━━━━━━━━━━━━━━━━━━━\u001b[0m\u001b[37m\u001b[0m \u001b[1m1s\u001b[0m 9ms/step - accuracy: 0.9795 - loss: 0.0654 - val_accuracy: 0.9658 - val_loss: 0.1093\n",
      "Epoch 23/30\n",
      "\u001b[1m98/98\u001b[0m \u001b[32m━━━━━━━━━━━━━━━━━━━━\u001b[0m\u001b[37m\u001b[0m \u001b[1m1s\u001b[0m 10ms/step - accuracy: 0.9811 - loss: 0.0609 - val_accuracy: 0.9676 - val_loss: 0.1190\n",
      "Epoch 24/30\n",
      "\u001b[1m98/98\u001b[0m \u001b[32m━━━━━━━━━━━━━━━━━━━━\u001b[0m\u001b[37m\u001b[0m \u001b[1m1s\u001b[0m 11ms/step - accuracy: 0.9819 - loss: 0.0581 - val_accuracy: 0.9694 - val_loss: 0.1100\n",
      "Epoch 25/30\n",
      "\u001b[1m98/98\u001b[0m \u001b[32m━━━━━━━━━━━━━━━━━━━━\u001b[0m\u001b[37m\u001b[0m \u001b[1m2s\u001b[0m 20ms/step - accuracy: 0.9845 - loss: 0.0472 - val_accuracy: 0.9678 - val_loss: 0.1111\n",
      "Epoch 26/30\n",
      "\u001b[1m98/98\u001b[0m \u001b[32m━━━━━━━━━━━━━━━━━━━━\u001b[0m\u001b[37m\u001b[0m \u001b[1m2s\u001b[0m 19ms/step - accuracy: 0.9851 - loss: 0.0489 - val_accuracy: 0.9686 - val_loss: 0.1145\n",
      "Epoch 27/30\n",
      "\u001b[1m98/98\u001b[0m \u001b[32m━━━━━━━━━━━━━━━━━━━━\u001b[0m\u001b[37m\u001b[0m \u001b[1m2s\u001b[0m 20ms/step - accuracy: 0.9853 - loss: 0.0474 - val_accuracy: 0.9672 - val_loss: 0.1112\n",
      "Epoch 28/30\n",
      "\u001b[1m98/98\u001b[0m \u001b[32m━━━━━━━━━━━━━━━━━━━━\u001b[0m\u001b[37m\u001b[0m \u001b[1m1s\u001b[0m 9ms/step - accuracy: 0.9852 - loss: 0.0425 - val_accuracy: 0.9678 - val_loss: 0.1175\n",
      "Epoch 29/30\n",
      "\u001b[1m98/98\u001b[0m \u001b[32m━━━━━━━━━━━━━━━━━━━━\u001b[0m\u001b[37m\u001b[0m \u001b[1m1s\u001b[0m 12ms/step - accuracy: 0.9868 - loss: 0.0419 - val_accuracy: 0.9710 - val_loss: 0.1063\n",
      "Epoch 30/30\n",
      "\u001b[1m98/98\u001b[0m \u001b[32m━━━━━━━━━━━━━━━━━━━━\u001b[0m\u001b[37m\u001b[0m \u001b[1m2s\u001b[0m 20ms/step - accuracy: 0.9869 - loss: 0.0391 - val_accuracy: 0.9686 - val_loss: 0.1196\n",
      "\u001b[1m157/157\u001b[0m \u001b[32m━━━━━━━━━━━━━━━━━━━━\u001b[0m\u001b[37m\u001b[0m \u001b[1m0s\u001b[0m 2ms/step\n",
      "NN accuracie 0.9686\n",
      "Exécution CNN\n",
      "Epoch 1/15\n",
      "\u001b[1m98/98\u001b[0m \u001b[32m━━━━━━━━━━━━━━━━━━━━\u001b[0m\u001b[37m\u001b[0m \u001b[1m10s\u001b[0m 50ms/step - accuracy: 0.7423 - loss: 0.8652 - val_accuracy: 0.9594 - val_loss: 0.1317\n",
      "Epoch 2/15\n",
      "\u001b[1m98/98\u001b[0m \u001b[32m━━━━━━━━━━━━━━━━━━━━\u001b[0m\u001b[37m\u001b[0m \u001b[1m5s\u001b[0m 46ms/step - accuracy: 0.9648 - loss: 0.1167 - val_accuracy: 0.9756 - val_loss: 0.0787\n",
      "Epoch 3/15\n",
      "\u001b[1m98/98\u001b[0m \u001b[32m━━━━━━━━━━━━━━━━━━━━\u001b[0m\u001b[37m\u001b[0m \u001b[1m5s\u001b[0m 48ms/step - accuracy: 0.9800 - loss: 0.0656 - val_accuracy: 0.9842 - val_loss: 0.0502\n",
      "Epoch 4/15\n",
      "\u001b[1m98/98\u001b[0m \u001b[32m━━━━━━━━━━━━━━━━━━━━\u001b[0m\u001b[37m\u001b[0m \u001b[1m5s\u001b[0m 47ms/step - accuracy: 0.9856 - loss: 0.0482 - val_accuracy: 0.9854 - val_loss: 0.0461\n",
      "Epoch 5/15\n",
      "\u001b[1m98/98\u001b[0m \u001b[32m━━━━━━━━━━━━━━━━━━━━\u001b[0m\u001b[37m\u001b[0m \u001b[1m5s\u001b[0m 45ms/step - accuracy: 0.9872 - loss: 0.0396 - val_accuracy: 0.9816 - val_loss: 0.0578\n",
      "Epoch 6/15\n",
      "\u001b[1m98/98\u001b[0m \u001b[32m━━━━━━━━━━━━━━━━━━━━\u001b[0m\u001b[37m\u001b[0m \u001b[1m5s\u001b[0m 51ms/step - accuracy: 0.9906 - loss: 0.0317 - val_accuracy: 0.9864 - val_loss: 0.0437\n",
      "Epoch 7/15\n",
      "\u001b[1m98/98\u001b[0m \u001b[32m━━━━━━━━━━━━━━━━━━━━\u001b[0m\u001b[37m\u001b[0m \u001b[1m5s\u001b[0m 51ms/step - accuracy: 0.9945 - loss: 0.0191 - val_accuracy: 0.9896 - val_loss: 0.0390\n",
      "Epoch 8/15\n",
      "\u001b[1m98/98\u001b[0m \u001b[32m━━━━━━━━━━━━━━━━━━━━\u001b[0m\u001b[37m\u001b[0m \u001b[1m5s\u001b[0m 52ms/step - accuracy: 0.9948 - loss: 0.0179 - val_accuracy: 0.9888 - val_loss: 0.0362\n",
      "Epoch 9/15\n",
      "\u001b[1m98/98\u001b[0m \u001b[32m━━━━━━━━━━━━━━━━━━━━\u001b[0m\u001b[37m\u001b[0m \u001b[1m5s\u001b[0m 49ms/step - accuracy: 0.9953 - loss: 0.0144 - val_accuracy: 0.9892 - val_loss: 0.0363\n",
      "Epoch 10/15\n",
      "\u001b[1m98/98\u001b[0m \u001b[32m━━━━━━━━━━━━━━━━━━━━\u001b[0m\u001b[37m\u001b[0m \u001b[1m5s\u001b[0m 51ms/step - accuracy: 0.9962 - loss: 0.0148 - val_accuracy: 0.9864 - val_loss: 0.0444\n",
      "Epoch 11/15\n",
      "\u001b[1m98/98\u001b[0m \u001b[32m━━━━━━━━━━━━━━━━━━━━\u001b[0m\u001b[37m\u001b[0m \u001b[1m5s\u001b[0m 51ms/step - accuracy: 0.9967 - loss: 0.0105 - val_accuracy: 0.9896 - val_loss: 0.0360\n",
      "Epoch 12/15\n",
      "\u001b[1m98/98\u001b[0m \u001b[32m━━━━━━━━━━━━━━━━━━━━\u001b[0m\u001b[37m\u001b[0m \u001b[1m5s\u001b[0m 51ms/step - accuracy: 0.9979 - loss: 0.0073 - val_accuracy: 0.9900 - val_loss: 0.0330\n",
      "Epoch 13/15\n",
      "\u001b[1m98/98\u001b[0m \u001b[32m━━━━━━━━━━━━━━━━━━━━\u001b[0m\u001b[37m\u001b[0m \u001b[1m5s\u001b[0m 51ms/step - accuracy: 0.9977 - loss: 0.0068 - val_accuracy: 0.9876 - val_loss: 0.0393\n",
      "Epoch 14/15\n",
      "\u001b[1m98/98\u001b[0m \u001b[32m━━━━━━━━━━━━━━━━━━━━\u001b[0m\u001b[37m\u001b[0m \u001b[1m5s\u001b[0m 49ms/step - accuracy: 0.9992 - loss: 0.0039 - val_accuracy: 0.9906 - val_loss: 0.0353\n",
      "Epoch 15/15\n",
      "\u001b[1m98/98\u001b[0m \u001b[32m━━━━━━━━━━━━━━━━━━━━\u001b[0m\u001b[37m\u001b[0m \u001b[1m5s\u001b[0m 46ms/step - accuracy: 0.9997 - loss: 0.0026 - val_accuracy: 0.9894 - val_loss: 0.0369\n",
      "\u001b[1m157/157\u001b[0m \u001b[32m━━━━━━━━━━━━━━━━━━━━\u001b[0m\u001b[37m\u001b[0m \u001b[1m0s\u001b[0m 2ms/step\n"
     ]
    },
    {
     "name": "stderr",
     "output_type": "stream",
     "text": [
      " 20%|██        | 1/5 [03:46<15:07, 226.97s/it]"
     ]
    },
    {
     "name": "stdout",
     "output_type": "stream",
     "text": [
      "CNN accuracie 0.9894\n",
      "############################## Level noise : 1.0 ##############################\n",
      "train set noising\n"
     ]
    },
    {
     "name": "stderr",
     "output_type": "stream",
     "text": [
      "Generating dataset: 100%|██████████| 25000/25000 [00:01<00:00, 12749.00it/s]\n"
     ]
    },
    {
     "name": "stdout",
     "output_type": "stream",
     "text": [
      "test set noising\n"
     ]
    },
    {
     "name": "stderr",
     "output_type": "stream",
     "text": [
      "100%|██████████| 5000/5000 [00:00<00:00, 12550.16it/s]\n"
     ]
    },
    {
     "name": "stdout",
     "output_type": "stream",
     "text": [
      "Exécution NTKRR\n",
      "NTKRR accuracie 0.8562\n",
      "Exécution RFKRR\n",
      "RFKRR accuracie 0.8542\n",
      "Exécution NN\n",
      "Epoch 1/30\n",
      "\u001b[1m98/98\u001b[0m \u001b[32m━━━━━━━━━━━━━━━━━━━━\u001b[0m\u001b[37m\u001b[0m \u001b[1m2s\u001b[0m 10ms/step - accuracy: 0.2526 - loss: 2.0408 - val_accuracy: 0.7374 - val_loss: 0.7828\n",
      "Epoch 2/30\n",
      "\u001b[1m98/98\u001b[0m \u001b[32m━━━━━━━━━━━━━━━━━━━━\u001b[0m\u001b[37m\u001b[0m \u001b[1m1s\u001b[0m 9ms/step - accuracy: 0.7372 - loss: 0.7611 - val_accuracy: 0.8468 - val_loss: 0.4953\n",
      "Epoch 3/30\n",
      "\u001b[1m98/98\u001b[0m \u001b[32m━━━━━━━━━━━━━━━━━━━━\u001b[0m\u001b[37m\u001b[0m \u001b[1m1s\u001b[0m 10ms/step - accuracy: 0.8405 - loss: 0.5028 - val_accuracy: 0.8680 - val_loss: 0.4114\n",
      "Epoch 4/30\n",
      "\u001b[1m98/98\u001b[0m \u001b[32m━━━━━━━━━━━━━━━━━━━━\u001b[0m\u001b[37m\u001b[0m \u001b[1m1s\u001b[0m 8ms/step - accuracy: 0.8742 - loss: 0.4006 - val_accuracy: 0.8716 - val_loss: 0.3889\n",
      "Epoch 5/30\n",
      "\u001b[1m98/98\u001b[0m \u001b[32m━━━━━━━━━━━━━━━━━━━━\u001b[0m\u001b[37m\u001b[0m \u001b[1m1s\u001b[0m 9ms/step - accuracy: 0.8940 - loss: 0.3407 - val_accuracy: 0.8864 - val_loss: 0.3469\n",
      "Epoch 6/30\n",
      "\u001b[1m98/98\u001b[0m \u001b[32m━━━━━━━━━━━━━━━━━━━━\u001b[0m\u001b[37m\u001b[0m \u001b[1m1s\u001b[0m 8ms/step - accuracy: 0.9075 - loss: 0.3013 - val_accuracy: 0.8938 - val_loss: 0.3332\n",
      "Epoch 7/30\n",
      "\u001b[1m98/98\u001b[0m \u001b[32m━━━━━━━━━━━━━━━━━━━━\u001b[0m\u001b[37m\u001b[0m \u001b[1m1s\u001b[0m 9ms/step - accuracy: 0.9291 - loss: 0.2412 - val_accuracy: 0.8976 - val_loss: 0.3091\n",
      "Epoch 8/30\n",
      "\u001b[1m98/98\u001b[0m \u001b[32m━━━━━━━━━━━━━━━━━━━━\u001b[0m\u001b[37m\u001b[0m \u001b[1m1s\u001b[0m 9ms/step - accuracy: 0.9391 - loss: 0.2068 - val_accuracy: 0.9004 - val_loss: 0.3038\n",
      "Epoch 9/30\n",
      "\u001b[1m98/98\u001b[0m \u001b[32m━━━━━━━━━━━━━━━━━━━━\u001b[0m\u001b[37m\u001b[0m \u001b[1m1s\u001b[0m 9ms/step - accuracy: 0.9530 - loss: 0.1641 - val_accuracy: 0.9072 - val_loss: 0.2959\n",
      "Epoch 10/30\n",
      "\u001b[1m98/98\u001b[0m \u001b[32m━━━━━━━━━━━━━━━━━━━━\u001b[0m\u001b[37m\u001b[0m \u001b[1m1s\u001b[0m 9ms/step - accuracy: 0.9614 - loss: 0.1380 - val_accuracy: 0.9080 - val_loss: 0.3074\n",
      "Epoch 11/30\n",
      "\u001b[1m98/98\u001b[0m \u001b[32m━━━━━━━━━━━━━━━━━━━━\u001b[0m\u001b[37m\u001b[0m \u001b[1m1s\u001b[0m 10ms/step - accuracy: 0.9733 - loss: 0.1002 - val_accuracy: 0.9120 - val_loss: 0.2891\n",
      "Epoch 12/30\n",
      "\u001b[1m98/98\u001b[0m \u001b[32m━━━━━━━━━━━━━━━━━━━━\u001b[0m\u001b[37m\u001b[0m \u001b[1m1s\u001b[0m 8ms/step - accuracy: 0.9796 - loss: 0.0785 - val_accuracy: 0.9116 - val_loss: 0.3012\n",
      "Epoch 13/30\n",
      "\u001b[1m98/98\u001b[0m \u001b[32m━━━━━━━━━━━━━━━━━━━━\u001b[0m\u001b[37m\u001b[0m \u001b[1m1s\u001b[0m 9ms/step - accuracy: 0.9844 - loss: 0.0578 - val_accuracy: 0.9142 - val_loss: 0.2976\n",
      "Epoch 14/30\n",
      "\u001b[1m98/98\u001b[0m \u001b[32m━━━━━━━━━━━━━━━━━━━━\u001b[0m\u001b[37m\u001b[0m \u001b[1m1s\u001b[0m 9ms/step - accuracy: 0.9906 - loss: 0.0391 - val_accuracy: 0.9150 - val_loss: 0.3132\n",
      "Epoch 15/30\n",
      "\u001b[1m98/98\u001b[0m \u001b[32m━━━━━━━━━━━━━━━━━━━━\u001b[0m\u001b[37m\u001b[0m \u001b[1m1s\u001b[0m 11ms/step - accuracy: 0.9910 - loss: 0.0341 - val_accuracy: 0.9158 - val_loss: 0.3214\n",
      "Epoch 16/30\n",
      "\u001b[1m98/98\u001b[0m \u001b[32m━━━━━━━━━━━━━━━━━━━━\u001b[0m\u001b[37m\u001b[0m \u001b[1m1s\u001b[0m 9ms/step - accuracy: 0.9939 - loss: 0.0275 - val_accuracy: 0.9156 - val_loss: 0.3316\n",
      "Epoch 17/30\n",
      "\u001b[1m98/98\u001b[0m \u001b[32m━━━━━━━━━━━━━━━━━━━━\u001b[0m\u001b[37m\u001b[0m \u001b[1m1s\u001b[0m 9ms/step - accuracy: 0.9949 - loss: 0.0205 - val_accuracy: 0.9156 - val_loss: 0.3391\n",
      "Epoch 18/30\n",
      "\u001b[1m98/98\u001b[0m \u001b[32m━━━━━━━━━━━━━━━━━━━━\u001b[0m\u001b[37m\u001b[0m \u001b[1m1s\u001b[0m 8ms/step - accuracy: 0.9965 - loss: 0.0168 - val_accuracy: 0.9148 - val_loss: 0.3463\n",
      "Epoch 19/30\n",
      "\u001b[1m98/98\u001b[0m \u001b[32m━━━━━━━━━━━━━━━━━━━━\u001b[0m\u001b[37m\u001b[0m \u001b[1m1s\u001b[0m 9ms/step - accuracy: 0.9962 - loss: 0.0159 - val_accuracy: 0.9154 - val_loss: 0.3586\n",
      "Epoch 20/30\n",
      "\u001b[1m98/98\u001b[0m \u001b[32m━━━━━━━━━━━━━━━━━━━━\u001b[0m\u001b[37m\u001b[0m \u001b[1m1s\u001b[0m 9ms/step - accuracy: 0.9972 - loss: 0.0132 - val_accuracy: 0.9144 - val_loss: 0.3648\n",
      "Epoch 21/30\n",
      "\u001b[1m98/98\u001b[0m \u001b[32m━━━━━━━━━━━━━━━━━━━━\u001b[0m\u001b[37m\u001b[0m \u001b[1m1s\u001b[0m 9ms/step - accuracy: 0.9964 - loss: 0.0151 - val_accuracy: 0.9138 - val_loss: 0.3705\n",
      "Epoch 22/30\n",
      "\u001b[1m98/98\u001b[0m \u001b[32m━━━━━━━━━━━━━━━━━━━━\u001b[0m\u001b[37m\u001b[0m \u001b[1m1s\u001b[0m 9ms/step - accuracy: 0.9978 - loss: 0.0109 - val_accuracy: 0.9156 - val_loss: 0.3803\n",
      "Epoch 23/30\n",
      "\u001b[1m98/98\u001b[0m \u001b[32m━━━━━━━━━━━━━━━━━━━━\u001b[0m\u001b[37m\u001b[0m \u001b[1m1s\u001b[0m 9ms/step - accuracy: 0.9960 - loss: 0.0130 - val_accuracy: 0.9122 - val_loss: 0.3872\n",
      "Epoch 24/30\n",
      "\u001b[1m98/98\u001b[0m \u001b[32m━━━━━━━━━━━━━━━━━━━━\u001b[0m\u001b[37m\u001b[0m \u001b[1m1s\u001b[0m 9ms/step - accuracy: 0.9986 - loss: 0.0086 - val_accuracy: 0.9150 - val_loss: 0.3858\n",
      "Epoch 25/30\n",
      "\u001b[1m98/98\u001b[0m \u001b[32m━━━━━━━━━━━━━━━━━━━━\u001b[0m\u001b[37m\u001b[0m \u001b[1m1s\u001b[0m 8ms/step - accuracy: 0.9966 - loss: 0.0106 - val_accuracy: 0.9144 - val_loss: 0.3889\n",
      "Epoch 26/30\n",
      "\u001b[1m98/98\u001b[0m \u001b[32m━━━━━━━━━━━━━━━━━━━━\u001b[0m\u001b[37m\u001b[0m \u001b[1m1s\u001b[0m 9ms/step - accuracy: 0.9973 - loss: 0.0095 - val_accuracy: 0.9150 - val_loss: 0.4024\n",
      "Epoch 27/30\n",
      "\u001b[1m98/98\u001b[0m \u001b[32m━━━━━━━━━━━━━━━━━━━━\u001b[0m\u001b[37m\u001b[0m \u001b[1m1s\u001b[0m 9ms/step - accuracy: 0.9966 - loss: 0.0126 - val_accuracy: 0.9186 - val_loss: 0.3905\n",
      "Epoch 28/30\n",
      "\u001b[1m98/98\u001b[0m \u001b[32m━━━━━━━━━━━━━━━━━━━━\u001b[0m\u001b[37m\u001b[0m \u001b[1m1s\u001b[0m 10ms/step - accuracy: 0.9979 - loss: 0.0088 - val_accuracy: 0.9146 - val_loss: 0.4115\n",
      "Epoch 29/30\n",
      "\u001b[1m98/98\u001b[0m \u001b[32m━━━━━━━━━━━━━━━━━━━━\u001b[0m\u001b[37m\u001b[0m \u001b[1m1s\u001b[0m 9ms/step - accuracy: 0.9973 - loss: 0.0101 - val_accuracy: 0.9152 - val_loss: 0.4142\n",
      "Epoch 30/30\n",
      "\u001b[1m98/98\u001b[0m \u001b[32m━━━━━━━━━━━━━━━━━━━━\u001b[0m\u001b[37m\u001b[0m \u001b[1m1s\u001b[0m 9ms/step - accuracy: 0.9972 - loss: 0.0100 - val_accuracy: 0.9136 - val_loss: 0.4088\n",
      "\u001b[1m157/157\u001b[0m \u001b[32m━━━━━━━━━━━━━━━━━━━━\u001b[0m\u001b[37m\u001b[0m \u001b[1m0s\u001b[0m 1ms/step\n",
      "NN accuracie 0.9136\n",
      "Exécution CNN\n",
      "Epoch 1/15\n",
      "\u001b[1m98/98\u001b[0m \u001b[32m━━━━━━━━━━━━━━━━━━━━\u001b[0m\u001b[37m\u001b[0m \u001b[1m6s\u001b[0m 45ms/step - accuracy: 0.5746 - loss: 1.3247 - val_accuracy: 0.9318 - val_loss: 0.2412\n",
      "Epoch 2/15\n",
      "\u001b[1m98/98\u001b[0m \u001b[32m━━━━━━━━━━━━━━━━━━━━\u001b[0m\u001b[37m\u001b[0m \u001b[1m4s\u001b[0m 39ms/step - accuracy: 0.9440 - loss: 0.1933 - val_accuracy: 0.9642 - val_loss: 0.1114\n",
      "Epoch 3/15\n",
      "\u001b[1m98/98\u001b[0m \u001b[32m━━━━━━━━━━━━━━━━━━━━\u001b[0m\u001b[37m\u001b[0m \u001b[1m4s\u001b[0m 44ms/step - accuracy: 0.9692 - loss: 0.1065 - val_accuracy: 0.9752 - val_loss: 0.0775\n",
      "Epoch 4/15\n",
      "\u001b[1m98/98\u001b[0m \u001b[32m━━━━━━━━━━━━━━━━━━━━\u001b[0m\u001b[37m\u001b[0m \u001b[1m4s\u001b[0m 43ms/step - accuracy: 0.9786 - loss: 0.0717 - val_accuracy: 0.9788 - val_loss: 0.0657\n",
      "Epoch 5/15\n",
      "\u001b[1m98/98\u001b[0m \u001b[32m━━━━━━━━━━━━━━━━━━━━\u001b[0m\u001b[37m\u001b[0m \u001b[1m4s\u001b[0m 39ms/step - accuracy: 0.9833 - loss: 0.0561 - val_accuracy: 0.9800 - val_loss: 0.0534\n",
      "Epoch 6/15\n",
      "\u001b[1m98/98\u001b[0m \u001b[32m━━━━━━━━━━━━━━━━━━━━\u001b[0m\u001b[37m\u001b[0m \u001b[1m5s\u001b[0m 48ms/step - accuracy: 0.9888 - loss: 0.0374 - val_accuracy: 0.9804 - val_loss: 0.0573\n",
      "Epoch 7/15\n",
      "\u001b[1m98/98\u001b[0m \u001b[32m━━━━━━━━━━━━━━━━━━━━\u001b[0m\u001b[37m\u001b[0m \u001b[1m4s\u001b[0m 38ms/step - accuracy: 0.9885 - loss: 0.0379 - val_accuracy: 0.9810 - val_loss: 0.0524\n",
      "Epoch 8/15\n",
      "\u001b[1m98/98\u001b[0m \u001b[32m━━━━━━━━━━━━━━━━━━━━\u001b[0m\u001b[37m\u001b[0m \u001b[1m4s\u001b[0m 42ms/step - accuracy: 0.9938 - loss: 0.0217 - val_accuracy: 0.9866 - val_loss: 0.0455\n",
      "Epoch 9/15\n",
      "\u001b[1m98/98\u001b[0m \u001b[32m━━━━━━━━━━━━━━━━━━━━\u001b[0m\u001b[37m\u001b[0m \u001b[1m5s\u001b[0m 51ms/step - accuracy: 0.9918 - loss: 0.0260 - val_accuracy: 0.9842 - val_loss: 0.0478\n",
      "Epoch 10/15\n",
      "\u001b[1m98/98\u001b[0m \u001b[32m━━━━━━━━━━━━━━━━━━━━\u001b[0m\u001b[37m\u001b[0m \u001b[1m4s\u001b[0m 39ms/step - accuracy: 0.9971 - loss: 0.0118 - val_accuracy: 0.9844 - val_loss: 0.0493\n",
      "Epoch 11/15\n",
      "\u001b[1m98/98\u001b[0m \u001b[32m━━━━━━━━━━━━━━━━━━━━\u001b[0m\u001b[37m\u001b[0m \u001b[1m4s\u001b[0m 43ms/step - accuracy: 0.9967 - loss: 0.0127 - val_accuracy: 0.9866 - val_loss: 0.0474\n",
      "Epoch 12/15\n",
      "\u001b[1m98/98\u001b[0m \u001b[32m━━━━━━━━━━━━━━━━━━━━\u001b[0m\u001b[37m\u001b[0m \u001b[1m5s\u001b[0m 50ms/step - accuracy: 0.9976 - loss: 0.0085 - val_accuracy: 0.9846 - val_loss: 0.0477\n",
      "Epoch 13/15\n",
      "\u001b[1m98/98\u001b[0m \u001b[32m━━━━━━━━━━━━━━━━━━━━\u001b[0m\u001b[37m\u001b[0m \u001b[1m4s\u001b[0m 45ms/step - accuracy: 0.9989 - loss: 0.0056 - val_accuracy: 0.9848 - val_loss: 0.0501\n",
      "Epoch 14/15\n",
      "\u001b[1m98/98\u001b[0m \u001b[32m━━━━━━━━━━━━━━━━━━━━\u001b[0m\u001b[37m\u001b[0m \u001b[1m4s\u001b[0m 39ms/step - accuracy: 0.9998 - loss: 0.0026 - val_accuracy: 0.9862 - val_loss: 0.0498\n",
      "Epoch 15/15\n",
      "\u001b[1m98/98\u001b[0m \u001b[32m━━━━━━━━━━━━━━━━━━━━\u001b[0m\u001b[37m\u001b[0m \u001b[1m5s\u001b[0m 51ms/step - accuracy: 0.9999 - loss: 0.0016 - val_accuracy: 0.9858 - val_loss: 0.0504\n",
      "\u001b[1m157/157\u001b[0m \u001b[32m━━━━━━━━━━━━━━━━━━━━\u001b[0m\u001b[37m\u001b[0m \u001b[1m0s\u001b[0m 2ms/step\n"
     ]
    },
    {
     "name": "stderr",
     "output_type": "stream",
     "text": [
      " 40%|████      | 2/5 [07:03<10:27, 209.13s/it]"
     ]
    },
    {
     "name": "stdout",
     "output_type": "stream",
     "text": [
      "CNN accuracie 0.9858\n",
      "############################## Level noise : 2.0 ##############################\n",
      "train set noising\n"
     ]
    },
    {
     "name": "stderr",
     "output_type": "stream",
     "text": [
      "Generating dataset: 100%|██████████| 25000/25000 [00:01<00:00, 12766.72it/s]\n"
     ]
    },
    {
     "name": "stdout",
     "output_type": "stream",
     "text": [
      "test set noising\n"
     ]
    },
    {
     "name": "stderr",
     "output_type": "stream",
     "text": [
      "100%|██████████| 5000/5000 [00:00<00:00, 12584.11it/s]\n"
     ]
    },
    {
     "name": "stdout",
     "output_type": "stream",
     "text": [
      "Exécution NTKRR\n",
      "NTKRR accuracie 0.8542\n",
      "Exécution RFKRR\n",
      "RFKRR accuracie 0.8508\n",
      "Exécution NN\n",
      "Epoch 1/30\n",
      "\u001b[1m98/98\u001b[0m \u001b[32m━━━━━━━━━━━━━━━━━━━━\u001b[0m\u001b[37m\u001b[0m \u001b[1m2s\u001b[0m 10ms/step - accuracy: 0.1562 - loss: 2.2250 - val_accuracy: 0.5716 - val_loss: 1.2453\n",
      "Epoch 2/30\n",
      "\u001b[1m98/98\u001b[0m \u001b[32m━━━━━━━━━━━━━━━━━━━━\u001b[0m\u001b[37m\u001b[0m \u001b[1m2s\u001b[0m 20ms/step - accuracy: 0.5862 - loss: 1.1298 - val_accuracy: 0.7304 - val_loss: 0.7999\n",
      "Epoch 3/30\n",
      "\u001b[1m98/98\u001b[0m \u001b[32m━━━━━━━━━━━━━━━━━━━━\u001b[0m\u001b[37m\u001b[0m \u001b[1m2s\u001b[0m 20ms/step - accuracy: 0.7179 - loss: 0.8093 - val_accuracy: 0.7774 - val_loss: 0.6611\n",
      "Epoch 4/30\n",
      "\u001b[1m98/98\u001b[0m \u001b[32m━━━━━━━━━━━━━━━━━━━━\u001b[0m\u001b[37m\u001b[0m \u001b[1m2s\u001b[0m 15ms/step - accuracy: 0.7793 - loss: 0.6466 - val_accuracy: 0.8220 - val_loss: 0.5647\n",
      "Epoch 5/30\n",
      "\u001b[1m98/98\u001b[0m \u001b[32m━━━━━━━━━━━━━━━━━━━━\u001b[0m\u001b[37m\u001b[0m \u001b[1m2s\u001b[0m 20ms/step - accuracy: 0.8266 - loss: 0.5288 - val_accuracy: 0.8400 - val_loss: 0.5058\n",
      "Epoch 6/30\n",
      "\u001b[1m98/98\u001b[0m \u001b[32m━━━━━━━━━━━━━━━━━━━━\u001b[0m\u001b[37m\u001b[0m \u001b[1m1s\u001b[0m 15ms/step - accuracy: 0.8629 - loss: 0.4342 - val_accuracy: 0.8538 - val_loss: 0.4638\n",
      "Epoch 7/30\n",
      "\u001b[1m98/98\u001b[0m \u001b[32m━━━━━━━━━━━━━━━━━━━━\u001b[0m\u001b[37m\u001b[0m \u001b[1m2s\u001b[0m 19ms/step - accuracy: 0.8884 - loss: 0.3576 - val_accuracy: 0.8674 - val_loss: 0.4311\n",
      "Epoch 8/30\n",
      "\u001b[1m98/98\u001b[0m \u001b[32m━━━━━━━━━━━━━━━━━━━━\u001b[0m\u001b[37m\u001b[0m \u001b[1m1s\u001b[0m 14ms/step - accuracy: 0.9065 - loss: 0.2979 - val_accuracy: 0.8708 - val_loss: 0.4145\n",
      "Epoch 9/30\n",
      "\u001b[1m98/98\u001b[0m \u001b[32m━━━━━━━━━━━━━━━━━━━━\u001b[0m\u001b[37m\u001b[0m \u001b[1m2s\u001b[0m 16ms/step - accuracy: 0.9274 - loss: 0.2428 - val_accuracy: 0.8734 - val_loss: 0.4031\n",
      "Epoch 10/30\n",
      "\u001b[1m98/98\u001b[0m \u001b[32m━━━━━━━━━━━━━━━━━━━━\u001b[0m\u001b[37m\u001b[0m \u001b[1m1s\u001b[0m 8ms/step - accuracy: 0.9452 - loss: 0.1834 - val_accuracy: 0.8698 - val_loss: 0.4195\n",
      "Epoch 11/30\n",
      "\u001b[1m98/98\u001b[0m \u001b[32m━━━━━━━━━━━━━━━━━━━━\u001b[0m\u001b[37m\u001b[0m \u001b[1m1s\u001b[0m 9ms/step - accuracy: 0.9588 - loss: 0.1400 - val_accuracy: 0.8650 - val_loss: 0.4458\n",
      "Epoch 12/30\n",
      "\u001b[1m98/98\u001b[0m \u001b[32m━━━━━━━━━━━━━━━━━━━━\u001b[0m\u001b[37m\u001b[0m \u001b[1m1s\u001b[0m 8ms/step - accuracy: 0.9696 - loss: 0.1089 - val_accuracy: 0.8716 - val_loss: 0.4611\n",
      "Epoch 13/30\n",
      "\u001b[1m98/98\u001b[0m \u001b[32m━━━━━━━━━━━━━━━━━━━━\u001b[0m\u001b[37m\u001b[0m \u001b[1m2s\u001b[0m 19ms/step - accuracy: 0.9762 - loss: 0.0840 - val_accuracy: 0.8776 - val_loss: 0.4649\n",
      "Epoch 14/30\n",
      "\u001b[1m98/98\u001b[0m \u001b[32m━━━━━━━━━━━━━━━━━━━━\u001b[0m\u001b[37m\u001b[0m \u001b[1m1s\u001b[0m 10ms/step - accuracy: 0.9838 - loss: 0.0614 - val_accuracy: 0.8766 - val_loss: 0.4792\n",
      "Epoch 15/30\n",
      "\u001b[1m98/98\u001b[0m \u001b[32m━━━━━━━━━━━━━━━━━━━━\u001b[0m\u001b[37m\u001b[0m \u001b[1m2s\u001b[0m 19ms/step - accuracy: 0.9857 - loss: 0.0526 - val_accuracy: 0.8748 - val_loss: 0.5026\n",
      "Epoch 16/30\n",
      "\u001b[1m98/98\u001b[0m \u001b[32m━━━━━━━━━━━━━━━━━━━━\u001b[0m\u001b[37m\u001b[0m \u001b[1m1s\u001b[0m 9ms/step - accuracy: 0.9894 - loss: 0.0391 - val_accuracy: 0.8764 - val_loss: 0.5180\n",
      "Epoch 17/30\n",
      "\u001b[1m98/98\u001b[0m \u001b[32m━━━━━━━━━━━━━━━━━━━━\u001b[0m\u001b[37m\u001b[0m \u001b[1m1s\u001b[0m 9ms/step - accuracy: 0.9919 - loss: 0.0322 - val_accuracy: 0.8752 - val_loss: 0.5459\n",
      "Epoch 18/30\n",
      "\u001b[1m98/98\u001b[0m \u001b[32m━━━━━━━━━━━━━━━━━━━━\u001b[0m\u001b[37m\u001b[0m \u001b[1m1s\u001b[0m 9ms/step - accuracy: 0.9919 - loss: 0.0288 - val_accuracy: 0.8758 - val_loss: 0.5439\n",
      "Epoch 19/30\n",
      "\u001b[1m98/98\u001b[0m \u001b[32m━━━━━━━━━━━━━━━━━━━━\u001b[0m\u001b[37m\u001b[0m \u001b[1m1s\u001b[0m 9ms/step - accuracy: 0.9936 - loss: 0.0265 - val_accuracy: 0.8742 - val_loss: 0.5828\n",
      "Epoch 20/30\n",
      "\u001b[1m98/98\u001b[0m \u001b[32m━━━━━━━━━━━━━━━━━━━━\u001b[0m\u001b[37m\u001b[0m \u001b[1m1s\u001b[0m 9ms/step - accuracy: 0.9935 - loss: 0.0232 - val_accuracy: 0.8716 - val_loss: 0.5969\n",
      "Epoch 21/30\n",
      "\u001b[1m98/98\u001b[0m \u001b[32m━━━━━━━━━━━━━━━━━━━━\u001b[0m\u001b[37m\u001b[0m \u001b[1m1s\u001b[0m 14ms/step - accuracy: 0.9935 - loss: 0.0226 - val_accuracy: 0.8726 - val_loss: 0.5969\n",
      "Epoch 22/30\n",
      "\u001b[1m98/98\u001b[0m \u001b[32m━━━━━━━━━━━━━━━━━━━━\u001b[0m\u001b[37m\u001b[0m \u001b[1m2s\u001b[0m 15ms/step - accuracy: 0.9923 - loss: 0.0259 - val_accuracy: 0.8702 - val_loss: 0.6197\n",
      "Epoch 23/30\n",
      "\u001b[1m98/98\u001b[0m \u001b[32m━━━━━━━━━━━━━━━━━━━━\u001b[0m\u001b[37m\u001b[0m \u001b[1m1s\u001b[0m 13ms/step - accuracy: 0.9941 - loss: 0.0213 - val_accuracy: 0.8664 - val_loss: 0.6234\n",
      "Epoch 24/30\n",
      "\u001b[1m98/98\u001b[0m \u001b[32m━━━━━━━━━━━━━━━━━━━━\u001b[0m\u001b[37m\u001b[0m \u001b[1m2s\u001b[0m 16ms/step - accuracy: 0.9948 - loss: 0.0187 - val_accuracy: 0.8692 - val_loss: 0.6382\n",
      "Epoch 25/30\n",
      "\u001b[1m98/98\u001b[0m \u001b[32m━━━━━━━━━━━━━━━━━━━━\u001b[0m\u001b[37m\u001b[0m \u001b[1m1s\u001b[0m 9ms/step - accuracy: 0.9936 - loss: 0.0224 - val_accuracy: 0.8696 - val_loss: 0.6359\n",
      "Epoch 26/30\n",
      "\u001b[1m98/98\u001b[0m \u001b[32m━━━━━━━━━━━━━━━━━━━━\u001b[0m\u001b[37m\u001b[0m \u001b[1m1s\u001b[0m 12ms/step - accuracy: 0.9943 - loss: 0.0190 - val_accuracy: 0.8638 - val_loss: 0.6693\n",
      "Epoch 27/30\n",
      "\u001b[1m98/98\u001b[0m \u001b[32m━━━━━━━━━━━━━━━━━━━━\u001b[0m\u001b[37m\u001b[0m \u001b[1m2s\u001b[0m 18ms/step - accuracy: 0.9941 - loss: 0.0198 - val_accuracy: 0.8702 - val_loss: 0.6601\n",
      "Epoch 28/30\n",
      "\u001b[1m98/98\u001b[0m \u001b[32m━━━━━━━━━━━━━━━━━━━━\u001b[0m\u001b[37m\u001b[0m \u001b[1m1s\u001b[0m 11ms/step - accuracy: 0.9946 - loss: 0.0188 - val_accuracy: 0.8718 - val_loss: 0.6584\n",
      "Epoch 29/30\n",
      "\u001b[1m98/98\u001b[0m \u001b[32m━━━━━━━━━━━━━━━━━━━━\u001b[0m\u001b[37m\u001b[0m \u001b[1m2s\u001b[0m 19ms/step - accuracy: 0.9936 - loss: 0.0198 - val_accuracy: 0.8708 - val_loss: 0.6644\n",
      "Epoch 30/30\n",
      "\u001b[1m98/98\u001b[0m \u001b[32m━━━━━━━━━━━━━━━━━━━━\u001b[0m\u001b[37m\u001b[0m \u001b[1m2s\u001b[0m 19ms/step - accuracy: 0.9926 - loss: 0.0244 - val_accuracy: 0.8684 - val_loss: 0.6916\n",
      "\u001b[1m157/157\u001b[0m \u001b[32m━━━━━━━━━━━━━━━━━━━━\u001b[0m\u001b[37m\u001b[0m \u001b[1m1s\u001b[0m 3ms/step\n",
      "NN accuracie 0.8684\n",
      "Exécution CNN\n",
      "Epoch 1/15\n",
      "\u001b[1m98/98\u001b[0m \u001b[32m━━━━━━━━━━━━━━━━━━━━\u001b[0m\u001b[37m\u001b[0m \u001b[1m6s\u001b[0m 50ms/step - accuracy: 0.2888 - loss: 2.0325 - val_accuracy: 0.8720 - val_loss: 0.4287\n",
      "Epoch 2/15\n",
      "\u001b[1m98/98\u001b[0m \u001b[32m━━━━━━━━━━━━━━━━━━━━\u001b[0m\u001b[37m\u001b[0m \u001b[1m5s\u001b[0m 48ms/step - accuracy: 0.8778 - loss: 0.4007 - val_accuracy: 0.9198 - val_loss: 0.2705\n",
      "Epoch 3/15\n",
      "\u001b[1m98/98\u001b[0m \u001b[32m━━━━━━━━━━━━━━━━━━━━\u001b[0m\u001b[37m\u001b[0m \u001b[1m5s\u001b[0m 53ms/step - accuracy: 0.9204 - loss: 0.2654 - val_accuracy: 0.9392 - val_loss: 0.2013\n",
      "Epoch 4/15\n",
      "\u001b[1m98/98\u001b[0m \u001b[32m━━━━━━━━━━━━━━━━━━━━\u001b[0m\u001b[37m\u001b[0m \u001b[1m5s\u001b[0m 49ms/step - accuracy: 0.9411 - loss: 0.2073 - val_accuracy: 0.9484 - val_loss: 0.1675\n",
      "Epoch 5/15\n",
      "\u001b[1m98/98\u001b[0m \u001b[32m━━━━━━━━━━━━━━━━━━━━\u001b[0m\u001b[37m\u001b[0m \u001b[1m5s\u001b[0m 52ms/step - accuracy: 0.9534 - loss: 0.1571 - val_accuracy: 0.9560 - val_loss: 0.1362\n",
      "Epoch 6/15\n",
      "\u001b[1m98/98\u001b[0m \u001b[32m━━━━━━━━━━━━━━━━━━━━\u001b[0m\u001b[37m\u001b[0m \u001b[1m5s\u001b[0m 53ms/step - accuracy: 0.9631 - loss: 0.1316 - val_accuracy: 0.9616 - val_loss: 0.1250\n",
      "Epoch 7/15\n",
      "\u001b[1m98/98\u001b[0m \u001b[32m━━━━━━━━━━━━━━━━━━━━\u001b[0m\u001b[37m\u001b[0m \u001b[1m4s\u001b[0m 43ms/step - accuracy: 0.9683 - loss: 0.1060 - val_accuracy: 0.9614 - val_loss: 0.1261\n",
      "Epoch 8/15\n",
      "\u001b[1m98/98\u001b[0m \u001b[32m━━━━━━━━━━━━━━━━━━━━\u001b[0m\u001b[37m\u001b[0m \u001b[1m5s\u001b[0m 46ms/step - accuracy: 0.9707 - loss: 0.0998 - val_accuracy: 0.9636 - val_loss: 0.1195\n",
      "Epoch 9/15\n",
      "\u001b[1m98/98\u001b[0m \u001b[32m━━━━━━━━━━━━━━━━━━━━\u001b[0m\u001b[37m\u001b[0m \u001b[1m5s\u001b[0m 48ms/step - accuracy: 0.9719 - loss: 0.0907 - val_accuracy: 0.9660 - val_loss: 0.1084\n",
      "Epoch 10/15\n",
      "\u001b[1m98/98\u001b[0m \u001b[32m━━━━━━━━━━━━━━━━━━━━\u001b[0m\u001b[37m\u001b[0m \u001b[1m5s\u001b[0m 51ms/step - accuracy: 0.9770 - loss: 0.0783 - val_accuracy: 0.9688 - val_loss: 0.1000\n",
      "Epoch 11/15\n",
      "\u001b[1m98/98\u001b[0m \u001b[32m━━━━━━━━━━━━━━━━━━━━\u001b[0m\u001b[37m\u001b[0m \u001b[1m5s\u001b[0m 50ms/step - accuracy: 0.9811 - loss: 0.0616 - val_accuracy: 0.9678 - val_loss: 0.0963\n",
      "Epoch 12/15\n",
      "\u001b[1m98/98\u001b[0m \u001b[32m━━━━━━━━━━━━━━━━━━━━\u001b[0m\u001b[37m\u001b[0m \u001b[1m5s\u001b[0m 52ms/step - accuracy: 0.9832 - loss: 0.0548 - val_accuracy: 0.9702 - val_loss: 0.0959\n",
      "Epoch 13/15\n",
      "\u001b[1m98/98\u001b[0m \u001b[32m━━━━━━━━━━━━━━━━━━━━\u001b[0m\u001b[37m\u001b[0m \u001b[1m5s\u001b[0m 48ms/step - accuracy: 0.9855 - loss: 0.0500 - val_accuracy: 0.9662 - val_loss: 0.1136\n",
      "Epoch 14/15\n",
      "\u001b[1m98/98\u001b[0m \u001b[32m━━━━━━━━━━━━━━━━━━━━\u001b[0m\u001b[37m\u001b[0m \u001b[1m5s\u001b[0m 50ms/step - accuracy: 0.9842 - loss: 0.0489 - val_accuracy: 0.9698 - val_loss: 0.0948\n",
      "Epoch 15/15\n",
      "\u001b[1m98/98\u001b[0m \u001b[32m━━━━━━━━━━━━━━━━━━━━\u001b[0m\u001b[37m\u001b[0m \u001b[1m5s\u001b[0m 49ms/step - accuracy: 0.9872 - loss: 0.0423 - val_accuracy: 0.9702 - val_loss: 0.0908\n",
      "\u001b[1m157/157\u001b[0m \u001b[32m━━━━━━━━━━━━━━━━━━━━\u001b[0m\u001b[37m\u001b[0m \u001b[1m0s\u001b[0m 2ms/step\n"
     ]
    },
    {
     "name": "stderr",
     "output_type": "stream",
     "text": [
      " 60%|██████    | 3/5 [10:42<07:07, 213.54s/it]"
     ]
    },
    {
     "name": "stdout",
     "output_type": "stream",
     "text": [
      "CNN accuracie 0.9702\n",
      "############################## Level noise : 3.0 ##############################\n",
      "train set noising\n"
     ]
    },
    {
     "name": "stderr",
     "output_type": "stream",
     "text": [
      "Generating dataset: 100%|██████████| 25000/25000 [00:01<00:00, 12524.93it/s]\n"
     ]
    },
    {
     "name": "stdout",
     "output_type": "stream",
     "text": [
      "test set noising\n"
     ]
    },
    {
     "name": "stderr",
     "output_type": "stream",
     "text": [
      "100%|██████████| 5000/5000 [00:00<00:00, 12994.17it/s]\n"
     ]
    },
    {
     "name": "stdout",
     "output_type": "stream",
     "text": [
      "Exécution NTKRR\n",
      "NTKRR accuracie 0.8564\n",
      "Exécution RFKRR\n",
      "RFKRR accuracie 0.8496\n",
      "Exécution NN\n",
      "Epoch 1/30\n",
      "\u001b[1m98/98\u001b[0m \u001b[32m━━━━━━━━━━━━━━━━━━━━\u001b[0m\u001b[37m\u001b[0m \u001b[1m2s\u001b[0m 10ms/step - accuracy: 0.1188 - loss: 2.2922 - val_accuracy: 0.4030 - val_loss: 1.8011\n",
      "Epoch 2/30\n",
      "\u001b[1m98/98\u001b[0m \u001b[32m━━━━━━━━━━━━━━━━━━━━\u001b[0m\u001b[37m\u001b[0m \u001b[1m1s\u001b[0m 13ms/step - accuracy: 0.4075 - loss: 1.5896 - val_accuracy: 0.5944 - val_loss: 1.0973\n",
      "Epoch 3/30\n",
      "\u001b[1m98/98\u001b[0m \u001b[32m━━━━━━━━━━━━━━━━━━━━\u001b[0m\u001b[37m\u001b[0m \u001b[1m1s\u001b[0m 9ms/step - accuracy: 0.6109 - loss: 1.0623 - val_accuracy: 0.6942 - val_loss: 0.8536\n",
      "Epoch 4/30\n",
      "\u001b[1m98/98\u001b[0m \u001b[32m━━━━━━━━━━━━━━━━━━━━\u001b[0m\u001b[37m\u001b[0m \u001b[1m1s\u001b[0m 8ms/step - accuracy: 0.7004 - loss: 0.8469 - val_accuracy: 0.7316 - val_loss: 0.7510\n",
      "Epoch 5/30\n",
      "\u001b[1m98/98\u001b[0m \u001b[32m━━━━━━━━━━━━━━━━━━━━\u001b[0m\u001b[37m\u001b[0m \u001b[1m1s\u001b[0m 9ms/step - accuracy: 0.7497 - loss: 0.7248 - val_accuracy: 0.7792 - val_loss: 0.6492\n",
      "Epoch 6/30\n",
      "\u001b[1m98/98\u001b[0m \u001b[32m━━━━━━━━━━━━━━━━━━━━\u001b[0m\u001b[37m\u001b[0m \u001b[1m1s\u001b[0m 13ms/step - accuracy: 0.7931 - loss: 0.6064 - val_accuracy: 0.7926 - val_loss: 0.6117\n",
      "Epoch 7/30\n",
      "\u001b[1m98/98\u001b[0m \u001b[32m━━━━━━━━━━━━━━━━━━━━\u001b[0m\u001b[37m\u001b[0m \u001b[1m1s\u001b[0m 9ms/step - accuracy: 0.8307 - loss: 0.5110 - val_accuracy: 0.7916 - val_loss: 0.5974\n",
      "Epoch 8/30\n",
      "\u001b[1m98/98\u001b[0m \u001b[32m━━━━━━━━━━━━━━━━━━━━\u001b[0m\u001b[37m\u001b[0m \u001b[1m1s\u001b[0m 9ms/step - accuracy: 0.8684 - loss: 0.3968 - val_accuracy: 0.8050 - val_loss: 0.5719\n",
      "Epoch 9/30\n",
      "\u001b[1m98/98\u001b[0m \u001b[32m━━━━━━━━━━━━━━━━━━━━\u001b[0m\u001b[37m\u001b[0m \u001b[1m1s\u001b[0m 9ms/step - accuracy: 0.9010 - loss: 0.3154 - val_accuracy: 0.8028 - val_loss: 0.5970\n",
      "Epoch 10/30\n",
      "\u001b[1m98/98\u001b[0m \u001b[32m━━━━━━━━━━━━━━━━━━━━\u001b[0m\u001b[37m\u001b[0m \u001b[1m1s\u001b[0m 9ms/step - accuracy: 0.9245 - loss: 0.2460 - val_accuracy: 0.8134 - val_loss: 0.5880\n",
      "Epoch 11/30\n",
      "\u001b[1m98/98\u001b[0m \u001b[32m━━━━━━━━━━━━━━━━━━━━\u001b[0m\u001b[37m\u001b[0m \u001b[1m1s\u001b[0m 9ms/step - accuracy: 0.9451 - loss: 0.1804 - val_accuracy: 0.8156 - val_loss: 0.5956\n",
      "Epoch 12/30\n",
      "\u001b[1m98/98\u001b[0m \u001b[32m━━━━━━━━━━━━━━━━━━━━\u001b[0m\u001b[37m\u001b[0m \u001b[1m1s\u001b[0m 10ms/step - accuracy: 0.9648 - loss: 0.1282 - val_accuracy: 0.8204 - val_loss: 0.6242\n",
      "Epoch 13/30\n",
      "\u001b[1m98/98\u001b[0m \u001b[32m━━━━━━━━━━━━━━━━━━━━\u001b[0m\u001b[37m\u001b[0m \u001b[1m1s\u001b[0m 9ms/step - accuracy: 0.9706 - loss: 0.1040 - val_accuracy: 0.8220 - val_loss: 0.6396\n",
      "Epoch 14/30\n",
      "\u001b[1m98/98\u001b[0m \u001b[32m━━━━━━━━━━━━━━━━━━━━\u001b[0m\u001b[37m\u001b[0m \u001b[1m1s\u001b[0m 8ms/step - accuracy: 0.9736 - loss: 0.0890 - val_accuracy: 0.8234 - val_loss: 0.6417\n",
      "Epoch 15/30\n",
      "\u001b[1m98/98\u001b[0m \u001b[32m━━━━━━━━━━━━━━━━━━━━\u001b[0m\u001b[37m\u001b[0m \u001b[1m1s\u001b[0m 9ms/step - accuracy: 0.9798 - loss: 0.0698 - val_accuracy: 0.8142 - val_loss: 0.7018\n",
      "Epoch 16/30\n",
      "\u001b[1m98/98\u001b[0m \u001b[32m━━━━━━━━━━━━━━━━━━━━\u001b[0m\u001b[37m\u001b[0m \u001b[1m1s\u001b[0m 9ms/step - accuracy: 0.9790 - loss: 0.0686 - val_accuracy: 0.8232 - val_loss: 0.6915\n",
      "Epoch 17/30\n",
      "\u001b[1m98/98\u001b[0m \u001b[32m━━━━━━━━━━━━━━━━━━━━\u001b[0m\u001b[37m\u001b[0m \u001b[1m1s\u001b[0m 9ms/step - accuracy: 0.9806 - loss: 0.0610 - val_accuracy: 0.8188 - val_loss: 0.7173\n",
      "Epoch 18/30\n",
      "\u001b[1m98/98\u001b[0m \u001b[32m━━━━━━━━━━━━━━━━━━━━\u001b[0m\u001b[37m\u001b[0m \u001b[1m1s\u001b[0m 8ms/step - accuracy: 0.9838 - loss: 0.0533 - val_accuracy: 0.8206 - val_loss: 0.7242\n",
      "Epoch 19/30\n",
      "\u001b[1m98/98\u001b[0m \u001b[32m━━━━━━━━━━━━━━━━━━━━\u001b[0m\u001b[37m\u001b[0m \u001b[1m1s\u001b[0m 8ms/step - accuracy: 0.9859 - loss: 0.0454 - val_accuracy: 0.8282 - val_loss: 0.7418\n",
      "Epoch 20/30\n",
      "\u001b[1m98/98\u001b[0m \u001b[32m━━━━━━━━━━━━━━━━━━━━\u001b[0m\u001b[37m\u001b[0m \u001b[1m1s\u001b[0m 10ms/step - accuracy: 0.9856 - loss: 0.0437 - val_accuracy: 0.8206 - val_loss: 0.7684\n",
      "Epoch 21/30\n",
      "\u001b[1m98/98\u001b[0m \u001b[32m━━━━━━━━━━━━━━━━━━━━\u001b[0m\u001b[37m\u001b[0m \u001b[1m1s\u001b[0m 9ms/step - accuracy: 0.9886 - loss: 0.0381 - val_accuracy: 0.8238 - val_loss: 0.7721\n",
      "Epoch 22/30\n",
      "\u001b[1m98/98\u001b[0m \u001b[32m━━━━━━━━━━━━━━━━━━━━\u001b[0m\u001b[37m\u001b[0m \u001b[1m1s\u001b[0m 9ms/step - accuracy: 0.9874 - loss: 0.0418 - val_accuracy: 0.8162 - val_loss: 0.8000\n",
      "Epoch 23/30\n",
      "\u001b[1m98/98\u001b[0m \u001b[32m━━━━━━━━━━━━━━━━━━━━\u001b[0m\u001b[37m\u001b[0m \u001b[1m1s\u001b[0m 9ms/step - accuracy: 0.9850 - loss: 0.0452 - val_accuracy: 0.8262 - val_loss: 0.7726\n",
      "Epoch 24/30\n",
      "\u001b[1m98/98\u001b[0m \u001b[32m━━━━━━━━━━━━━━━━━━━━\u001b[0m\u001b[37m\u001b[0m \u001b[1m1s\u001b[0m 9ms/step - accuracy: 0.9869 - loss: 0.0417 - val_accuracy: 0.8268 - val_loss: 0.7850\n",
      "Epoch 25/30\n",
      "\u001b[1m98/98\u001b[0m \u001b[32m━━━━━━━━━━━━━━━━━━━━\u001b[0m\u001b[37m\u001b[0m \u001b[1m1s\u001b[0m 9ms/step - accuracy: 0.9899 - loss: 0.0319 - val_accuracy: 0.8214 - val_loss: 0.8309\n",
      "Epoch 26/30\n",
      "\u001b[1m98/98\u001b[0m \u001b[32m━━━━━━━━━━━━━━━━━━━━\u001b[0m\u001b[37m\u001b[0m \u001b[1m1s\u001b[0m 9ms/step - accuracy: 0.9877 - loss: 0.0368 - val_accuracy: 0.8194 - val_loss: 0.8524\n",
      "Epoch 27/30\n",
      "\u001b[1m98/98\u001b[0m \u001b[32m━━━━━━━━━━━━━━━━━━━━\u001b[0m\u001b[37m\u001b[0m \u001b[1m1s\u001b[0m 10ms/step - accuracy: 0.9895 - loss: 0.0346 - val_accuracy: 0.8158 - val_loss: 0.8735\n",
      "Epoch 28/30\n",
      "\u001b[1m98/98\u001b[0m \u001b[32m━━━━━━━━━━━━━━━━━━━━\u001b[0m\u001b[37m\u001b[0m \u001b[1m1s\u001b[0m 12ms/step - accuracy: 0.9898 - loss: 0.0331 - val_accuracy: 0.8232 - val_loss: 0.8475\n",
      "Epoch 29/30\n",
      "\u001b[1m98/98\u001b[0m \u001b[32m━━━━━━━━━━━━━━━━━━━━\u001b[0m\u001b[37m\u001b[0m \u001b[1m1s\u001b[0m 9ms/step - accuracy: 0.9893 - loss: 0.0327 - val_accuracy: 0.8156 - val_loss: 0.8735\n",
      "Epoch 30/30\n",
      "\u001b[1m98/98\u001b[0m \u001b[32m━━━━━━━━━━━━━━━━━━━━\u001b[0m\u001b[37m\u001b[0m \u001b[1m1s\u001b[0m 9ms/step - accuracy: 0.9872 - loss: 0.0369 - val_accuracy: 0.8206 - val_loss: 0.8575\n",
      "\u001b[1m157/157\u001b[0m \u001b[32m━━━━━━━━━━━━━━━━━━━━\u001b[0m\u001b[37m\u001b[0m \u001b[1m1s\u001b[0m 4ms/step\n",
      "NN accuracie 0.8206\n",
      "Exécution CNN\n",
      "Epoch 1/15\n",
      "\u001b[1m98/98\u001b[0m \u001b[32m━━━━━━━━━━━━━━━━━━━━\u001b[0m\u001b[37m\u001b[0m \u001b[1m5s\u001b[0m 44ms/step - accuracy: 0.2354 - loss: 2.1289 - val_accuracy: 0.8156 - val_loss: 0.5880\n",
      "Epoch 2/15\n",
      "\u001b[1m98/98\u001b[0m \u001b[32m━━━━━━━━━━━━━━━━━━━━\u001b[0m\u001b[37m\u001b[0m \u001b[1m5s\u001b[0m 48ms/step - accuracy: 0.8348 - loss: 0.5308 - val_accuracy: 0.9004 - val_loss: 0.3209\n",
      "Epoch 3/15\n",
      "\u001b[1m98/98\u001b[0m \u001b[32m━━━━━━━━━━━━━━━━━━━━\u001b[0m\u001b[37m\u001b[0m \u001b[1m5s\u001b[0m 48ms/step - accuracy: 0.9009 - loss: 0.3234 - val_accuracy: 0.9244 - val_loss: 0.2482\n",
      "Epoch 4/15\n",
      "\u001b[1m98/98\u001b[0m \u001b[32m━━━━━━━━━━━━━━━━━━━━\u001b[0m\u001b[37m\u001b[0m \u001b[1m5s\u001b[0m 49ms/step - accuracy: 0.9259 - loss: 0.2466 - val_accuracy: 0.9426 - val_loss: 0.1864\n",
      "Epoch 5/15\n",
      "\u001b[1m98/98\u001b[0m \u001b[32m━━━━━━━━━━━━━━━━━━━━\u001b[0m\u001b[37m\u001b[0m \u001b[1m5s\u001b[0m 48ms/step - accuracy: 0.9426 - loss: 0.1903 - val_accuracy: 0.9514 - val_loss: 0.1528\n",
      "Epoch 6/15\n",
      "\u001b[1m98/98\u001b[0m \u001b[32m━━━━━━━━━━━━━━━━━━━━\u001b[0m\u001b[37m\u001b[0m \u001b[1m5s\u001b[0m 50ms/step - accuracy: 0.9555 - loss: 0.1508 - val_accuracy: 0.9580 - val_loss: 0.1330\n",
      "Epoch 7/15\n",
      "\u001b[1m98/98\u001b[0m \u001b[32m━━━━━━━━━━━━━━━━━━━━\u001b[0m\u001b[37m\u001b[0m \u001b[1m5s\u001b[0m 49ms/step - accuracy: 0.9631 - loss: 0.1235 - val_accuracy: 0.9608 - val_loss: 0.1223\n",
      "Epoch 8/15\n",
      "\u001b[1m98/98\u001b[0m \u001b[32m━━━━━━━━━━━━━━━━━━━━\u001b[0m\u001b[37m\u001b[0m \u001b[1m5s\u001b[0m 49ms/step - accuracy: 0.9660 - loss: 0.1121 - val_accuracy: 0.9644 - val_loss: 0.1154\n",
      "Epoch 9/15\n",
      "\u001b[1m98/98\u001b[0m \u001b[32m━━━━━━━━━━━━━━━━━━━━\u001b[0m\u001b[37m\u001b[0m \u001b[1m5s\u001b[0m 47ms/step - accuracy: 0.9716 - loss: 0.0951 - val_accuracy: 0.9670 - val_loss: 0.1036\n",
      "Epoch 10/15\n",
      "\u001b[1m98/98\u001b[0m \u001b[32m━━━━━━━━━━━━━━━━━━━━\u001b[0m\u001b[37m\u001b[0m \u001b[1m5s\u001b[0m 49ms/step - accuracy: 0.9743 - loss: 0.0886 - val_accuracy: 0.9616 - val_loss: 0.1132\n",
      "Epoch 11/15\n",
      "\u001b[1m98/98\u001b[0m \u001b[32m━━━━━━━━━━━━━━━━━━━━\u001b[0m\u001b[37m\u001b[0m \u001b[1m5s\u001b[0m 46ms/step - accuracy: 0.9769 - loss: 0.0761 - val_accuracy: 0.9682 - val_loss: 0.0988\n",
      "Epoch 12/15\n",
      "\u001b[1m98/98\u001b[0m \u001b[32m━━━━━━━━━━━━━━━━━━━━\u001b[0m\u001b[37m\u001b[0m \u001b[1m5s\u001b[0m 48ms/step - accuracy: 0.9800 - loss: 0.0662 - val_accuracy: 0.9692 - val_loss: 0.0952\n",
      "Epoch 13/15\n",
      "\u001b[1m98/98\u001b[0m \u001b[32m━━━━━━━━━━━━━━━━━━━━\u001b[0m\u001b[37m\u001b[0m \u001b[1m5s\u001b[0m 48ms/step - accuracy: 0.9825 - loss: 0.0593 - val_accuracy: 0.9730 - val_loss: 0.0882\n",
      "Epoch 14/15\n",
      "\u001b[1m98/98\u001b[0m \u001b[32m━━━━━━━━━━━━━━━━━━━━\u001b[0m\u001b[37m\u001b[0m \u001b[1m5s\u001b[0m 48ms/step - accuracy: 0.9828 - loss: 0.0536 - val_accuracy: 0.9692 - val_loss: 0.0927\n",
      "Epoch 15/15\n",
      "\u001b[1m98/98\u001b[0m \u001b[32m━━━━━━━━━━━━━━━━━━━━\u001b[0m\u001b[37m\u001b[0m \u001b[1m5s\u001b[0m 49ms/step - accuracy: 0.9868 - loss: 0.0466 - val_accuracy: 0.9666 - val_loss: 0.0942\n",
      "\u001b[1m157/157\u001b[0m \u001b[32m━━━━━━━━━━━━━━━━━━━━\u001b[0m\u001b[37m\u001b[0m \u001b[1m0s\u001b[0m 2ms/step\n"
     ]
    },
    {
     "name": "stderr",
     "output_type": "stream",
     "text": [
      " 80%|████████  | 4/5 [14:05<03:29, 209.29s/it]"
     ]
    },
    {
     "name": "stdout",
     "output_type": "stream",
     "text": [
      "CNN accuracie 0.9666\n",
      "############################## Level noise : 4.0 ##############################\n",
      "train set noising\n"
     ]
    },
    {
     "name": "stderr",
     "output_type": "stream",
     "text": [
      "Generating dataset: 100%|██████████| 25000/25000 [00:01<00:00, 12836.04it/s]\n"
     ]
    },
    {
     "name": "stdout",
     "output_type": "stream",
     "text": [
      "test set noising\n"
     ]
    },
    {
     "name": "stderr",
     "output_type": "stream",
     "text": [
      "100%|██████████| 5000/5000 [00:00<00:00, 12894.27it/s]\n"
     ]
    },
    {
     "name": "stdout",
     "output_type": "stream",
     "text": [
      "Exécution NTKRR\n",
      "NTKRR accuracie 0.86\n",
      "Exécution RFKRR\n",
      "RFKRR accuracie 0.8316\n",
      "Exécution NN\n",
      "Epoch 1/30\n",
      "\u001b[1m98/98\u001b[0m \u001b[32m━━━━━━━━━━━━━━━━━━━━\u001b[0m\u001b[37m\u001b[0m \u001b[1m2s\u001b[0m 10ms/step - accuracy: 0.1119 - loss: 2.3008 - val_accuracy: 0.2286 - val_loss: 2.2275\n",
      "Epoch 2/30\n",
      "\u001b[1m98/98\u001b[0m \u001b[32m━━━━━━━━━━━━━━━━━━━━\u001b[0m\u001b[37m\u001b[0m \u001b[1m1s\u001b[0m 10ms/step - accuracy: 0.2700 - loss: 2.0085 - val_accuracy: 0.4804 - val_loss: 1.4023\n",
      "Epoch 3/30\n",
      "\u001b[1m98/98\u001b[0m \u001b[32m━━━━━━━━━━━━━━━━━━━━\u001b[0m\u001b[37m\u001b[0m \u001b[1m2s\u001b[0m 19ms/step - accuracy: 0.4911 - loss: 1.3521 - val_accuracy: 0.6424 - val_loss: 1.0216\n",
      "Epoch 4/30\n",
      "\u001b[1m98/98\u001b[0m \u001b[32m━━━━━━━━━━━━━━━━━━━━\u001b[0m\u001b[37m\u001b[0m \u001b[1m2s\u001b[0m 19ms/step - accuracy: 0.6257 - loss: 1.0187 - val_accuracy: 0.6870 - val_loss: 0.9093\n",
      "Epoch 5/30\n",
      "\u001b[1m98/98\u001b[0m \u001b[32m━━━━━━━━━━━━━━━━━━━━\u001b[0m\u001b[37m\u001b[0m \u001b[1m1s\u001b[0m 9ms/step - accuracy: 0.6961 - loss: 0.8480 - val_accuracy: 0.7370 - val_loss: 0.7775\n",
      "Epoch 6/30\n",
      "\u001b[1m98/98\u001b[0m \u001b[32m━━━━━━━━━━━━━━━━━━━━\u001b[0m\u001b[37m\u001b[0m \u001b[1m1s\u001b[0m 9ms/step - accuracy: 0.7637 - loss: 0.6809 - val_accuracy: 0.7632 - val_loss: 0.7186\n",
      "Epoch 7/30\n",
      "\u001b[1m98/98\u001b[0m \u001b[32m━━━━━━━━━━━━━━━━━━━━\u001b[0m\u001b[37m\u001b[0m \u001b[1m1s\u001b[0m 13ms/step - accuracy: 0.8074 - loss: 0.5572 - val_accuracy: 0.7676 - val_loss: 0.6920\n",
      "Epoch 8/30\n",
      "\u001b[1m98/98\u001b[0m \u001b[32m━━━━━━━━━━━━━━━━━━━━\u001b[0m\u001b[37m\u001b[0m \u001b[1m2s\u001b[0m 19ms/step - accuracy: 0.8542 - loss: 0.4375 - val_accuracy: 0.7840 - val_loss: 0.6570\n",
      "Epoch 9/30\n",
      "\u001b[1m98/98\u001b[0m \u001b[32m━━━━━━━━━━━━━━━━━━━━\u001b[0m\u001b[37m\u001b[0m \u001b[1m2s\u001b[0m 18ms/step - accuracy: 0.8863 - loss: 0.3449 - val_accuracy: 0.7916 - val_loss: 0.6630\n",
      "Epoch 10/30\n",
      "\u001b[1m98/98\u001b[0m \u001b[32m━━━━━━━━━━━━━━━━━━━━\u001b[0m\u001b[37m\u001b[0m \u001b[1m1s\u001b[0m 9ms/step - accuracy: 0.9205 - loss: 0.2499 - val_accuracy: 0.7802 - val_loss: 0.6925\n",
      "Epoch 11/30\n",
      "\u001b[1m98/98\u001b[0m \u001b[32m━━━━━━━━━━━━━━━━━━━━\u001b[0m\u001b[37m\u001b[0m \u001b[1m1s\u001b[0m 9ms/step - accuracy: 0.9389 - loss: 0.1940 - val_accuracy: 0.7838 - val_loss: 0.7189\n",
      "Epoch 12/30\n",
      "\u001b[1m98/98\u001b[0m \u001b[32m━━━━━━━━━━━━━━━━━━━━\u001b[0m\u001b[37m\u001b[0m \u001b[1m1s\u001b[0m 10ms/step - accuracy: 0.9561 - loss: 0.1470 - val_accuracy: 0.7928 - val_loss: 0.7300\n",
      "Epoch 13/30\n",
      "\u001b[1m98/98\u001b[0m \u001b[32m━━━━━━━━━━━━━━━━━━━━\u001b[0m\u001b[37m\u001b[0m \u001b[1m1s\u001b[0m 9ms/step - accuracy: 0.9674 - loss: 0.1119 - val_accuracy: 0.7818 - val_loss: 0.7963\n",
      "Epoch 14/30\n",
      "\u001b[1m98/98\u001b[0m \u001b[32m━━━━━━━━━━━━━━━━━━━━\u001b[0m\u001b[37m\u001b[0m \u001b[1m1s\u001b[0m 9ms/step - accuracy: 0.9680 - loss: 0.1005 - val_accuracy: 0.7930 - val_loss: 0.7830\n",
      "Epoch 15/30\n",
      "\u001b[1m98/98\u001b[0m \u001b[32m━━━━━━━━━━━━━━━━━━━━\u001b[0m\u001b[37m\u001b[0m \u001b[1m1s\u001b[0m 8ms/step - accuracy: 0.9727 - loss: 0.0857 - val_accuracy: 0.7890 - val_loss: 0.8271\n",
      "Epoch 16/30\n",
      "\u001b[1m98/98\u001b[0m \u001b[32m━━━━━━━━━━━━━━━━━━━━\u001b[0m\u001b[37m\u001b[0m \u001b[1m1s\u001b[0m 9ms/step - accuracy: 0.9753 - loss: 0.0790 - val_accuracy: 0.7840 - val_loss: 0.8797\n",
      "Epoch 17/30\n",
      "\u001b[1m98/98\u001b[0m \u001b[32m━━━━━━━━━━━━━━━━━━━━\u001b[0m\u001b[37m\u001b[0m \u001b[1m1s\u001b[0m 9ms/step - accuracy: 0.9772 - loss: 0.0742 - val_accuracy: 0.7884 - val_loss: 0.8722\n",
      "Epoch 18/30\n",
      "\u001b[1m98/98\u001b[0m \u001b[32m━━━━━━━━━━━━━━━━━━━━\u001b[0m\u001b[37m\u001b[0m \u001b[1m1s\u001b[0m 9ms/step - accuracy: 0.9788 - loss: 0.0651 - val_accuracy: 0.7924 - val_loss: 0.8710\n",
      "Epoch 19/30\n",
      "\u001b[1m98/98\u001b[0m \u001b[32m━━━━━━━━━━━━━━━━━━━━\u001b[0m\u001b[37m\u001b[0m \u001b[1m1s\u001b[0m 8ms/step - accuracy: 0.9810 - loss: 0.0593 - val_accuracy: 0.7826 - val_loss: 0.9487\n",
      "Epoch 20/30\n",
      "\u001b[1m98/98\u001b[0m \u001b[32m━━━━━━━━━━━━━━━━━━━━\u001b[0m\u001b[37m\u001b[0m \u001b[1m1s\u001b[0m 9ms/step - accuracy: 0.9828 - loss: 0.0517 - val_accuracy: 0.7846 - val_loss: 0.9495\n",
      "Epoch 21/30\n",
      "\u001b[1m98/98\u001b[0m \u001b[32m━━━━━━━━━━━━━━━━━━━━\u001b[0m\u001b[37m\u001b[0m \u001b[1m1s\u001b[0m 9ms/step - accuracy: 0.9803 - loss: 0.0573 - val_accuracy: 0.7868 - val_loss: 0.9429\n",
      "Epoch 22/30\n",
      "\u001b[1m98/98\u001b[0m \u001b[32m━━━━━━━━━━━━━━━━━━━━\u001b[0m\u001b[37m\u001b[0m \u001b[1m1s\u001b[0m 11ms/step - accuracy: 0.9766 - loss: 0.0655 - val_accuracy: 0.7806 - val_loss: 0.9610\n",
      "Epoch 23/30\n",
      "\u001b[1m98/98\u001b[0m \u001b[32m━━━━━━━━━━━━━━━━━━━━\u001b[0m\u001b[37m\u001b[0m \u001b[1m1s\u001b[0m 13ms/step - accuracy: 0.9827 - loss: 0.0526 - val_accuracy: 0.7746 - val_loss: 1.0735\n",
      "Epoch 24/30\n",
      "\u001b[1m98/98\u001b[0m \u001b[32m━━━━━━━━━━━━━━━━━━━━\u001b[0m\u001b[37m\u001b[0m \u001b[1m1s\u001b[0m 9ms/step - accuracy: 0.9796 - loss: 0.0571 - val_accuracy: 0.7872 - val_loss: 0.9781\n",
      "Epoch 25/30\n",
      "\u001b[1m98/98\u001b[0m \u001b[32m━━━━━━━━━━━━━━━━━━━━\u001b[0m\u001b[37m\u001b[0m \u001b[1m2s\u001b[0m 20ms/step - accuracy: 0.9866 - loss: 0.0404 - val_accuracy: 0.7808 - val_loss: 1.0289\n",
      "Epoch 26/30\n",
      "\u001b[1m98/98\u001b[0m \u001b[32m━━━━━━━━━━━━━━━━━━━━\u001b[0m\u001b[37m\u001b[0m \u001b[1m1s\u001b[0m 9ms/step - accuracy: 0.9846 - loss: 0.0471 - val_accuracy: 0.7834 - val_loss: 1.0118\n",
      "Epoch 27/30\n",
      "\u001b[1m98/98\u001b[0m \u001b[32m━━━━━━━━━━━━━━━━━━━━\u001b[0m\u001b[37m\u001b[0m \u001b[1m1s\u001b[0m 11ms/step - accuracy: 0.9830 - loss: 0.0512 - val_accuracy: 0.7884 - val_loss: 1.0296\n",
      "Epoch 28/30\n",
      "\u001b[1m98/98\u001b[0m \u001b[32m━━━━━━━━━━━━━━━━━━━━\u001b[0m\u001b[37m\u001b[0m \u001b[1m2s\u001b[0m 19ms/step - accuracy: 0.9840 - loss: 0.0463 - val_accuracy: 0.7856 - val_loss: 1.0236\n",
      "Epoch 29/30\n",
      "\u001b[1m98/98\u001b[0m \u001b[32m━━━━━━━━━━━━━━━━━━━━\u001b[0m\u001b[37m\u001b[0m \u001b[1m1s\u001b[0m 14ms/step - accuracy: 0.9863 - loss: 0.0422 - val_accuracy: 0.7866 - val_loss: 1.0209\n",
      "Epoch 30/30\n",
      "\u001b[1m98/98\u001b[0m \u001b[32m━━━━━━━━━━━━━━━━━━━━\u001b[0m\u001b[37m\u001b[0m \u001b[1m2s\u001b[0m 19ms/step - accuracy: 0.9865 - loss: 0.0420 - val_accuracy: 0.7834 - val_loss: 1.1098\n",
      "\u001b[1m157/157\u001b[0m \u001b[32m━━━━━━━━━━━━━━━━━━━━\u001b[0m\u001b[37m\u001b[0m \u001b[1m0s\u001b[0m 2ms/step\n",
      "NN accuracie 0.7834\n",
      "Exécution CNN\n",
      "Epoch 1/15\n",
      "\u001b[1m98/98\u001b[0m \u001b[32m━━━━━━━━━━━━━━━━━━━━\u001b[0m\u001b[37m\u001b[0m \u001b[1m6s\u001b[0m 48ms/step - accuracy: 0.2228 - loss: 2.1568 - val_accuracy: 0.8172 - val_loss: 0.6112\n",
      "Epoch 2/15\n",
      "\u001b[1m98/98\u001b[0m \u001b[32m━━━━━━━━━━━━━━━━━━━━\u001b[0m\u001b[37m\u001b[0m \u001b[1m5s\u001b[0m 54ms/step - accuracy: 0.8429 - loss: 0.5052 - val_accuracy: 0.8930 - val_loss: 0.3709\n",
      "Epoch 3/15\n",
      "\u001b[1m98/98\u001b[0m \u001b[32m━━━━━━━━━━━━━━━━━━━━\u001b[0m\u001b[37m\u001b[0m \u001b[1m5s\u001b[0m 53ms/step - accuracy: 0.9008 - loss: 0.3437 - val_accuracy: 0.9024 - val_loss: 0.3133\n",
      "Epoch 4/15\n",
      "\u001b[1m98/98\u001b[0m \u001b[32m━━━━━━━━━━━━━━━━━━━━\u001b[0m\u001b[37m\u001b[0m \u001b[1m5s\u001b[0m 49ms/step - accuracy: 0.9180 - loss: 0.2713 - val_accuracy: 0.9320 - val_loss: 0.2299\n",
      "Epoch 5/15\n",
      "\u001b[1m98/98\u001b[0m \u001b[32m━━━━━━━━━━━━━━━━━━━━\u001b[0m\u001b[37m\u001b[0m \u001b[1m5s\u001b[0m 51ms/step - accuracy: 0.9332 - loss: 0.2110 - val_accuracy: 0.9368 - val_loss: 0.2087\n",
      "Epoch 6/15\n",
      "\u001b[1m98/98\u001b[0m \u001b[32m━━━━━━━━━━━━━━━━━━━━\u001b[0m\u001b[37m\u001b[0m \u001b[1m5s\u001b[0m 50ms/step - accuracy: 0.9465 - loss: 0.1838 - val_accuracy: 0.9470 - val_loss: 0.1705\n",
      "Epoch 7/15\n",
      "\u001b[1m98/98\u001b[0m \u001b[32m━━━━━━━━━━━━━━━━━━━━\u001b[0m\u001b[37m\u001b[0m \u001b[1m5s\u001b[0m 46ms/step - accuracy: 0.9579 - loss: 0.1443 - val_accuracy: 0.9526 - val_loss: 0.1604\n",
      "Epoch 8/15\n",
      "\u001b[1m98/98\u001b[0m \u001b[32m━━━━━━━━━━━━━━━━━━━━\u001b[0m\u001b[37m\u001b[0m \u001b[1m5s\u001b[0m 47ms/step - accuracy: 0.9616 - loss: 0.1271 - val_accuracy: 0.9602 - val_loss: 0.1411\n",
      "Epoch 9/15\n",
      "\u001b[1m98/98\u001b[0m \u001b[32m━━━━━━━━━━━━━━━━━━━━\u001b[0m\u001b[37m\u001b[0m \u001b[1m5s\u001b[0m 49ms/step - accuracy: 0.9658 - loss: 0.1120 - val_accuracy: 0.9628 - val_loss: 0.1214\n",
      "Epoch 10/15\n",
      "\u001b[1m98/98\u001b[0m \u001b[32m━━━━━━━━━━━━━━━━━━━━\u001b[0m\u001b[37m\u001b[0m \u001b[1m5s\u001b[0m 47ms/step - accuracy: 0.9748 - loss: 0.0860 - val_accuracy: 0.9618 - val_loss: 0.1235\n",
      "Epoch 11/15\n",
      "\u001b[1m98/98\u001b[0m \u001b[32m━━━━━━━━━━━━━━━━━━━━\u001b[0m\u001b[37m\u001b[0m \u001b[1m5s\u001b[0m 49ms/step - accuracy: 0.9758 - loss: 0.0811 - val_accuracy: 0.9632 - val_loss: 0.1149\n",
      "Epoch 12/15\n",
      "\u001b[1m98/98\u001b[0m \u001b[32m━━━━━━━━━━━━━━━━━━━━\u001b[0m\u001b[37m\u001b[0m \u001b[1m5s\u001b[0m 51ms/step - accuracy: 0.9802 - loss: 0.0669 - val_accuracy: 0.9678 - val_loss: 0.1054\n",
      "Epoch 13/15\n",
      "\u001b[1m98/98\u001b[0m \u001b[32m━━━━━━━━━━━━━━━━━━━━\u001b[0m\u001b[37m\u001b[0m \u001b[1m5s\u001b[0m 49ms/step - accuracy: 0.9831 - loss: 0.0583 - val_accuracy: 0.9688 - val_loss: 0.1039\n",
      "Epoch 14/15\n",
      "\u001b[1m98/98\u001b[0m \u001b[32m━━━━━━━━━━━━━━━━━━━━\u001b[0m\u001b[37m\u001b[0m \u001b[1m5s\u001b[0m 52ms/step - accuracy: 0.9851 - loss: 0.0508 - val_accuracy: 0.9654 - val_loss: 0.1080\n",
      "Epoch 15/15\n",
      "\u001b[1m98/98\u001b[0m \u001b[32m━━━━━━━━━━━━━━━━━━━━\u001b[0m\u001b[37m\u001b[0m \u001b[1m5s\u001b[0m 46ms/step - accuracy: 0.9882 - loss: 0.0418 - val_accuracy: 0.9644 - val_loss: 0.1199\n",
      "\u001b[1m157/157\u001b[0m \u001b[32m━━━━━━━━━━━━━━━━━━━━\u001b[0m\u001b[37m\u001b[0m \u001b[1m0s\u001b[0m 2ms/step\n"
     ]
    },
    {
     "name": "stderr",
     "output_type": "stream",
     "text": [
      "100%|██████████| 5/5 [17:37<00:00, 211.56s/it]"
     ]
    },
    {
     "name": "stdout",
     "output_type": "stream",
     "text": [
      "CNN accuracie 0.9644\n"
     ]
    },
    {
     "name": "stderr",
     "output_type": "stream",
     "text": [
      "\n"
     ]
    }
   ],
   "source": [
    "\n",
    "accuracies = {\n",
    "    \"ntkrr\":[],\n",
    "    \"rfkrr\":[],\n",
    "    \"nn\":[],\n",
    "    \"cnn\":[]\n",
    "}\n",
    "from SpikedDataset import SpikedDataset\n",
    "\n",
    "subset_size=(25000, 5000)\n",
    "tau_values = np.linspace(0, 4, num=5) \n",
    "classes_to_keep = list(range(0,10))\n",
    "\n",
    "for tau in tqdm(tau_values):\n",
    "    print(f\"{'#'*30} Level noise : {tau} {'#'*30}\")\n",
    "\n",
    "    generator = SpikedDataset(dataset='MNIST', subset_size=subset_size)\n",
    "    X_train_processed,X_test_processed,y_train_processed,y_test_processed = generator.generate_spiked_dataset(classes_to_keep=classes_to_keep, tau=tau)\n",
    "    pipeline = Pipeline(X_train=X_train_processed,X_test=X_test_processed,y_train=y_train_processed,y_test=y_test_processed,classes_to_keep=classes_to_keep)\n",
    "\n",
    "    pipeline.run_nt_krr(nt_dim=256, alpha=0.01)\n",
    "    accuracies[\"ntkrr\"].append(accuracy_score(pipeline.y_test_subset, pipeline.y_pred))\n",
    "    print(f'NTKRR accuracie {accuracies[\"ntkrr\"][-1]}')\n",
    "\n",
    "    pipeline.run_rf_krr(rf_dim=4096, alpha=0.01, sigma=0.01)\n",
    "    accuracies[\"rfkrr\"].append(accuracy_score(pipeline.y_test_subset, pipeline.y_pred))\n",
    "    print(f'RFKRR accuracie {accuracies[\"rfkrr\"][-1]}')\n",
    "\n",
    "    pipeline.run_nn(learning_rate = 0.001, epochs=30, batch_size=256)\n",
    "    accuracies[\"nn\"].append(accuracy_score(np.argmax(pipeline.y_test_subset, axis=1), pipeline.y_pred))\n",
    "    print(f'NN accuracie {accuracies[\"nn\"][-1]}')\n",
    "\n",
    "    pipeline.run_cnn(learning_rate = 0.001, epochs=15, batch_size=256)\n",
    "    accuracies[\"cnn\"].append(accuracy_score(np.argmax(pipeline.y_test_subset, axis=1), pipeline.y_pred))\n",
    "    print(f'CNN accuracie {accuracies[\"cnn\"][-1]}')"
   ]
  },
  {
   "cell_type": "code",
   "execution_count": 9,
   "metadata": {},
   "outputs": [
    {
     "data": {
      "image/png": "[encoded data removed]",
      "text/plain": [
       "<Figure size 800x500 with 1 Axes>"
      ]
     },
     "metadata": {},
     "output_type": "display_data"
    }
   ],
   "source": [
    "import matplotlib.pyplot as plt\n",
    "\n",
    "plt.figure(figsize=(8, 5))  \n",
    "\n",
    "plt.plot(tau_values, accuracies[\"cnn\"], marker='o', linestyle='-', label=\"CNN\")\n",
    "plt.plot(tau_values, accuracies[\"ntkrr\"], marker='s', linestyle='--', label=\"NTKRR\")\n",
    "plt.plot(tau_values, accuracies[\"rfkrr\"], marker='^', linestyle='-.', label=\"RFKRR\")\n",
    "plt.plot(tau_values, accuracies[\"nn\"], marker='d', linestyle=':', label=\"NN\")\n",
    "\n",
    "plt.xlabel(\"Tau values\", fontsize=12)\n",
    "plt.ylabel(\"Accuracy\", fontsize=12)\n",
    "plt.title(\"Impact du bruit sur la performance des modèles\", fontsize=14)\n",
    "plt.legend(fontsize=10, loc=\"best\")\n",
    "plt.grid(True, linestyle='--', linewidth=0.6, alpha=0.7)\n",
    "\n",
    "plt.ylim(0.6, 1) \n",
    "plt.xticks(tau_values)  \n",
    "plt.show()"
   ]
  }
 ],
 "metadata": {
  "kernelspec": {
   "display_name": "main_venv",
   "language": "python",
   "name": "python3"
  },
  "language_info": {
   "codemirror_mode": {
    "name": "ipython",
    "version": 3
   },
   "file_extension": ".py",
   "mimetype": "text/x-python",
   "name": "python",
   "nbconvert_exporter": "python",
   "pygments_lexer": "ipython3",
   "version": "3.12.3"
  }
 },
 "nbformat": 4,
 "nbformat_minor": 2
}
